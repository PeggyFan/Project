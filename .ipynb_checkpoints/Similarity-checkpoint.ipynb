{
 "cells": [
  {
   "cell_type": "code",
   "execution_count": 3,
   "metadata": {
    "collapsed": false
   },
   "outputs": [],
   "source": [
    "from collections import Counter\n",
    "from sklearn.metrics.pairwise import cosine_similarity, euclidean_distances\n",
    "from sklearn.feature_extraction.text import CountVectorizer, TfidfVectorizer\n",
    "import numpy as np\n",
    "from nltk.corpus import stopwords\n",
    "from nltk import word_tokenize\n",
    "from sklearn.metrics.pairwise import linear_kernel\n",
    "from bs4 import BeautifulSoup\n",
    "import re\n",
    "import requests\n",
    "import unidecode\n",
    "import string\n",
    "from nltk.stem.snowball import SnowballStemmer\n",
    "snowball = SnowballStemmer('english')\n",
    "import pandas as pd"
   ]
  },
  {
   "cell_type": "code",
   "execution_count": 4,
   "metadata": {
    "collapsed": false
   },
   "outputs": [],
   "source": [
    "master = pd.read_csv('data/master.csv', low_memory=False)"
   ]
  },
  {
   "cell_type": "code",
   "execution_count": 5,
   "metadata": {
    "collapsed": false
   },
   "outputs": [],
   "source": [
    "unique_url = master['URL'].unique()"
   ]
  },
  {
   "cell_type": "code",
   "execution_count": 6,
   "metadata": {
    "collapsed": true
   },
   "outputs": [],
   "source": [
    "def tokenize(doc):\n",
    "    return [snowball.stem(word) for word in word_tokenize(doc.lower())]\n",
    "\n",
    "tfidfvect = TfidfVectorizer(stop_words='english', tokenizer=tokenize)"
   ]
  },
  {
   "cell_type": "code",
   "execution_count": null,
   "metadata": {
    "collapsed": false
   },
   "outputs": [],
   "source": [
    "for url in unique_url:\n",
    "    html = requests.get(url).content\n",
    "    soup = BeautifulSoup(html, 'html.parser')\n",
    "    body = soup.find_all('p', class_= \"story-body-text story-content\")\n",
    "    content = '\\n'.join([i.text for i in soup.select('p.story-body-text')])\n",
    "    body_text = unidecode.unidecode(content).replace(\"\\n\",\" \").replace(\"\\'s\",\"\").replace(\"\\'t\",\"\")\n",
    "    master['Article'] = unidecode.unidecode(content).replace(\"\\n\",\" \").replace(\"\\'s\",\"\").replace(\"\\'t\",\"\")\n",
    "\n",
    "    cond = master['URL'] == url\n",
    "    master_url = master[cond]\n",
    "    documents = master_url['Comment']\n",
    "    body_text = np.array(body_text)\n",
    "\n",
    "    documents = np.append(documents.values, body_text) #body_text is the very last element in the array\n",
    "\n",
    "    tfidf_vectorized = tfidfvect.fit_transform(documents).toarray()\n",
    "\n",
    "    similar_to_article = []\n",
    "    for comment in tfidf_vectorized[:-1]:\n",
    "        similar_to_article.append(cosine_similarity(comment, tfidf_vectorized[-1])[0, 0])\n",
    "        \n",
    "    #similar_to_article = linear_kernel(tfidf_vectorized, tfidf_vectorized)[-1][:-1]\n",
    "    master.loc[cond, 'tfidf_similarity'] = np.array(similar_to_article)"
   ]
  },
  {
   "cell_type": "code",
   "execution_count": 107,
   "metadata": {
    "collapsed": false
   },
   "outputs": [],
   "source": [
    "master.iloc[:,-1].to_csv('master_sum.csv')"
   ]
  },
  {
   "cell_type": "code",
   "execution_count": null,
   "metadata": {
    "collapsed": true
   },
   "outputs": [],
   "source": []
  }
 ],
 "metadata": {
  "kernelspec": {
   "display_name": "Python 2",
   "language": "python",
   "name": "python2"
  },
  "language_info": {
   "codemirror_mode": {
    "name": "ipython",
    "version": 2
   },
   "file_extension": ".py",
   "mimetype": "text/x-python",
   "name": "python",
   "nbconvert_exporter": "python",
   "pygments_lexer": "ipython2",
   "version": "2.7.10"
  }
 },
 "nbformat": 4,
 "nbformat_minor": 0
}
