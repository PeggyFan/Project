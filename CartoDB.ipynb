{
 "cells": [
  {
   "cell_type": "code",
   "execution_count": 137,
   "metadata": {
    "collapsed": true
   },
   "outputs": [],
   "source": [
    "import pandas as pd\n",
    "import numpy as np \n",
    "from sklearn.feature_extraction.text import CountVectorizer, TfidfVectorizer\n",
    "from itertools import *\n",
    "import matplotlib.pyplot as plt\n",
    "import re\n",
    "import string\n",
    "import datetime\n",
    "%matplotlib inline"
   ]
  },
  {
   "cell_type": "code",
   "execution_count": 138,
   "metadata": {
    "collapsed": true
   },
   "outputs": [],
   "source": [
    "def unix_convert(x):\n",
    "    return datetime.datetime.fromtimestamp(x).strftime('%Y')"
   ]
  },
  {
   "cell_type": "code",
   "execution_count": 139,
   "metadata": {
    "collapsed": false
   },
   "outputs": [
    {
     "name": "stdout",
     "output_type": "stream",
     "text": [
      "1877\n"
     ]
    }
   ],
   "source": [
    "data = pd.read_csv('data/carson_scores.csv')\n",
    "data[pd.isnull(data['Comment'])] = \"\"\n",
    "def to_filter(text):\n",
    "    terms = ['Carson', 'Ben', 'Dr.Carson']\n",
    "    if any(word in text for word in terms):\n",
    "        return text\n",
    "    else:\n",
    "        return None \n",
    "data['Comment_fil'] = data['Comment'].apply(lambda x : to_filter(x))\n",
    "data['Comment_b'] = pd.notnull(data['Comment_fil'])\n",
    "data2 = data[data['Comment_b']]\n",
    "print len(data2)"
   ]
  },
  {
   "cell_type": "code",
   "execution_count": 140,
   "metadata": {
    "collapsed": false
   },
   "outputs": [
    {
     "name": "stderr",
     "output_type": "stream",
     "text": [
      "/Users/datascientist/anaconda/lib/python2.7/site-packages/ipykernel/__main__.py:1: SettingWithCopyWarning: \n",
      "A value is trying to be set on a copy of a slice from a DataFrame.\n",
      "Try using .loc[row_indexer,col_indexer] = value instead\n",
      "\n",
      "See the the caveats in the documentation: http://pandas.pydata.org/pandas-docs/stable/indexing.html#indexing-view-versus-copy\n",
      "  if __name__ == '__main__':\n"
     ]
    }
   ],
   "source": [
    "data2['date'] = data2['date'].apply(lambda x: unix_convert(x))"
   ]
  },
  {
   "cell_type": "code",
   "execution_count": 141,
   "metadata": {
    "collapsed": false
   },
   "outputs": [],
   "source": [
    "#kw = lambda x: x.isocalendar()[0]\n",
    "#data2['year'] = data2['date'].map(kw)\n",
    "data3 = data2.groupby(['date','longitude', 'latitude', 'Sentiment']).mean().reset_index()\n",
    "data3['Sentiment'] = data3['Sentiment'].apply(lambda x : 1 if x > 0 else 0)"
   ]
  },
  {
   "cell_type": "code",
   "execution_count": 142,
   "metadata": {
    "collapsed": false
   },
   "outputs": [
    {
     "data": {
      "text/plain": [
       "0      2009-09-31\n",
       "1      2009-09-31\n",
       "2      2010-09-31\n",
       "3      2010-09-31\n",
       "4      2010-09-31\n",
       "5      2010-09-31\n",
       "6      2010-09-31\n",
       "7      2010-09-31\n",
       "8      2010-09-31\n",
       "9      2010-09-31\n",
       "10     2010-09-31\n",
       "11     2011-09-31\n",
       "12     2011-09-31\n",
       "13     2011-09-31\n",
       "14     2011-09-31\n",
       "15     2011-09-31\n",
       "16     2011-09-31\n",
       "17     2011-09-31\n",
       "18     2012-09-31\n",
       "19     2012-09-31\n",
       "20     2012-09-31\n",
       "21     2012-09-31\n",
       "22     2012-09-31\n",
       "23     2012-09-31\n",
       "24     2012-09-31\n",
       "25     2012-09-31\n",
       "26     2013-09-31\n",
       "27     2013-09-31\n",
       "28     2013-09-31\n",
       "29     2013-09-31\n",
       "          ...    \n",
       "727    2015-09-31\n",
       "728    2015-09-31\n",
       "729    2015-09-31\n",
       "730    2015-09-31\n",
       "731    2015-09-31\n",
       "732    2015-09-31\n",
       "733    2015-09-31\n",
       "734    2015-09-31\n",
       "735    2015-09-31\n",
       "736    2015-09-31\n",
       "737    2015-09-31\n",
       "738    2015-09-31\n",
       "739    2015-09-31\n",
       "740    2015-09-31\n",
       "741    2015-09-31\n",
       "742    2015-09-31\n",
       "743    2015-09-31\n",
       "744    2015-09-31\n",
       "745    2015-09-31\n",
       "746    2015-09-31\n",
       "747    2015-09-31\n",
       "748    2015-09-31\n",
       "749    2015-09-31\n",
       "750    2015-09-31\n",
       "751    2015-09-31\n",
       "752    2015-09-31\n",
       "753    2015-09-31\n",
       "754    2015-09-31\n",
       "755    2015-09-31\n",
       "756    2015-09-31\n",
       "Name: year, dtype: object"
      ]
     },
     "execution_count": 142,
     "metadata": {},
     "output_type": "execute_result"
    }
   ],
   "source": [
    "data3['year'] = data3['date'].astype(str)\n",
    "data3['year'] = data3['date'].apply(lambda x: x + \"-09-31\") \n",
    "data3['year']"
   ]
  },
  {
   "cell_type": "code",
   "execution_count": 143,
   "metadata": {
    "collapsed": false
   },
   "outputs": [
    {
     "name": "stdout",
     "output_type": "stream",
     "text": [
      "757\n"
     ]
    },
    {
     "data": {
      "text/plain": [
       "array(['2009', '2010', '2011', '2012', '2013', '2014', '2015'], dtype=object)"
      ]
     },
     "execution_count": 143,
     "metadata": {},
     "output_type": "execute_result"
    }
   ],
   "source": [
    "print len(data3)\n",
    "data3['date'].unique()"
   ]
  },
  {
   "cell_type": "code",
   "execution_count": 144,
   "metadata": {
    "collapsed": false
   },
   "outputs": [
    {
     "name": "stdout",
     "output_type": "stream",
     "text": [
      "<class 'pandas.core.frame.DataFrame'>\n",
      "Int64Index: 757 entries, 0 to 756\n",
      "Data columns (total 6 columns):\n",
      "date         757 non-null object\n",
      "longitude    757 non-null float64\n",
      "latitude     757 non-null float64\n",
      "Sentiment    757 non-null int64\n",
      "Comment_b    757 non-null bool\n",
      "year         757 non-null object\n",
      "dtypes: bool(1), float64(2), int64(1), object(2)\n",
      "memory usage: 36.2+ KB\n"
     ]
    }
   ],
   "source": [
    "data3.info()"
   ]
  },
  {
   "cell_type": "code",
   "execution_count": 145,
   "metadata": {
    "collapsed": false
   },
   "outputs": [],
   "source": [
    "data3.to_csv('data/carson_map.csv')\n",
    "#1267232235\n",
    "#1267234125"
   ]
  },
  {
   "cell_type": "markdown",
   "metadata": {},
   "source": [
    "###################################################### "
   ]
  },
  {
   "cell_type": "code",
   "execution_count": 94,
   "metadata": {
    "collapsed": false
   },
   "outputs": [
    {
     "name": "stdout",
     "output_type": "stream",
     "text": [
      "2434\n"
     ]
    }
   ],
   "source": [
    "data = pd.read_csv('data/sanders_scores.csv')\n",
    "data[pd.isnull(data['Comment'])] = \"\"\n",
    "def to_filter(text):\n",
    "    terms = ['Sanders', 'Bernie']\n",
    "    if any(word in text for word in terms):\n",
    "        return text\n",
    "    else:\n",
    "        return None \n",
    "data['Comment_fil'] = data['Comment'].apply(lambda x : to_filter(x))\n",
    "data['Comment_b'] = pd.notnull(data['Comment_fil'])\n",
    "data2 = data[data['Comment_b']]\n",
    "print len(data2)"
   ]
  },
  {
   "cell_type": "code",
   "execution_count": 95,
   "metadata": {
    "collapsed": false
   },
   "outputs": [
    {
     "name": "stdout",
     "output_type": "stream",
     "text": [
      "2010-02-26 00:00:00\n",
      "2015-09-04 00:00:00\n"
     ]
    },
    {
     "name": "stderr",
     "output_type": "stream",
     "text": [
      "/Users/datascientist/anaconda/lib/python2.7/site-packages/ipykernel/__main__.py:1: SettingWithCopyWarning: \n",
      "A value is trying to be set on a copy of a slice from a DataFrame.\n",
      "Try using .loc[row_indexer,col_indexer] = value instead\n",
      "\n",
      "See the the caveats in the documentation: http://pandas.pydata.org/pandas-docs/stable/indexing.html#indexing-view-versus-copy\n",
      "  if __name__ == '__main__':\n"
     ]
    }
   ],
   "source": [
    "data2['date'] = data2['date'].apply(lambda x: unix_convert(x))\n",
    "print data2['date'].min()\n",
    "print data2['date'].max()"
   ]
  },
  {
   "cell_type": "code",
   "execution_count": 96,
   "metadata": {
    "collapsed": false
   },
   "outputs": [
    {
     "name": "stderr",
     "output_type": "stream",
     "text": [
      "/Users/datascientist/anaconda/lib/python2.7/site-packages/ipykernel/__main__.py:2: SettingWithCopyWarning: \n",
      "A value is trying to be set on a copy of a slice from a DataFrame.\n",
      "Try using .loc[row_indexer,col_indexer] = value instead\n",
      "\n",
      "See the the caveats in the documentation: http://pandas.pydata.org/pandas-docs/stable/indexing.html#indexing-view-versus-copy\n",
      "  from ipykernel import kernelapp as app\n"
     ]
    }
   ],
   "source": [
    "kw = lambda x: x.isocalendar()[0]\n",
    "data2['year'] = data2['date'].map(kw)\n",
    "data3 = data2.groupby(['year','longitude', 'latitude', 'Sentiment']).mean().reset_index()\n",
    "data3['Sentiment'] = data3['Sentiment'].apply(lambda x : 1 if x > 0 else 0)"
   ]
  },
  {
   "cell_type": "code",
   "execution_count": 98,
   "metadata": {
    "collapsed": false
   },
   "outputs": [],
   "source": [
    "data3['year'] = data3['year'].astype(str)\n",
    "data3['year'] = data3['year'].apply(lambda x: x + \"-09-31\") "
   ]
  },
  {
   "cell_type": "code",
   "execution_count": 99,
   "metadata": {
    "collapsed": true
   },
   "outputs": [],
   "source": [
    "data3.to_csv('data/sanders_map.csv')"
   ]
  },
  {
   "cell_type": "code",
   "execution_count": 103,
   "metadata": {
    "collapsed": false
   },
   "outputs": [
    {
     "data": {
      "text/html": [
       "<div>\n",
       "<table border=\"1\" class=\"dataframe\">\n",
       "  <thead>\n",
       "    <tr style=\"text-align: right;\">\n",
       "      <th></th>\n",
       "      <th>year</th>\n",
       "      <th>longitude</th>\n",
       "      <th>latitude</th>\n",
       "      <th>Sentiment</th>\n",
       "      <th>Comment_b</th>\n",
       "    </tr>\n",
       "  </thead>\n",
       "  <tbody>\n",
       "    <tr>\n",
       "      <th>0</th>\n",
       "      <td>2010-09-31</td>\n",
       "      <td>-122.1269</td>\n",
       "      <td>44.5672</td>\n",
       "      <td>0</td>\n",
       "      <td>True</td>\n",
       "    </tr>\n",
       "    <tr>\n",
       "      <th>1</th>\n",
       "      <td>2010-09-31</td>\n",
       "      <td>-122.1269</td>\n",
       "      <td>44.5672</td>\n",
       "      <td>1</td>\n",
       "      <td>True</td>\n",
       "    </tr>\n",
       "    <tr>\n",
       "      <th>2</th>\n",
       "      <td>2010-09-31</td>\n",
       "      <td>-119.7462</td>\n",
       "      <td>36.1700</td>\n",
       "      <td>0</td>\n",
       "      <td>True</td>\n",
       "    </tr>\n",
       "    <tr>\n",
       "      <th>3</th>\n",
       "      <td>2010-09-31</td>\n",
       "      <td>-119.7462</td>\n",
       "      <td>36.1700</td>\n",
       "      <td>0</td>\n",
       "      <td>True</td>\n",
       "    </tr>\n",
       "    <tr>\n",
       "      <th>4</th>\n",
       "      <td>2010-09-31</td>\n",
       "      <td>-119.7462</td>\n",
       "      <td>36.1700</td>\n",
       "      <td>1</td>\n",
       "      <td>True</td>\n",
       "    </tr>\n",
       "  </tbody>\n",
       "</table>\n",
       "</div>"
      ],
      "text/plain": [
       "         year  longitude  latitude  Sentiment Comment_b\n",
       "0  2010-09-31  -122.1269   44.5672          0      True\n",
       "1  2010-09-31  -122.1269   44.5672          1      True\n",
       "2  2010-09-31  -119.7462   36.1700          0      True\n",
       "3  2010-09-31  -119.7462   36.1700          0      True\n",
       "4  2010-09-31  -119.7462   36.1700          1      True"
      ]
     },
     "execution_count": 103,
     "metadata": {},
     "output_type": "execute_result"
    }
   ],
   "source": [
    "data3.head()"
   ]
  },
  {
   "cell_type": "code",
   "execution_count": null,
   "metadata": {
    "collapsed": true
   },
   "outputs": [],
   "source": []
  }
 ],
 "metadata": {
  "kernelspec": {
   "display_name": "Python 2",
   "language": "python",
   "name": "python2"
  },
  "language_info": {
   "codemirror_mode": {
    "name": "ipython",
    "version": 2
   },
   "file_extension": ".py",
   "mimetype": "text/x-python",
   "name": "python",
   "nbconvert_exporter": "python",
   "pygments_lexer": "ipython2",
   "version": "2.7.10"
  }
 },
 "nbformat": 4,
 "nbformat_minor": 0
}
