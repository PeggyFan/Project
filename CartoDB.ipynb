{
 "cells": [
  {
   "cell_type": "code",
   "execution_count": 1,
   "metadata": {
    "collapsed": true
   },
   "outputs": [],
   "source": [
    "import pandas as pd\n",
    "import numpy as np \n",
    "from sklearn.feature_extraction.text import CountVectorizer, TfidfVectorizer\n",
    "from itertools import *\n",
    "import matplotlib.pyplot as plt\n",
    "import re\n",
    "import string\n",
    "import datetime\n",
    "%matplotlib inline"
   ]
  },
  {
   "cell_type": "code",
   "execution_count": 2,
   "metadata": {
    "collapsed": true
   },
   "outputs": [],
   "source": [
    "data = pd.read_csv('data/carson_scores.csv')\n",
    "data[pd.isnull(data['Comment'])] = \"\""
   ]
  },
  {
   "cell_type": "code",
   "execution_count": 3,
   "metadata": {
    "collapsed": true
   },
   "outputs": [],
   "source": [
    "def unix_convert(x):\n",
    "    return datetime.datetime.fromtimestamp(x).strftime('%Y-%m-%d')"
   ]
  },
  {
   "cell_type": "code",
   "execution_count": 4,
   "metadata": {
    "collapsed": true
   },
   "outputs": [],
   "source": [
    "def to_filter(text):\n",
    "    terms = ['Carson', 'Ben', 'Dr.Carson']\n",
    "    if any(word in text for word in terms):\n",
    "        return text\n",
    "    else:\n",
    "        return None "
   ]
  },
  {
   "cell_type": "code",
   "execution_count": 5,
   "metadata": {
    "collapsed": false
   },
   "outputs": [
    {
     "name": "stdout",
     "output_type": "stream",
     "text": [
      "1877\n"
     ]
    }
   ],
   "source": [
    "data['Comment_fil'] = data['Comment'].apply(lambda x : to_filter(x))\n",
    "data['Comment_b'] = pd.notnull(data['Comment_fil'])\n",
    "data2 = data[data['Comment_b']]\n",
    "print len(data2)\n"
   ]
  },
  {
   "cell_type": "code",
   "execution_count": 6,
   "metadata": {
    "collapsed": false
   },
   "outputs": [
    {
     "name": "stderr",
     "output_type": "stream",
     "text": [
      "/Users/peggyfan/anaconda/lib/python2.7/site-packages/IPython/kernel/__main__.py:1: SettingWithCopyWarning: A value is trying to be set on a copy of a slice from a DataFrame.\n",
      "Try using .loc[row_index,col_indexer] = value instead\n",
      "  if __name__ == '__main__':\n"
     ]
    }
   ],
   "source": [
    "data2['date'] = data2['date'].apply(lambda x: unix_convert(x))"
   ]
  },
  {
   "cell_type": "code",
   "execution_count": 10,
   "metadata": {
    "collapsed": false
   },
   "outputs": [
    {
     "name": "stdout",
     "output_type": "stream",
     "text": [
      "2009-12-23\n",
      "2015-09-22\n",
      "2015\n"
     ]
    }
   ],
   "source": [
    "print data2['date'].min()\n",
    "print data2['date'].max()\n",
    "print data2['date'][0][:4]"
   ]
  },
  {
   "cell_type": "code",
   "execution_count": 11,
   "metadata": {
    "collapsed": true
   },
   "outputs": [
    {
     "data": {
      "text/html": [
       "<div style=\"max-height:1000px;max-width:1500px;overflow:auto;\">\n",
       "<table border=\"1\" class=\"dataframe\">\n",
       "  <thead>\n",
       "    <tr style=\"text-align: right;\">\n",
       "      <th></th>\n",
       "      <th>Unnamed: 0</th>\n",
       "      <th>Unnamed: 0.1</th>\n",
       "      <th>Comment</th>\n",
       "      <th>URL</th>\n",
       "      <th>Recommendations</th>\n",
       "      <th>Locations</th>\n",
       "      <th>EditorPick</th>\n",
       "      <th>userID</th>\n",
       "      <th>date</th>\n",
       "      <th>Sentiment</th>\n",
       "      <th>Sentiment_raw</th>\n",
       "      <th>State</th>\n",
       "      <th>City</th>\n",
       "      <th>latitude</th>\n",
       "      <th>longitude</th>\n",
       "      <th>Comment_fil</th>\n",
       "      <th>Comment_b</th>\n",
       "      <th>year</th>\n",
       "    </tr>\n",
       "  </thead>\n",
       "  <tbody>\n",
       "    <tr>\n",
       "      <th>0 </th>\n",
       "      <td>  0</td>\n",
       "      <td>  0</td>\n",
       "      <td> Other than that he is of age, what specific, e...</td>\n",
       "      <td> http://www.nytimes.com/2015/03/22/magazine/how...</td>\n",
       "      <td> 19</td>\n",
       "      <td>       Maine</td>\n",
       "      <td> False</td>\n",
       "      <td> 6.666671e+07</td>\n",
       "      <td> 2015-03-18</td>\n",
       "      <td>  -0.00625</td>\n",
       "      <td>   -0.00625</td>\n",
       "      <td>  ME</td>\n",
       "      <td>     NaN</td>\n",
       "      <td> 44.6074</td>\n",
       "      <td>-69.3977</td>\n",
       "      <td> Other than that he is of age, what specific, e...</td>\n",
       "      <td> True</td>\n",
       "      <td> 2015</td>\n",
       "    </tr>\n",
       "    <tr>\n",
       "      <th>5 </th>\n",
       "      <td>  5</td>\n",
       "      <td>  5</td>\n",
       "      <td> Ben Carson reminds me a bit of Dr. Mehmet Oz. ...</td>\n",
       "      <td> http://www.nytimes.com/2015/03/22/magazine/how...</td>\n",
       "      <td> 22</td>\n",
       "      <td>          NY</td>\n",
       "      <td> False</td>\n",
       "      <td> 3.683132e+07</td>\n",
       "      <td> 2015-03-18</td>\n",
       "      <td>         1</td>\n",
       "      <td>  0.2964286</td>\n",
       "      <td>  NY</td>\n",
       "      <td>      Ny</td>\n",
       "      <td> 42.1497</td>\n",
       "      <td>-74.9384</td>\n",
       "      <td> Ben Carson reminds me a bit of Dr. Mehmet Oz. ...</td>\n",
       "      <td> True</td>\n",
       "      <td> 2015</td>\n",
       "    </tr>\n",
       "    <tr>\n",
       "      <th>17</th>\n",
       "      <td> 17</td>\n",
       "      <td> 17</td>\n",
       "      <td> Deanna Bass has her work cut out for her but  ...</td>\n",
       "      <td> http://www.nytimes.com/2015/03/22/magazine/how...</td>\n",
       "      <td>  7</td>\n",
       "      <td>      Canada</td>\n",
       "      <td> False</td>\n",
       "      <td>  5.36545e+07</td>\n",
       "      <td> 2015-03-18</td>\n",
       "      <td>       0.8</td>\n",
       "      <td> 0.02200216</td>\n",
       "      <td> NaN</td>\n",
       "      <td>  Canada</td>\n",
       "      <td>     NaN</td>\n",
       "      <td>     NaN</td>\n",
       "      <td> Deanna Bass has her work cut out for her but  ...</td>\n",
       "      <td> True</td>\n",
       "      <td> 2015</td>\n",
       "    </tr>\n",
       "    <tr>\n",
       "      <th>18</th>\n",
       "      <td> 18</td>\n",
       "      <td> 18</td>\n",
       "      <td> \"...His life in brain surgery has prepared him...</td>\n",
       "      <td> http://www.nytimes.com/2015/03/22/magazine/how...</td>\n",
       "      <td>  4</td>\n",
       "      <td> Houston, TX</td>\n",
       "      <td> False</td>\n",
       "      <td> 7.134499e+07</td>\n",
       "      <td> 2015-03-18</td>\n",
       "      <td>       0.5</td>\n",
       "      <td> 0.07078571</td>\n",
       "      <td>  TX</td>\n",
       "      <td> Houston</td>\n",
       "      <td>  31.106</td>\n",
       "      <td>-97.6475</td>\n",
       "      <td> \"...His life in brain surgery has prepared him...</td>\n",
       "      <td> True</td>\n",
       "      <td> 2015</td>\n",
       "    </tr>\n",
       "    <tr>\n",
       "      <th>19</th>\n",
       "      <td> 19</td>\n",
       "      <td> 19</td>\n",
       "      <td> The small minded Progressives blasting Republi...</td>\n",
       "      <td> http://www.nytimes.com/2015/03/22/magazine/how...</td>\n",
       "      <td>  5</td>\n",
       "      <td>      bk,nyc</td>\n",
       "      <td> False</td>\n",
       "      <td>      1456724</td>\n",
       "      <td> 2015-03-18</td>\n",
       "      <td> 0.1166667</td>\n",
       "      <td>  0.1166667</td>\n",
       "      <td> NaN</td>\n",
       "      <td>  Bk,Nyc</td>\n",
       "      <td>     NaN</td>\n",
       "      <td>     NaN</td>\n",
       "      <td> The small minded Progressives blasting Republi...</td>\n",
       "      <td> True</td>\n",
       "      <td> 2015</td>\n",
       "    </tr>\n",
       "  </tbody>\n",
       "</table>\n",
       "</div>"
      ],
      "text/plain": [
       "   Unnamed: 0 Unnamed: 0.1                                            Comment  \\\n",
       "0           0            0  Other than that he is of age, what specific, e...   \n",
       "5           5            5  Ben Carson reminds me a bit of Dr. Mehmet Oz. ...   \n",
       "17         17           17  Deanna Bass has her work cut out for her but  ...   \n",
       "18         18           18  \"...His life in brain surgery has prepared him...   \n",
       "19         19           19  The small minded Progressives blasting Republi...   \n",
       "\n",
       "                                                  URL Recommendations  \\\n",
       "0   http://www.nytimes.com/2015/03/22/magazine/how...              19   \n",
       "5   http://www.nytimes.com/2015/03/22/magazine/how...              22   \n",
       "17  http://www.nytimes.com/2015/03/22/magazine/how...               7   \n",
       "18  http://www.nytimes.com/2015/03/22/magazine/how...               4   \n",
       "19  http://www.nytimes.com/2015/03/22/magazine/how...               5   \n",
       "\n",
       "      Locations EditorPick        userID        date  Sentiment Sentiment_raw  \\\n",
       "0         Maine      False  6.666671e+07  2015-03-18   -0.00625      -0.00625   \n",
       "5            NY      False  3.683132e+07  2015-03-18          1     0.2964286   \n",
       "17       Canada      False   5.36545e+07  2015-03-18        0.8    0.02200216   \n",
       "18  Houston, TX      False  7.134499e+07  2015-03-18        0.5    0.07078571   \n",
       "19       bk,nyc      False       1456724  2015-03-18  0.1166667     0.1166667   \n",
       "\n",
       "   State     City latitude longitude  \\\n",
       "0     ME      NaN  44.6074  -69.3977   \n",
       "5     NY       Ny  42.1497  -74.9384   \n",
       "17   NaN   Canada      NaN       NaN   \n",
       "18    TX  Houston   31.106  -97.6475   \n",
       "19   NaN   Bk,Nyc      NaN       NaN   \n",
       "\n",
       "                                          Comment_fil Comment_b  year  \n",
       "0   Other than that he is of age, what specific, e...      True  2015  \n",
       "5   Ben Carson reminds me a bit of Dr. Mehmet Oz. ...      True  2015  \n",
       "17  Deanna Bass has her work cut out for her but  ...      True  2015  \n",
       "18  \"...His life in brain surgery has prepared him...      True  2015  \n",
       "19  The small minded Progressives blasting Republi...      True  2015  "
      ]
     },
     "execution_count": 11,
     "metadata": {},
     "output_type": "execute_result"
    }
   ],
   "source": [
    "data2['year'] = data2['date'].apply(lambda x: x[:4])\n",
    "data2.head()"
   ]
  },
  {
   "cell_type": "code",
   "execution_count": 12,
   "metadata": {
    "collapsed": false
   },
   "outputs": [],
   "source": [
    "data3 = data2.groupby(['year','longitude', 'latitude', 'Sentiment']).mean().reset_index()\n",
    "data3['Sentiment'] = data3['Sentiment'].apply(lambda x : 1 if x > 0 else 0)\n",
    "#data3['date'] = data3['date'].apply(lambda x: x + \"-01\") "
   ]
  },
  {
   "cell_type": "code",
   "execution_count": 13,
   "metadata": {
    "collapsed": false
   },
   "outputs": [
    {
     "name": "stdout",
     "output_type": "stream",
     "text": [
      "757\n"
     ]
    },
    {
     "data": {
      "text/plain": [
       "array(['2009', '2010', '2011', '2012', '2013', '2014', '2015'], dtype=object)"
      ]
     },
     "execution_count": 13,
     "metadata": {},
     "output_type": "execute_result"
    }
   ],
   "source": [
    "print len(data3)\n",
    "data3['year'].unique()"
   ]
  },
  {
   "cell_type": "code",
   "execution_count": 14,
   "metadata": {
    "collapsed": false
   },
   "outputs": [],
   "source": [
    "data3.to_csv('data/carson_map.csv')\n",
    "#1267232235\n",
    "#1267234125"
   ]
  },
  {
   "cell_type": "code",
   "execution_count": 59,
   "metadata": {
    "collapsed": false
   },
   "outputs": [
    {
     "data": {
      "text/plain": [
       "Index([u'date', u'longitude', u'latitude', u'Sentiment', u'Unnamed: 0',\n",
       "       u'Unnamed: 0.1', u'Recommendations', u'EditorPick', u'userID',\n",
       "       u'Comment_b'],\n",
       "      dtype='object')"
      ]
     },
     "execution_count": 59,
     "metadata": {},
     "output_type": "execute_result"
    }
   ],
   "source": [
    "data3.columns"
   ]
  },
  {
   "cell_type": "code",
   "execution_count": null,
   "metadata": {
    "collapsed": true
   },
   "outputs": [],
   "source": []
  }
 ],
 "metadata": {
  "kernelspec": {
   "display_name": "Python 2",
   "language": "python",
   "name": "python2"
  },
  "language_info": {
   "codemirror_mode": {
    "name": "ipython",
    "version": 2
   },
   "file_extension": ".py",
   "mimetype": "text/x-python",
   "name": "python",
   "nbconvert_exporter": "python",
   "pygments_lexer": "ipython2",
   "version": "2.7.10"
  }
 },
 "nbformat": 4,
 "nbformat_minor": 0
}
