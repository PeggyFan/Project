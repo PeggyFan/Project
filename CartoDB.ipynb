{
 "cells": [
  {
   "cell_type": "code",
   "execution_count": 114,
   "metadata": {
    "collapsed": true
   },
   "outputs": [],
   "source": [
    "import pandas as pd\n",
    "import numpy as np \n",
    "from sklearn.feature_extraction.text import CountVectorizer, TfidfVectorizer\n",
    "from itertools import *\n",
    "import matplotlib.pyplot as plt\n",
    "import re\n",
    "import string\n",
    "import datetime\n",
    "%matplotlib inline"
   ]
  },
  {
   "cell_type": "code",
   "execution_count": 115,
   "metadata": {
    "collapsed": true
   },
   "outputs": [],
   "source": [
    "data = pd.read_csv('data/carson_scores.csv')\n",
    "data[pd.isnull(data['Comment'])] = \"\""
   ]
  },
  {
   "cell_type": "code",
   "execution_count": 116,
   "metadata": {
    "collapsed": true
   },
   "outputs": [],
   "source": [
    "def unix_convert(x):\n",
    "    return datetime.datetime.fromtimestamp(x).strftime('%Y-%m-%d')"
   ]
  },
  {
   "cell_type": "code",
   "execution_count": 117,
   "metadata": {
    "collapsed": true
   },
   "outputs": [],
   "source": [
    "def to_filter(text):\n",
    "    terms = ['Carson', 'Ben', 'Dr.Carson']\n",
    "    if any(word in text for word in terms):\n",
    "        return text\n",
    "    else:\n",
    "        return None "
   ]
  },
  {
   "cell_type": "code",
   "execution_count": 118,
   "metadata": {
    "collapsed": false
   },
   "outputs": [
    {
     "name": "stdout",
     "output_type": "stream",
     "text": [
      "1877\n"
     ]
    }
   ],
   "source": [
    "data['Comment_fil'] = data['Comment'].apply(lambda x : to_filter(x))\n",
    "data['Comment_b'] = pd.notnull(data['Comment_fil'])\n",
    "data2 = data[data['Comment_b']]\n",
    "print len(data2)\n"
   ]
  },
  {
   "cell_type": "code",
   "execution_count": 119,
   "metadata": {
    "collapsed": false
   },
   "outputs": [
    {
     "name": "stderr",
     "output_type": "stream",
     "text": [
      "/Users/peggyfan/anaconda/lib/python2.7/site-packages/IPython/kernel/__main__.py:1: SettingWithCopyWarning: A value is trying to be set on a copy of a slice from a DataFrame.\n",
      "Try using .loc[row_index,col_indexer] = value instead\n",
      "  if __name__ == '__main__':\n"
     ]
    }
   ],
   "source": [
    "data2['date'] = data2['date'].apply(lambda x: unix_convert(x))"
   ]
  },
  {
   "cell_type": "code",
   "execution_count": 120,
   "metadata": {
    "collapsed": false
   },
   "outputs": [
    {
     "name": "stdout",
     "output_type": "stream",
     "text": [
      "2009-12-23\n",
      "2015-09-22\n"
     ]
    }
   ],
   "source": [
    "print data2['date'].min()\n",
    "print data2['date'].max()"
   ]
  },
  {
   "cell_type": "code",
   "execution_count": 121,
   "metadata": {
    "collapsed": false
   },
   "outputs": [],
   "source": [
    "data3 = data2.groupby(['date','longitude', 'latitude', 'Sentiment']).mean().reset_index()\n",
    "data3['Sentiment'] = data3['Sentiment'].apply(lambda x : 1 if x > 0 else 0)\n",
    "data3['date'] = data3['date'].apply(lambda x: x + \"-01\") "
   ]
  },
  {
   "cell_type": "code",
   "execution_count": 122,
   "metadata": {
    "collapsed": false
   },
   "outputs": [
    {
     "name": "stdout",
     "output_type": "stream",
     "text": [
      "1010\n"
     ]
    },
    {
     "data": {
      "text/plain": [
       "array(['2009-12-23-01', '2009-12-26-01', '2010-01-09-01', '2010-01-10-01',\n",
       "       '2010-04-22-01', '2010-05-05-01', '2010-11-10-01', '2010-12-31-01',\n",
       "       '2011-06-19-01', '2011-06-29-01', '2011-07-08-01', '2011-07-10-01',\n",
       "       '2011-09-09-01', '2011-09-23-01', '2011-11-23-01', '2012-03-21-01',\n",
       "       '2012-04-12-01', '2012-08-01-01', '2012-08-02-01', '2013-03-16-01',\n",
       "       '2013-03-17-01', '2013-03-21-01', '2013-04-03-01', '2013-04-04-01',\n",
       "       '2013-05-22-01', '2013-05-23-01', '2013-10-16-01', '2013-10-17-01',\n",
       "       '2014-06-20-01', '2014-07-12-01', '2014-09-29-01', '2014-11-09-01',\n",
       "       '2014-11-13-01', '2014-11-15-01', '2014-11-16-01', '2015-01-14-01',\n",
       "       '2015-01-15-01', '2015-01-27-01', '2015-01-28-01', '2015-02-08-01',\n",
       "       '2015-03-03-01', '2015-03-04-01', '2015-03-05-01', '2015-03-17-01',\n",
       "       '2015-03-18-01', '2015-03-19-01', '2015-03-20-01', '2015-03-21-01',\n",
       "       '2015-03-22-01', '2015-03-25-01', '2015-04-09-01', '2015-04-16-01',\n",
       "       '2015-04-27-01', '2015-04-29-01', '2015-04-30-01', '2015-05-02-01',\n",
       "       '2015-05-04-01', '2015-05-05-01', '2015-05-07-01', '2015-05-08-01',\n",
       "       '2015-05-09-01', '2015-05-10-01', '2015-05-16-01', '2015-05-17-01',\n",
       "       '2015-05-18-01', '2015-05-19-01', '2015-05-25-01', '2015-06-03-01',\n",
       "       '2015-06-17-01', '2015-07-04-01', '2015-07-07-01', '2015-07-08-01',\n",
       "       '2015-07-09-01', '2015-07-13-01', '2015-08-01-01', '2015-08-02-01',\n",
       "       '2015-08-03-01', '2015-08-04-01', '2015-08-05-01', '2015-08-06-01',\n",
       "       '2015-08-07-01', '2015-08-09-01', '2015-08-10-01', '2015-08-13-01',\n",
       "       '2015-08-18-01', '2015-08-19-01', '2015-08-20-01', '2015-08-21-01',\n",
       "       '2015-08-22-01', '2015-08-26-01', '2015-09-01-01', '2015-09-02-01',\n",
       "       '2015-09-03-01', '2015-09-05-01', '2015-09-06-01', '2015-09-08-01',\n",
       "       '2015-09-10-01', '2015-09-11-01', '2015-09-13-01', '2015-09-14-01',\n",
       "       '2015-09-15-01', '2015-09-16-01', '2015-09-17-01', '2015-09-18-01',\n",
       "       '2015-09-19-01', '2015-09-20-01', '2015-09-21-01', '2015-09-22-01'], dtype=object)"
      ]
     },
     "execution_count": 122,
     "metadata": {},
     "output_type": "execute_result"
    }
   ],
   "source": [
    "print len(data3)\n",
    "data3['date'].unique()"
   ]
  },
  {
   "cell_type": "code",
   "execution_count": 123,
   "metadata": {
    "collapsed": false
   },
   "outputs": [],
   "source": [
    "data3.to_csv('data/carson_map.csv')\n",
    "#1267232235\n",
    "#1267234125"
   ]
  },
  {
   "cell_type": "code",
   "execution_count": 59,
   "metadata": {
    "collapsed": false
   },
   "outputs": [
    {
     "data": {
      "text/plain": [
       "Index([u'date', u'longitude', u'latitude', u'Sentiment', u'Unnamed: 0',\n",
       "       u'Unnamed: 0.1', u'Recommendations', u'EditorPick', u'userID',\n",
       "       u'Comment_b'],\n",
       "      dtype='object')"
      ]
     },
     "execution_count": 59,
     "metadata": {},
     "output_type": "execute_result"
    }
   ],
   "source": [
    "data3.columns"
   ]
  },
  {
   "cell_type": "code",
   "execution_count": null,
   "metadata": {
    "collapsed": true
   },
   "outputs": [],
   "source": []
  }
 ],
 "metadata": {
  "kernelspec": {
   "display_name": "Python 2",
   "language": "python",
   "name": "python2"
  },
  "language_info": {
   "codemirror_mode": {
    "name": "ipython",
    "version": 2
   },
   "file_extension": ".py",
   "mimetype": "text/x-python",
   "name": "python",
   "nbconvert_exporter": "python",
   "pygments_lexer": "ipython2",
   "version": "2.7.10"
  }
 },
 "nbformat": 4,
 "nbformat_minor": 0
}
