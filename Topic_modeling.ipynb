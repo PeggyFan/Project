{
 "cells": [
  {
   "cell_type": "code",
   "execution_count": 13,
   "metadata": {
    "collapsed": true
   },
   "outputs": [],
   "source": [
    "import pandas as pd\n",
    "import numpy as np \n",
    "import sklearn.cluster\n",
    "from sklearn.feature_extraction.text import CountVectorizer, TfidfVectorizer\n",
    "from sklearn.cluster import KMeans\n",
    "import matplotlib.pyplot as plt\n",
    "from numpy.linalg import lstsq\n",
    "from sklearn.decomposition import NMF\n",
    "from sklearn.metrics import mean_squared_error\n",
    "from sklearn.feature_extraction import text \n",
    "import re\n",
    "%matplotlib inline"
   ]
  },
  {
   "cell_type": "code",
   "execution_count": 14,
   "metadata": {
    "collapsed": true
   },
   "outputs": [],
   "source": [
    "def remove_html_tags(data):\n",
    "    p = re.compile(r'<[^<]*?>')\n",
    "    return p.sub('', data)\n",
    "     "
   ]
  },
  {
   "cell_type": "code",
   "execution_count": 32,
   "metadata": {
    "collapsed": false
   },
   "outputs": [
    {
     "name": "stdout",
     "output_type": "stream",
     "text": [
      "##################################################\n",
      "Topic #1:\n",
      "bernie sanders socialist support win media candidate senator campaign article\n",
      "Topic #2:\n",
      "biden joe run president vice man vp love legacy good\n",
      "Topic #3:\n",
      "people like don just time think know good want really\n",
      "Topic #4:\n",
      "trump donald mr gop fox debate bush fiorina media candidates\n",
      "Topic #5:\n",
      "college government money pay education students tax free tuition student\n",
      "Topic #6:\n",
      "iran deal obama war nuclear president israel agreement world sanctions\n",
      "Topic #7:\n",
      "clinton mrs ms mr email bush secretary sanders campaign president\n",
      "Topic #8:\n",
      "hillary woman obama win email democrats president campaign emails server\n",
      "Topic #9:\n",
      "times news nyt new story coverage york ny article readers\n",
      "Topic #10:\n",
      "republican party vote candidate democratic candidates democrats republicans election win\n",
      "##################################################\n",
      "Topic #1:\n",
      "biden joe run president vice running son time man mr\n",
      "Topic #2:\n",
      "times story news nyt coverage new york ny reporting article\n",
      "Topic #3:\n",
      "bernie sanders hillary supporters campaign candidate socialist angry media support\n",
      "Topic #4:\n",
      "clinton hillary mrs email server emails bush classified state secretary\n",
      "Topic #5:\n",
      "iran deal obama war nuclear israel president agreement iraq years\n",
      "Topic #6:\n",
      "school bomb teacher police clock like kid ahmed engineering did\n",
      "Topic #7:\n",
      "people don time just like country want money think government\n",
      "Topic #8:\n",
      "trump donald mr candidates bush fiorina gop debate fox media\n",
      "Topic #9:\n",
      "party republican vote gop democratic candidate republicans candidates democrats base\n",
      "Topic #10:\n",
      "black white lives matter blow people vote blacks crime police\n"
     ]
    }
   ],
   "source": [
    "hilary = pd.read_csv('data/hilary_scores.csv')\n",
    "hilary_pos = hilary[hilary['Sentiment_b']==1]\n",
    "hilary_neg = hilary[hilary['Sentiment_b']==0]\n",
    "\n",
    "vectorizer = TfidfVectorizer(stop_words='english', max_features = 5000)\n",
    "list_ = [hilary_pos, hilary_neg]\n",
    "\n",
    "for i in list_:\n",
    "    print(\"##################################################\")\n",
    "    V = vectorizer.fit_transform(i['Comment'].values).toarray()\n",
    "    features = vectorizer.get_feature_names()\n",
    "    nmf = NMF(n_components=10).fit(V)\n",
    "\n",
    "    for topic_idx, topic in enumerate(nmf.components_, 1):\n",
    "        print(\"Topic #%d:\" % topic_idx)\n",
    "        print(\" \".join([features[i]\n",
    "                        for i in topic.argsort()[:-10 - 1:-1]]))\n"
   ]
  },
  {
   "cell_type": "code",
   "execution_count": 36,
   "metadata": {
    "collapsed": false
   },
   "outputs": [
    {
     "data": {
      "text/plain": [
       "20795"
      ]
     },
     "execution_count": 36,
     "metadata": {},
     "output_type": "execute_result"
    }
   ],
   "source": [
    "len(hilary_pos)"
   ]
  },
  {
   "cell_type": "code",
   "execution_count": 37,
   "metadata": {
    "collapsed": false
   },
   "outputs": [
    {
     "data": {
      "text/plain": [
       "6607"
      ]
     },
     "execution_count": 37,
     "metadata": {},
     "output_type": "execute_result"
    }
   ],
   "source": [
    "len(hilary_neg)"
   ]
  },
  {
   "cell_type": "code",
   "execution_count": 49,
   "metadata": {
    "collapsed": false
   },
   "outputs": [
    {
     "name": "stdout",
     "output_type": "stream",
     "text": [
      "##################################################\n",
      "Topic #1:\n",
      "bernie sanders senator love vermont need president like socialist thank\n",
      "Topic #2:\n",
      "tax cuts taxes pay social security rich income money cut\n",
      "Topic #3:\n",
      "class middle working jobs american poor income workers economic rich\n",
      "Topic #4:\n",
      "party republican democratic democrats right left republicans candidate candidates election\n",
      "Topic #5:\n",
      "clinton sanders mrs bush ms senator issues campaign mr foundation\n",
      "Topic #6:\n",
      "vote got don ll primary election voting voted republican win\n",
      "Topic #7:\n",
      "president obama legacy trade republicans barack deal 2012 did congress\n",
      "Topic #8:\n",
      "people american money government country don work corporations know think\n",
      "Topic #9:\n",
      "hillary candidate warren maureen jeb campaign ll 2016 money win\n",
      "Topic #10:\n",
      "like just good time don need world think country food\n",
      "##################################################\n",
      "Topic #1:\n",
      "obama president deal legacy trade republicans tpp democrats agreement secret\n",
      "Topic #2:\n",
      "bernie sanders senator candidate socialist truth mr running long campaign\n",
      "Topic #3:\n",
      "class middle poor working income americans american politicians jobs lower\n",
      "Topic #4:\n",
      "hillary clinton left woman bush gop candidate running jeb democrat\n",
      "Topic #5:\n",
      "just like don time know think say bad way really\n",
      "Topic #6:\n",
      "tax pay money congress jobs government social cuts security taxes\n",
      "Topic #7:\n",
      "people government american america nation country common believe poor leaders\n",
      "Topic #8:\n",
      "vote ll candidate country don election primaries president congress republican\n",
      "Topic #9:\n",
      "war military isis iraq day fight american draft bush memorial\n",
      "Topic #10:\n",
      "party republican democratic democrats tea republicans candidates political base election\n"
     ]
    }
   ],
   "source": [
    "sanders = pd.read_csv('data/sanders_scores.csv')\n",
    "sanders[pd.isnull(sanders['Comment'])] = \"\"\n",
    "\n",
    "sanders_pos = sanders[sanders['Sentiment_b']==1]\n",
    "sanders_neg = sanders[sanders['Sentiment_b']==0]\n",
    "\n",
    "vectorizer = TfidfVectorizer(stop_words='english', max_features = 5000)\n",
    "\n",
    "list_ = [sanders_pos, sanders_neg]\n",
    "\n",
    "for i in list_:\n",
    "    print(\"##################################################\")\n",
    "    \n",
    "    V = vectorizer.fit_transform(i['Comment'].values).toarray()\n",
    "    features = vectorizer.get_feature_names()\n",
    "    nmf = NMF(n_components=10).fit(V)\n",
    "\n",
    "    for topic_idx, topic in enumerate(nmf.components_, 1):\n",
    "        print(\"Topic #%d:\" % topic_idx)\n",
    "        print(\" \".join([features[i]\n",
    "                        for i in topic.argsort()[:-10 - 1:-1]]))"
   ]
  },
  {
   "cell_type": "code",
   "execution_count": 43,
   "metadata": {
    "collapsed": false
   },
   "outputs": [
    {
     "data": {
      "text/plain": [
       "2714"
      ]
     },
     "execution_count": 43,
     "metadata": {},
     "output_type": "execute_result"
    }
   ],
   "source": [
    "len(sanders_neg)"
   ]
  },
  {
   "cell_type": "code",
   "execution_count": 50,
   "metadata": {
    "collapsed": false
   },
   "outputs": [
    {
     "name": "stdout",
     "output_type": "stream",
     "text": [
      "##################################################\n",
      "Topic #1:\n",
      "bernie sanders socialist support win media candidate senator campaign article\n",
      "Topic #2:\n",
      "biden joe run president vice man vp love legacy good\n",
      "Topic #3:\n",
      "people like don just time think know good want really\n",
      "Topic #4:\n",
      "trump donald mr gop fox debate bush fiorina media candidates\n",
      "Topic #5:\n",
      "college government money pay education students tax free tuition student\n",
      "Topic #6:\n",
      "iran deal obama war nuclear president israel agreement world sanctions\n",
      "Topic #7:\n",
      "clinton mrs ms mr email bush secretary sanders campaign president\n",
      "Topic #8:\n",
      "hillary woman obama win email democrats president campaign emails server\n",
      "Topic #9:\n",
      "times news nyt new story coverage york ny article readers\n",
      "Topic #10:\n",
      "republican party vote candidate democratic candidates democrats republicans election win\n",
      "##################################################\n",
      "Topic #1:\n",
      "biden joe run president vice running son time man mr\n",
      "Topic #2:\n",
      "times story news nyt coverage new york ny reporting article\n",
      "Topic #3:\n",
      "bernie sanders hillary supporters campaign candidate socialist angry media support\n",
      "Topic #4:\n",
      "clinton hillary mrs email server emails bush classified state secretary\n",
      "Topic #5:\n",
      "iran deal obama war nuclear israel president agreement iraq years\n",
      "Topic #6:\n",
      "school bomb teacher police clock like kid ahmed engineering did\n",
      "Topic #7:\n",
      "people don time just like country want money think government\n",
      "Topic #8:\n",
      "trump donald mr candidates bush fiorina gop debate fox media\n",
      "Topic #9:\n",
      "party republican vote gop democratic candidate republicans candidates democrats base\n",
      "Topic #10:\n",
      "black white lives matter blow people vote blacks crime police\n"
     ]
    }
   ],
   "source": [
    "biden = pd.read_csv('data/biden_scores.csv')\n",
    "vectorizer = TfidfVectorizer(stop_words='english', max_features = 5000)\n",
    "\n",
    "biden_pos = biden[biden['Sentiment_b']==1]\n",
    "biden_neg = biden[biden['Sentiment_b']==0]\n",
    "\n",
    "list_ = [biden_pos, biden_neg]\n",
    "\n",
    "for i in list_:\n",
    "    print(\"##################################################\")\n",
    "    V = vectorizer.fit_transform(i['Comment'].values).toarray()\n",
    "    features = vectorizer.get_feature_names()\n",
    "    nmf = NMF(n_components=10).fit(V)\n",
    "\n",
    "    for topic_idx, topic in enumerate(nmf.components_, 1):\n",
    "        print(\"Topic #%d:\" % topic_idx)\n",
    "        print(\" \".join([features[i]\n",
    "                        for i in topic.argsort()[:-10 - 1:-1]]))"
   ]
  },
  {
   "cell_type": "code",
   "execution_count": 51,
   "metadata": {
    "collapsed": false
   },
   "outputs": [
    {
     "data": {
      "text/plain": [
       "6607"
      ]
     },
     "execution_count": 51,
     "metadata": {},
     "output_type": "execute_result"
    }
   ],
   "source": [
    "len(biden_neg)"
   ]
  },
  {
   "cell_type": "code",
   "execution_count": 52,
   "metadata": {
    "collapsed": false,
    "scrolled": false
   },
   "outputs": [
    {
     "name": "stdout",
     "output_type": "stream",
     "text": [
      "##################################################\n",
      "Topic #1:\n",
      "trump donald campaign supporters support media 2016 great says polls\n",
      "Topic #2:\n",
      "party republican republicans democratic candidates democrats candidate democrat tea voters\n",
      "Topic #3:\n",
      "sanders bernie hillary clinton brooks biden times experience governing democratic\n",
      "Topic #4:\n",
      "people country american america immigration world americans immigrants great political\n",
      "Topic #5:\n",
      "mr ramos brooks trump bruni column blow thank right press\n",
      "Topic #6:\n",
      "bush jeb brother safe george kept clinton smarter family iraq\n",
      "Topic #7:\n",
      "like just think don really say know want does doesn\n",
      "Topic #8:\n",
      "debate candidates media news cnn fox time issues questions reality\n",
      "Topic #9:\n",
      "gop candidate candidates nomination win women run voters base election\n",
      "Topic #10:\n",
      "president obama running run elected states united biden clinton man\n",
      "##################################################\n",
      "Topic #1:\n",
      "trump donald media just doesn support man does kelly president\n",
      "Topic #2:\n",
      "debate cnn candidates news media fox fiorina did questions time\n",
      "Topic #3:\n",
      "bush jeb brother president george smarter clinton family hillary iraq\n",
      "Topic #4:\n",
      "illegal immigration immigrants legal aliens country laws border citizenship immigrant\n",
      "Topic #5:\n",
      "mr ramos trump brooks press conference blow bruni turn journalist\n",
      "Topic #6:\n",
      "people just country don think american want world president america\n",
      "Topic #7:\n",
      "sanders bernie hillary clinton brooks experience david governing candidate senator\n",
      "Topic #8:\n",
      "republican party republicans base candidates candidate voters democrats vote election\n",
      "Topic #9:\n",
      "like don look military say think looks school mean sounds\n",
      "Topic #10:\n",
      "gop base candidates trump voters hate years conservative class fact\n"
     ]
    }
   ],
   "source": [
    "trump = pd.read_csv('data/trump_scores.csv')\n",
    "pd.isnull(trump['Comment']).sum()\n",
    "#sanders[pd.isnull(sanders['Comment'])] = \"\"\n",
    "\n",
    "trump_pos = trump[trump['Sentiment_b']==1]\n",
    "trump_neg = trump[trump['Sentiment_b']==0]\n",
    "\n",
    "vectorizer = TfidfVectorizer(stop_words='english', max_features = 5000)\n",
    "\n",
    "list_ = [trump_pos, trump_neg]\n",
    "\n",
    "for i in list_:\n",
    "    print(\"##################################################\")\n",
    "\n",
    "    V = vectorizer.fit_transform(i['Comment'].values).toarray() \n",
    "    features = vectorizer.get_feature_names()\n",
    "    nmf = NMF(n_components=10).fit(V)\n",
    "\n",
    "    for topic_idx, topic in enumerate(nmf.components_, 1):\n",
    "        print(\"Topic #%d:\" % topic_idx)\n",
    "        print(\" \".join([features[i]\n",
    "             for i in topic.argsort()[:-10 - 1:-1]]))"
   ]
  },
  {
   "cell_type": "code",
   "execution_count": 65,
   "metadata": {
    "collapsed": false
   },
   "outputs": [
    {
     "name": "stdout",
     "output_type": "stream",
     "text": [
      "##################################################\n",
      "Topic #1:\n",
      "trump donald gop mccain media america president says say polls\n",
      "Topic #2:\n",
      "work time hours working jobs people workers longer job labor\n",
      "Topic #3:\n",
      "jeb bush brother george family smart smarter florida campaign iraq\n",
      "Topic #4:\n",
      "sanders bernie times coverage nyt media campaign candidate candidates news\n",
      "Topic #5:\n",
      "republican party candidates republicans gop candidate voters democratic vote democrats\n",
      "Topic #6:\n",
      "mr colbert krugman bruni thank trump obama said new right\n",
      "Topic #7:\n",
      "tax taxes government medicare rich income pay money cuts growth\n",
      "Topic #8:\n",
      "people like just don think country really good know right\n",
      "Topic #9:\n",
      "hillary clinton president biden joe run obama vote dowd win\n",
      "Topic #10:\n",
      "iran deal israel nuclear war obama agreement sanctions world weapons\n",
      "##################################################\n",
      "Topic #1:\n",
      "jeb bush brother family george smarter just smart florida campaign\n",
      "Topic #2:\n",
      "republican party base candidates candidate republicans vote voters tea democrats\n",
      "Topic #3:\n",
      "illegal immigrants immigration country undocumented legal illegally immigrant aliens law\n",
      "Topic #4:\n",
      "people country american white tired vote think politicians want black\n",
      "Topic #5:\n",
      "just like government don work know money tax say time\n",
      "Topic #6:\n",
      "sanders bernie times hillary clinton coverage candidate media nyt ms\n",
      "Topic #7:\n",
      "president obama republicans run running country biden office democrats clinton\n",
      "Topic #8:\n",
      "iran deal nuclear israel war sanctions agreement bomb weapons iraq\n",
      "Topic #9:\n",
      "gop candidates base kasich voters candidate presidential party clown white\n",
      "Topic #10:\n",
      "trump donald mr media mccain like candidates think comments does\n"
     ]
    }
   ],
   "source": [
    "bush = pd.read_csv('data/bush_scores.csv')\n",
    "vectorizer = TfidfVectorizer(stop_words='english', max_features = 5000)\n",
    "\n",
    "bush_pos = bush[bush['Sentiment_b']==1]\n",
    "bush_neg = bush[bush['Sentiment_b']==0]\n",
    "\n",
    "list_ = [bush_pos, bush_neg]\n",
    "\n",
    "for i in list_:\n",
    "    print(\"##################################################\")\n",
    "                                     \n",
    "    V = vectorizer.fit_transform(i['Comment'].values).toarray()\n",
    "    features = vectorizer.get_feature_names()\n",
    "    nmf = NMF(n_components=10).fit(V)\n",
    "\n",
    "    for topic_idx, topic in enumerate(nmf.components_, 1):\n",
    "        print(\"Topic #%d:\" % topic_idx)\n",
    "        print(\" \".join([features[i]\n",
    "                        for i in topic.argsort()[:-10 - 1:-1]]))"
   ]
  },
  {
   "cell_type": "code",
   "execution_count": 63,
   "metadata": {
    "collapsed": false
   },
   "outputs": [
    {
     "data": {
      "text/plain": [
       "7685"
      ]
     },
     "execution_count": 63,
     "metadata": {},
     "output_type": "execute_result"
    }
   ],
   "source": [
    "len(trump_neg)"
   ]
  },
  {
   "cell_type": "code",
   "execution_count": 64,
   "metadata": {
    "collapsed": false
   },
   "outputs": [
    {
     "data": {
      "text/plain": [
       "7685"
      ]
     },
     "execution_count": 64,
     "metadata": {},
     "output_type": "execute_result"
    }
   ],
   "source": [
    "len(bush_neg)"
   ]
  },
  {
   "cell_type": "code",
   "execution_count": 57,
   "metadata": {
    "collapsed": false
   },
   "outputs": [
    {
     "name": "stdout",
     "output_type": "stream",
     "text": [
      "##################################################\n",
      "Topic #1:\n",
      "trump donald mr like america supporters support immigration polls say\n",
      "Topic #2:\n",
      "carson dr ben doctor neurosurgeon surgeon medical care health huckabee\n",
      "Topic #3:\n",
      "bush jeb brother florida safe rubio win george walker kept\n",
      "Topic #4:\n",
      "debate fox news candidates questions debates night media did watch\n",
      "Topic #5:\n",
      "white black men lives women matter house police blow blacks\n",
      "Topic #6:\n",
      "gop clown candidates candidate car presidential voters 2016 win just\n",
      "Topic #7:\n",
      "people don government vote care country want money right american\n",
      "Topic #8:\n",
      "party republican republicans vote democratic candidates democrats tea voters candidate\n",
      "Topic #9:\n",
      "sanders bernie mr brooks hillary clinton biden experience governing david\n",
      "Topic #10:\n",
      "president like good just think fiorina time really run walker\n",
      "##################################################\n",
      "Topic #1:\n",
      "party republican republicans candidates base vote democratic voters democrats tea\n",
      "Topic #2:\n",
      "black lives matter police white blacks blow men killed racist\n",
      "Topic #3:\n",
      "sanders bernie brooks mr experience governing hillary little senator clinton\n",
      "Topic #4:\n",
      "debate fox news candidates cnn questions did moderators media night\n",
      "Topic #5:\n",
      "people just don like think want country way time government\n",
      "Topic #6:\n",
      "trump donald mr like support saying supporters fiorina polls appeal\n",
      "Topic #7:\n",
      "bush jeb president rubio brother clinton walker florida hillary family\n",
      "Topic #8:\n",
      "illegal immigration immigrants legal country aliens zero citizenship americans immigrant\n",
      "Topic #9:\n",
      "gop base candidates candidate presidential say voters bad right crazy\n",
      "Topic #10:\n",
      "carson dr ben fiorina like man paul huckabee cruz neurosurgeon\n"
     ]
    },
    {
     "name": "stderr",
     "output_type": "stream",
     "text": [
      "/Users/datascientist/anaconda/lib/python2.7/site-packages/sklearn/decomposition/nmf.py:532: UserWarning: Iteration limit reached during fit. Solving for W exactly.\n",
      "  warnings.warn(\"Iteration limit reached during fit. Solving for W exactly.\")\n"
     ]
    }
   ],
   "source": [
    "carson = pd.read_csv('data/carson_scores.csv')\n",
    "carson[pd.isnull(carson['Comment'])] = \"\"                         \n",
    "\n",
    "carson_pos = carson[carson['Sentiment_b']==1]\n",
    "carson_neg = carson[carson['Sentiment_b']==0]\n",
    "\n",
    "vectorizer = TfidfVectorizer(stop_words='english', max_features = 5000)\n",
    "\n",
    "list_ = [carson_pos, carson_neg]\n",
    "\n",
    "for i in list_:\n",
    "    print(\"##################################################\")\n",
    "\n",
    "    V = vectorizer.fit_transform(i['Comment'].values).toarray() \n",
    "    features = vectorizer.get_feature_names()\n",
    "    nmf = NMF(n_components=10).fit(V)\n",
    "\n",
    "    for topic_idx, topic in enumerate(nmf.components_, 1):\n",
    "        print(\"Topic #%d:\" % topic_idx)\n",
    "        print(\" \".join([features[i]\n",
    "                        for i in topic.argsort()[:-10 - 1:-1]]))"
   ]
  },
  {
   "cell_type": "code",
   "execution_count": null,
   "metadata": {
    "collapsed": true
   },
   "outputs": [],
   "source": []
  },
  {
   "cell_type": "code",
   "execution_count": null,
   "metadata": {
    "collapsed": true
   },
   "outputs": [],
   "source": []
  }
 ],
 "metadata": {
  "kernelspec": {
   "display_name": "Python 2",
   "language": "python",
   "name": "python2"
  },
  "language_info": {
   "codemirror_mode": {
    "name": "ipython",
    "version": 2
   },
   "file_extension": ".py",
   "mimetype": "text/x-python",
   "name": "python",
   "nbconvert_exporter": "python",
   "pygments_lexer": "ipython2",
   "version": "2.7.10"
  }
 },
 "nbformat": 4,
 "nbformat_minor": 0
}
