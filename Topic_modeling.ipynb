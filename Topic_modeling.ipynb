{
 "cells": [
  {
   "cell_type": "code",
   "execution_count": 75,
   "metadata": {
    "collapsed": true
   },
   "outputs": [],
   "source": [
    "import pandas as pd\n",
    "import numpy as np \n",
    "import sklearn.cluster\n",
    "from sklearn.feature_extraction.text import CountVectorizer, TfidfVectorizer\n",
    "from sklearn.cluster import KMeans\n",
    "import matplotlib.pyplot as plt\n",
    "import re\n",
    "import string\n",
    "import unidecode\n",
    "from sklearn.decomposition import NMF\n",
    "from sklearn.metrics import mean_squared_error\n",
    "from sklearn.feature_extraction import text \n",
    "import re\n",
    "import datetime\n",
    "%matplotlib inline"
   ]
  },
  {
   "cell_type": "code",
   "execution_count": 51,
   "metadata": {
    "collapsed": true
   },
   "outputs": [],
   "source": [
    "from pattern.en import sentiment, polarity, subjectivity\n",
    "def sentiment(text):\n",
    "    return polarity(text)\n",
    "\n",
    "def subj(text):\n",
    "    return subjectivity(text)"
   ]
  },
  {
   "cell_type": "code",
<<<<<<< HEAD
   "execution_count": 23,
   "metadata": {
    "collapsed": true
   },
   "outputs": [],
   "source": [
    "def to_datetime(x):\n",
    "    return datetime.datetime.fromtimestamp(x).strftime('%Y-%m-%d %H:%M:%S')"
   ]
  },
  {
   "cell_type": "code",
   "execution_count": 159,
   "metadata": {
    "collapsed": false
   },
   "outputs": [],
   "source": [
    "def sentiment_new(text):\n",
    "    def Sentences(paragraph):\n",
    "        sentenceEnders = re.compile('[.!?]')\n",
    "        sentenceList = sentenceEnders.split(paragraph)\n",
    "        return sentenceList\n",
    "    \n",
    "    def to_filter(text):\n",
    "        terms = ['Hilary', 'Clinton', 'Rodham', 'Mrs.Clinton']\n",
    "        if any(word in text for word in terms):\n",
    "            return text\n",
    "        else:\n",
    "            return None \n",
    "    \n",
    "    target= [] \n",
    "    #sent = Sentences(text)   \n",
    "    for i in Sentences(text):\n",
    "        if to_filter(i) == None:\n",
    "            pass\n",
    "        else:\n",
    "            target.append(i)\n",
    "            \n",
    "    s_max = 0\n",
    "    comment_score = 0\n",
    "    \n",
    "    for i in target:\n",
    "        content = unidecode.unidecode(i).replace(\"\\n\",\" \").replace(\"\\'s\",\"\").replace(\"\\'t\",\"\")\n",
    "        if abs(sentiment(content)) > abs(s_max):\n",
    "            comment_score = sentiment(i)\n",
    "            s_max = sentiment(content)\n",
    "    \n",
    "    return comment_score"
   ]
  },
  {
   "cell_type": "code",
   "execution_count": 78,
   "metadata": {
    "collapsed": true
   },
   "outputs": [],
   "source": [
    "hilary = pd.read_csv('data/hilary_scores.csv')"
   ]
  },
  {
   "cell_type": "code",
   "execution_count": 160,
   "metadata": {
    "collapsed": false
   },
   "outputs": [],
   "source": [
    "hilary.drop(['Sentiment','Sentiment_b','Subjectivity', 'Subjectivity_b'], axis = 1, inplace=True)\n",
    "hilary['Sentiment'] = hilary.apply(lambda row: sentiment_new(row['Comment']), axis = 1)\n"
   ]
  },
  {
   "cell_type": "code",
   "execution_count": 161,
   "metadata": {
    "collapsed": false
   },
   "outputs": [
    {
     "name": "stdout",
     "output_type": "stream",
     "text": [
      "980\n",
      "1474\n"
     ]
    }
   ],
   "source": [
    "hilary_neg = hilary[hilary['Sentiment'] < -0.1]\n",
    "print len(hilary_neg)\n",
    "\n",
    "hilary_pos = hilary[hilary['Sentiment'] > 0.2]\n",
    "print len(hilary_pos)"
   ]
  },
  {
   "cell_type": "code",
   "execution_count": 167,
=======
   "execution_count": 4,
>>>>>>> 5fa35abd20ec79846d3a7852f92314ad9f69355e
   "metadata": {
    "collapsed": false
   },
   "outputs": [
    {
     "name": "stdout",
     "output_type": "stream",
     "text": [
      "Topic #1:\n",
<<<<<<< HEAD
      "win election democratic nomination party general vote democrats think clinton\n",
      "Topic #2:\n",
      "email server private state information classified government emails use secretary\n",
      "Topic #3:\n",
      "president hillary woman america rodham united states qualified ms clinton\n",
      "Topic #4:\n",
      "mrs mr clinton republican good party obama position wehner republicans\n",
      "Topic #5:\n",
      "biden joe run president clinton better race presidency vp man\n",
      "Topic #6:\n",
      "times story coverage nyt news ny reporting page clinton readers\n",
      "Topic #7:\n",
      "trump republican bush donald gop clinton hillary candidates like fiorina\n",
      "Topic #8:\n",
      "hilary bernie win joe hiding like run left wow better\n",
      "Topic #9:\n",
      "sanders bernie hillary support clinton media candidate campaign socialist need\n",
      "Topic #10:\n",
      "change people just black don like blm lives want know\n",
      "Topic #1:\n",
      "biden joe run president obama democrats hilary clinton warren vice\n",
=======
      "bernie sanders support socialist win media candidate senator campaign vote\n",
      "Topic #2:\n",
      "joe biden run man vp love legacy warren vice beau\n",
      "Topic #3:\n",
      "iran deal war nuclear israel obama agreement sanctions world bomb\n",
      "Topic #4:\n",
      "trump donald gop mr fox debate bush fiorina media candidates\n",
      "Topic #5:\n",
      "college government money pay education students tax free tuition wage\n",
      "Topic #6:\n",
      "hillary clinton mrs email campaign server bush woman democrats emails\n",
      "Topic #7:\n",
      "republican party vote democratic candidate candidates democrats republicans election win\n",
      "Topic #8:\n",
      "times nyt news story coverage new york ny article readers\n",
      "Topic #9:\n",
      "president obama vice mr running woman states united biden office\n",
      "Topic #10:\n",
      "people like don just time think know good want really\n",
      "##################################################\n",
      "Topic #1:\n",
      "bernie sanders hillary campaign candidate supporters socialist angry article media\n",
>>>>>>> 5fa35abd20ec79846d3a7852f92314ad9f69355e
      "Topic #2:\n",
      "classified server email information state emails private secretary clinton department\n",
      "Topic #3:\n",
<<<<<<< HEAD
      "clintons bushes sick tired barry vote obamas white democrat gets\n",
      "Topic #4:\n",
      "black lives matter laws crime incarceration community blow clinton rights\n",
      "Topic #5:\n",
      "people clinton know want ms just like don president american\n",
      "Topic #6:\n",
      "trump bush republican clinton hillary jeb candidates donald wehner candidate\n",
      "Topic #7:\n",
      "apology policy blm matter change time past clintons impart rant\n",
      "Topic #8:\n",
      "times coverage new york ny clinton hillary editor dowd article\n",
=======
      "people like just don time think want country money government\n",
      "Topic #4:\n",
      "clinton hillary mrs email server emails bush state classified secretary\n",
      "Topic #5:\n",
      "biden joe run president vice running son time man mr\n",
      "Topic #6:\n",
      "trump donald mr candidates bush gop fox debate media jeb\n",
      "Topic #7:\n",
      "black white lives matter police blow crime blacks people community\n",
      "Topic #8:\n",
      "iran deal obama war nuclear israel president agreement iraq years\n",
>>>>>>> 5fa35abd20ec79846d3a7852f92314ad9f69355e
      "Topic #9:\n",
      "story news nyt criminal wrong page investigation clinton times headline\n",
      "Topic #10:\n",
<<<<<<< HEAD
      "sanders bernie support democratic vote democrat hillary candidate clinton party\n"
=======
      "fiorina hp carly business failed ceo record company ms women\n"
>>>>>>> 5fa35abd20ec79846d3a7852f92314ad9f69355e
     ]
    }
   ],
   "source": [
    "vectorizer = TfidfVectorizer(stop_words='english')\n",
    "list_ = [hilary_pos, hilary_neg]\n",
    "hilary_examples = []\n",
    "\n",
    "for i in list_: \n",
    "    V = vectorizer.fit_transform(i['Comment'].values).toarray()\n",
    "    features = vectorizer.get_feature_names()\n",
    "    nmf = NMF(n_components=10).fit(V)\n",
    "\n",
    "    #print nmf.transform(V).shape\n",
    "    matrix = nmf.transform(V)\n",
    "    index = matrix.argmax(axis=0)\n",
    "    i = i.reset_index()\n",
    "    hilary_examples.append(i.ix[index]['Comment'].values)\n",
    "\n",
    "    for topic_idx, topic in enumerate(nmf.components_, 1):\n",
    "        print(\"##################################################\")\n",
    "        print(\"Topic #%d:\" % topic_idx)\n",
    "        print(\" \".join([features[i]\n",
    "                for i in topic.argsort()[:-10 -1:-1]]))\n",
    "\n",
    "hilary_pos_examples = hilary_examples[0]\n",
    "hilary_neg_examples = hilary_examples[1]"
   ]
  },
  {
   "cell_type": "code",
<<<<<<< HEAD
   "execution_count": 181,
=======
   "execution_count": 10,
>>>>>>> 5fa35abd20ec79846d3a7852f92314ad9f69355e
   "metadata": {
    "collapsed": true
   },
<<<<<<< HEAD
   "outputs": [],
   "source": [
    "def sentiment_new(text):\n",
    "    def Sentences(paragraph):\n",
    "        sentenceEnders = re.compile('[.!?]')\n",
    "        sentenceList = sentenceEnders.split(paragraph)\n",
    "        return sentenceList\n",
    "    \n",
    "    def to_filter(text):\n",
    "        terms = ['Sanders', 'Bernie', 'Mr.Sanders']\n",
    "        if any(word in text for word in terms):\n",
    "            return text\n",
    "        else:\n",
    "            return None \n",
    "    \n",
    "    target= [] \n",
    "    #sent = Sentences(text)   \n",
    "    for i in Sentences(text):\n",
    "        if to_filter(i) == None:\n",
    "            pass\n",
    "        else:\n",
    "            target.append(i)\n",
    "            \n",
    "    s_max = 0\n",
    "    comment_score = 0\n",
    "    \n",
    "    for i in target:\n",
    "        content = unidecode.unidecode(i).replace(\"\\n\",\" \").replace(\"\\'s\",\"\").replace(\"\\'t\",\"\")\n",
    "        if abs(sentiment(content)) > abs(s_max):\n",
    "            comment_score = sentiment(i)\n",
    "            s_max = sentiment(content)\n",
    "    \n",
    "    return comment_score"
=======
   "outputs": [
    {
     "data": {
      "text/plain": [
       "(6607, 10)"
      ]
     },
     "execution_count": 10,
     "metadata": {},
     "output_type": "execute_result"
    }
   ],
   "source": [
    "nmf.transform(V).shape"
   ]
  },
  {
   "cell_type": "code",
   "execution_count": 18,
   "metadata": {
    "collapsed": false
   },
   "outputs": [],
   "source": [
    "matrix = nmf.transform(V)"
>>>>>>> 5fa35abd20ec79846d3a7852f92314ad9f69355e
   ]
  },
  {
   "cell_type": "code",
<<<<<<< HEAD
   "execution_count": 182,
=======
   "execution_count": 19,
>>>>>>> 5fa35abd20ec79846d3a7852f92314ad9f69355e
   "metadata": {
    "collapsed": false
   },
   "outputs": [
    {
<<<<<<< HEAD
     "name": "stdout",
     "output_type": "stream",
     "text": [
      "239\n",
      "1156\n"
     ]
    }
   ],
   "source": [
    "sanders = pd.read_csv('data/sanders_scores.csv')\n",
    "sanders[pd.isnull(sanders['Comment'])] = \"\"\n",
    "\n",
    "sanders.drop(['Sentiment','Sentiment_b','Subjectivity', 'Subjectivity_b'], axis = 1, inplace=True)\n",
    "sanders['Sentiment'] = sanders.apply(lambda row: sentiment_new(row['Comment']), axis = 1)\n",
    "\n",
    "sanders_neg = sanders[sanders['Sentiment'] < -0.1]\n",
    "print len(sanders_neg)\n",
    "sanders_pos = sanders[sanders['Sentiment'] > 0.1]\n",
    "print len(sanders_pos)"
=======
     "data": {
      "text/plain": [
       "array([2465, 2312, 3752, 2188, 4705, 5233, 3062, 4114, 1477, 3236])"
      ]
     },
     "execution_count": 19,
     "metadata": {},
     "output_type": "execute_result"
    }
   ],
   "source": [
    "matrix.argmax(axis=0)"
>>>>>>> 5fa35abd20ec79846d3a7852f92314ad9f69355e
   ]
  },
  {
   "cell_type": "code",
<<<<<<< HEAD
   "execution_count": 183,
=======
   "execution_count": 22,
>>>>>>> 5fa35abd20ec79846d3a7852f92314ad9f69355e
   "metadata": {
    "collapsed": false
   },
   "outputs": [
    {
     "name": "stdout",
     "output_type": "stream",
     "text": [
      "##################################################\n",
      "Topic #1:\n",
<<<<<<< HEAD
      "vote primary ll election general bernie hope republican democratic voting\n",
      "Topic #2:\n",
      "love bernie sanders fight stands good believes agree 59 leader\n",
      "Topic #3:\n",
      "people tax class country american pay middle money social way\n",
      "Topic #4:\n",
      "win good lose want bernie luck don nomination sale sanders\n",
      "Topic #5:\n",
      "senator sanders mr good wish agree times america elected speak\n",
      "Topic #6:\n",
      "hillary clinton left sanders support bush obama republicans warren far\n",
      "Topic #7:\n",
      "candidate democratic candidates issues party voters republican campaign sanders media\n",
      "Topic #8:\n",
      "right need left america bernie people wing person puts sanders\n",
      "Topic #9:\n",
      "like bernie need fresh vermont stand air breath chance know\n",
      "Topic #10:\n",
      "president sanders running bernie run ticket person democratic socialist make\n",
      "##################################################\n",
      "Topic #1:\n",
      "hillary clinton sanders issues just doesn ll good look make\n",
      "Topic #2:\n",
      "truth say guts reality senators sanders power speak bernie honesty\n",
      "Topic #3:\n",
      "vote chance getting bernie nomination little know ll got hands\n",
      "Topic #4:\n",
      "bernie great small just thing politician candidate work political gail\n",
      "Topic #5:\n",
      "senator acknowledged sanders candidate courage long profile issue effort compromise\n",
      "Topic #6:\n",
      "president let badly universe bernie sanders different obama understands need\n",
      "Topic #7:\n",
      "money tax sanders country education sen corporate need jobs ordinary\n",
      "Topic #8:\n",
      "people american class tpp middle stand energy bernie america needs\n",
      "Topic #9:\n",
      "party democratic republican warren left don democrats candidate elizabeth sanders\n",
      "Topic #10:\n",
      "mr media sanders socialist times voters candidacy fox voice coverage\n"
=======
      "hillary clinton candidate campaign mrs bush warren issues ms jeb\n",
      "Topic #2:\n",
      "bernie love sanders need vermont candidate run em like man\n",
      "Topic #3:\n",
      "people just like don think know time want country really\n",
      "Topic #4:\n",
      "vote got ll primary don election voting voted republican win\n",
      "Topic #5:\n",
      "sanders senator thank warren mr sen president 2016 socialist ticket\n",
      "Topic #6:\n",
      "class middle working poor income rich americans jobs term economic\n",
      "Topic #7:\n",
      "president obama legacy republicans barack 2012 deal did congress bush\n",
      "Topic #8:\n",
      "party republican democratic democrats right left republicans candidate candidates election\n",
      "Topic #9:\n",
      "tax cuts taxes pay social rich security income bush republicans\n",
      "Topic #10:\n",
      "government trade good american money jobs food world free public\n",
      "##################################################\n",
      "Topic #1:\n",
      "people government american common country nation america believe poor leaders\n",
      "Topic #2:\n",
      "hillary clinton left woman bush gop democratic running candidate ms\n",
      "Topic #3:\n",
      "bernie sanders senator candidate socialist truth running mr long campaign\n",
      "Topic #4:\n",
      "class middle poor working income politicians americans lower american jobs\n",
      "Topic #5:\n",
      "obama president republicans legacy democrats mr blame deal bush think\n",
      "Topic #6:\n",
      "vote party republican democratic democrats candidate tea candidates republicans election\n",
      "Topic #7:\n",
      "trade jobs tpp american deal corporations workers nafta agreement china\n",
      "Topic #8:\n",
      "tax pay cuts social money security spending taxes government congress\n",
      "Topic #9:\n",
      "just like don time know think bad say way really\n",
      "Topic #10:\n",
      "war military isis iraq day fight draft memorial troops american\n"
>>>>>>> 5fa35abd20ec79846d3a7852f92314ad9f69355e
     ]
    }
   ],
   "source": [
    "list_ = [sanders_pos, sanders_neg]\n",
    "sanders_examples = []\n",
    "\n",
    "for i in list_: \n",
    "    V = vectorizer.fit_transform(i['Comment'].values).toarray()\n",
    "    features = vectorizer.get_feature_names()\n",
    "    nmf = NMF(n_components=10).fit(V)\n",
    "\n",
    "    #print nmf.transform(V).shape\n",
    "    matrix = nmf.transform(V)\n",
    "    index = matrix.argmax(axis=0)\n",
    "    i = i.reset_index()\n",
    "    sanders_examples.append(i.ix[index]['Comment'].values)\n",
    "    \n",
    "    print(\"##################################################\")\n",
    "    for topic_idx, topic in enumerate(nmf.components_, 1):\n",
    "        print(\"Topic #%d:\" % topic_idx)\n",
    "        print(\" \".join([features[i]\n",
    "                for i in topic.argsort()[:-10 -1:-1]]))\n",
    "        \n",
    "\n",
    "sanders_pos_examples = sanders_examples[0]\n",
    "sanders_neg_examples = sanders_examples[1]"
   ]
  },
  {
   "cell_type": "code",
<<<<<<< HEAD
   "execution_count": 188,
   "metadata": {
    "collapsed": true
   },
   "outputs": [],
   "source": [
    "def sentiment_new(text):\n",
    "    def Sentences(paragraph):\n",
    "        sentenceEnders = re.compile('[.!?]')\n",
    "        sentenceList = sentenceEnders.split(paragraph)\n",
    "        return sentenceList\n",
    "    \n",
    "    def to_filter(text):\n",
    "        terms = ['Biden', 'Joe', 'Mr.Biden']\n",
    "        if any(word in text for word in terms):\n",
    "            return text\n",
    "        else:\n",
    "            return None \n",
    "    \n",
    "    target= [] \n",
    "    #sent = Sentences(text)   \n",
    "    for i in Sentences(text):\n",
    "        if to_filter(i) == None:\n",
    "            pass\n",
    "        else:\n",
    "            target.append(i)\n",
    "            \n",
    "    s_max = 0\n",
    "    comment_score = 0\n",
    "    \n",
    "    for i in target:\n",
    "        content = unidecode.unidecode(i).replace(\"\\n\",\" \").replace(\"\\'s\",\"\").replace(\"\\'t\",\"\")\n",
    "        if abs(sentiment(content)) > abs(s_max):\n",
    "            comment_score = sentiment(i)\n",
    "            s_max = sentiment(content)\n",
    "    \n",
    "    return comment_score"
   ]
  },
  {
   "cell_type": "code",
   "execution_count": 191,
   "metadata": {
    "collapsed": false
   },
   "outputs": [
    {
     "name": "stdout",
     "output_type": "stream",
     "text": [
      "271\n",
      "966\n"
     ]
    }
   ],
   "source": [
    "biden = pd.read_csv('data/biden_scores.csv')\n",
    "biden[pd.isnull(biden['Comment'])] = \"\"\n",
    "\n",
    "biden.drop(['Sentiment','Sentiment_b','Subjectivity', 'Subjectivity_b'], axis = 1, inplace=True)\n",
    "biden['Sentiment'] = biden.apply(lambda row: sentiment_new(row['Comment']), axis = 1)\n",
    "\n",
    "biden_neg = biden[biden['Sentiment'] < -0.1]\n",
    "print len(biden_neg)\n",
    "biden_pos = biden[biden['Sentiment'] > 0.2]\n",
    "print len(biden_pos)"
   ]
  },
  {
   "cell_type": "code",
   "execution_count": 192,
=======
   "execution_count": 24,
>>>>>>> 5fa35abd20ec79846d3a7852f92314ad9f69355e
   "metadata": {
    "collapsed": false
   },
   "outputs": [
    {
     "name": "stdout",
     "output_type": "stream",
     "text": [
      "##################################################\n",
      "Topic #1:\n",
<<<<<<< HEAD
      "sanders bernie clinton support help biden big issues elect socialist\n",
      "Topic #2:\n",
      "president vice great make biden candidate time mr clinton woman\n",
      "Topic #3:\n",
      "run love joe don biden welcome win chance far gaffs\n",
      "Topic #4:\n",
      "trump donald lifelong better biden dems look bush gop clown\n",
      "Topic #5:\n",
      "clinton democratic nomination party win candidate election biden campaign mrs\n",
      "Topic #6:\n",
      "vote republican choice voting won clinton bush probably candidates like\n",
      "Topic #7:\n",
      "good man mr biden politics honest live president legacy end\n",
      "Topic #8:\n",
      "like just don think people want really old know bush\n",
      "Topic #9:\n",
      "hillary race republicans time joe support candidate make democrats biden\n",
      "Topic #10:\n",
      "joe biden country beau obama best experience right vp family\n",
      "##################################################\n",
      "Topic #1:\n",
      "democratic party run biden candidate trump polls candidates nomination democrats\n",
=======
      "bernie sanders support socialist win media candidate senator campaign vote\n",
      "Topic #2:\n",
      "joe biden run man vp love legacy warren vice beau\n",
      "Topic #3:\n",
      "iran deal war nuclear israel obama agreement sanctions world bomb\n",
      "Topic #4:\n",
      "trump donald gop mr fox debate bush fiorina media candidates\n",
      "Topic #5:\n",
      "college government money pay education students tax free tuition wage\n",
      "Topic #6:\n",
      "hillary clinton mrs email campaign server bush woman democrats emails\n",
      "Topic #7:\n",
      "republican party vote democratic candidate candidates democrats republicans election win\n",
      "Topic #8:\n",
      "times nyt news story coverage new york ny article readers\n",
      "Topic #9:\n",
      "president obama vice mr running woman states united biden office\n",
      "Topic #10:\n",
      "people like don just time think know good want really\n",
      "##################################################\n",
      "Topic #1:\n",
      "bernie sanders hillary campaign candidate supporters socialist angry article media\n",
>>>>>>> 5fa35abd20ec79846d3a7852f92314ad9f69355e
      "Topic #2:\n",
      "old middle sen feel demographics totally grief guy female white\n",
      "Topic #3:\n",
<<<<<<< HEAD
      "bernie sanders truth just joe afraid hillary dance people pen\n",
      "Topic #4:\n",
      "joe run son crazy time biden think life campaign uncle\n",
      "Topic #5:\n",
      "president vice biden make man good huge beau replaced like\n",
      "Topic #6:\n",
      "obama biden term corrupt job run iran just president deal\n",
      "Topic #7:\n",
      "hillary think problem want biden wouldn nightmare joe emails ear\n",
      "Topic #8:\n",
      "mr nyt article times new dowd biden ms colbert terribly\n",
=======
      "people like just don time think want country money government\n",
      "Topic #4:\n",
      "clinton hillary mrs email server emails bush state classified secretary\n",
      "Topic #5:\n",
      "biden joe run president vice running son time man mr\n",
      "Topic #6:\n",
      "trump donald mr candidates bush gop fox debate media jeb\n",
      "Topic #7:\n",
      "black white lives matter police blow crime blacks people community\n",
      "Topic #8:\n",
      "iran deal obama war nuclear israel president agreement iraq years\n",
>>>>>>> 5fa35abd20ec79846d3a7852f92314ad9f69355e
      "Topic #9:\n",
      "media friends nyt mainstream hrc machine people fox choices integrity\n",
      "Topic #10:\n",
<<<<<<< HEAD
      "clinton don vote like biden sanders sound bad republican democrats\n"
=======
      "fiorina hp carly business failed ceo record company ms women\n"
>>>>>>> 5fa35abd20ec79846d3a7852f92314ad9f69355e
     ]
    }
   ],
   "source": [
    "list_ = [biden_pos, biden_neg]\n",
    "biden_examples = []\n",
    "\n",
    "for i in list_: \n",
    "    V = vectorizer.fit_transform(i['Comment'].values).toarray()\n",
    "    features = vectorizer.get_feature_names()\n",
    "    nmf = NMF(n_components=10).fit(V)\n",
    "\n",
    "    #print nmf.transform(V).shape\n",
    "    matrix = nmf.transform(V)\n",
    "    index = matrix.argmax(axis=0)\n",
    "    i = i.reset_index()\n",
    "    biden_examples.append(i.ix[index]['Comment'].values)\n",
    "    \n",
    "    print(\"##################################################\")\n",
    "    for topic_idx, topic in enumerate(nmf.components_, 1):\n",
    "        print(\"Topic #%d:\" % topic_idx)\n",
    "        print(\" \".join([features[i]\n",
    "                for i in topic.argsort()[:-10 -1:-1]]))\n",
    "        \n",
    "\n",
    "biden_pos_examples = biden_examples[0]\n",
    "biden_neg_examples = biden_examples[1]"
   ]
  },
  {
   "cell_type": "code",
<<<<<<< HEAD
   "execution_count": 194,
   "metadata": {
    "collapsed": true
   },
   "outputs": [],
   "source": [
    "def sentiment_new(text):\n",
    "    def Sentences(paragraph):\n",
    "        sentenceEnders = re.compile('[.!?]')\n",
    "        sentenceList = sentenceEnders.split(paragraph)\n",
    "        return sentenceList\n",
    "    \n",
    "    def to_filter(text):\n",
    "        terms = ['Trump', 'Donald', 'Mr.Trump']\n",
    "        if any(word in text for word in terms):\n",
    "            return text\n",
    "        else:\n",
    "            return None \n",
    "    \n",
    "    target= [] \n",
    "    #sent = Sentences(text)   \n",
    "    for i in Sentences(text):\n",
    "        if to_filter(i) == None:\n",
    "            pass\n",
    "        else:\n",
    "            target.append(i)\n",
    "            \n",
    "    s_max = 0\n",
    "    comment_score = 0\n",
    "    \n",
    "    for i in target:\n",
    "        content = unidecode.unidecode(i).replace(\"\\n\",\" \").replace(\"\\'s\",\"\").replace(\"\\'t\",\"\")\n",
    "        if abs(sentiment(content)) > abs(s_max):\n",
    "            comment_score = sentiment(i)\n",
    "            s_max = sentiment(content)\n",
    "    \n",
    "    return comment_score"
   ]
  },
  {
   "cell_type": "code",
   "execution_count": 195,
=======
   "execution_count": 20,
>>>>>>> 5fa35abd20ec79846d3a7852f92314ad9f69355e
   "metadata": {
    "collapsed": false
   },
   "outputs": [
    {
<<<<<<< HEAD
     "name": "stdout",
     "output_type": "stream",
     "text": [
      "2274\n",
      "3269\n"
     ]
    }
   ],
   "source": [
    "trump = pd.read_csv('data/trump_scores.csv')\n",
    "trump[pd.isnull(trump['Comment'])] = \"\"\n",
    "\n",
    "trump.drop(['Sentiment','Sentiment_b','Subjectivity', 'Subjectivity_b'], axis = 1, inplace=True)\n",
    "trump['Sentiment'] = trump.apply(lambda row: sentiment_new(row['Comment']), axis = 1)\n",
    "\n",
    "trump_neg = trump[trump['Sentiment'] < -0.2]\n",
    "print len(trump_neg)\n",
    "trump_pos = trump[trump['Sentiment'] > 0.3]\n",
    "print len(trump_pos)"
=======
     "data": {
      "text/plain": [
       "71997"
      ]
     },
     "execution_count": 20,
     "metadata": {},
     "output_type": "execute_result"
    }
   ],
   "source": [
    "df_states = pd.read_csv(\"data/df_states_truncated.csv\")\n",
    "len(df_states)"
>>>>>>> 5fa35abd20ec79846d3a7852f92314ad9f69355e
   ]
  },
  {
   "cell_type": "code",
<<<<<<< HEAD
   "execution_count": 197,
=======
   "execution_count": 21,
>>>>>>> 5fa35abd20ec79846d3a7852f92314ad9f69355e
   "metadata": {
    "collapsed": false,
    "scrolled": false
   },
   "outputs": [
    {
     "name": "stdout",
     "output_type": "stream",
     "text": [
      "##################################################\n",
      "Topic #1:\n",
<<<<<<< HEAD
      "great make america trump country president world save wall leader\n",
      "Topic #2:\n",
      "republican party trump republicans candidate candidates democratic nomination win best\n",
      "Topic #3:\n",
      "mr trump bruni ramos brooks ms column better says blow\n",
      "Topic #4:\n",
      "sanders bernie hillary clinton trump candidates brooks carson biden democrats\n",
      "Topic #5:\n",
      "bush jeb hillary win trump clinton president nomination election george\n",
      "Topic #6:\n",
      "immigration illegal immigrants americans tax american country taxes jobs class\n",
      "Topic #7:\n",
      "people like trump think just don want president say money\n",
      "Topic #8:\n",
      "gop trump candidate candidates party vote establishment win years class\n",
      "Topic #9:\n",
      "donald best love thing better trump time just maureen president\n",
      "Topic #10:\n",
      "media trump kelly news debate ramos women fox megyn did\n",
      "##################################################\n",
      "Topic #1:\n",
      "party republican base trump republicans democrats democratic voters tea candidates\n",
      "Topic #2:\n",
      "illegal immigrants immigration americans legal aliens issue laws law citizenship\n",
      "Topic #3:\n",
      "jeb bush clinton trump rubio hillary like walker fiorina christie\n",
      "Topic #4:\n",
      "donald trump mccain wrong bad think john candidate ted shows\n",
      "Topic #5:\n",
      "sanders bernie hillary clinton media candidate democratic brooks carson trump\n",
      "Topic #6:\n",
      "mr trump bruni blow americans media column egan past blind\n",
      "Topic #7:\n",
      "ramos conference press trump questions reporter question news ask journalist\n",
      "Topic #8:\n",
      "women kelly megyn fox trump woman news said dowd debate\n",
      "Topic #9:\n",
      "people trump like president just country think america really don\n",
      "Topic #10:\n",
      "gop trump base candidates issue voters single political presidential conservative\n"
=======
      "trump supporters support media says campaign polls money voters 2016\n",
      "Topic #2:\n",
      "people country american america immigration world americans immigrants political government\n",
      "Topic #3:\n",
      "bush jeb brother safe george kept clinton smarter family iraq\n",
      "Topic #4:\n",
      "sanders bernie hillary clinton brooks biden experience times democratic candidate\n",
      "Topic #5:\n",
      "mr brooks ramos bruni column thank blow right ms press\n",
      "Topic #6:\n",
      "debate candidates media news cnn fox time questions issues reality\n",
      "Topic #7:\n",
      "gop candidate candidates nomination women win run base election voters\n",
      "Topic #8:\n",
      "donald maureen great dowd column love man know thank new\n",
      "Topic #9:\n",
      "like president think just don really say know good want\n",
      "Topic #10:\n",
      "party republican republicans democratic candidates democrats candidate democrat tea voters\n",
      "##################################################\n",
      "Topic #1:\n",
      "republican party base republicans candidates candidate voters democrats vote election\n",
      "Topic #2:\n",
      "illegal immigration immigrants legal aliens country laws border citizenship immigrant\n",
      "Topic #3:\n",
      "bush jeb brother president george clinton smarter family hillary iraq\n",
      "Topic #4:\n",
      "sanders bernie hillary brooks clinton experience david governing candidate senator\n",
      "Topic #5:\n",
      "debate cnn candidates news media fiorina fox did questions time\n",
      "Topic #6:\n",
      "people just country don think want american world president america\n",
      "Topic #7:\n",
      "trump donald media just doesn man support does kelly president\n",
      "Topic #8:\n",
      "mr ramos trump brooks press conference blow bruni turn journalist\n",
      "Topic #9:\n",
      "gop base candidates trump voters hate years conservative class party\n",
      "Topic #10:\n",
      "like don look military say think looks mean school sounds\n"
>>>>>>> 5fa35abd20ec79846d3a7852f92314ad9f69355e
     ]
    }
   ],
   "source": [
    "list_ = [trump_pos, trump_neg]\n",
    "trump_examples = []\n",
    "\n",
    "for i in list_: \n",
    "    V = vectorizer.fit_transform(i['Comment'].values).toarray()\n",
    "    features = vectorizer.get_feature_names()\n",
    "    nmf = NMF(n_components=10).fit(V)\n",
    "\n",
    "    #print nmf.transform(V).shape\n",
    "    matrix = nmf.transform(V)\n",
    "    index = matrix.argmax(axis=0)\n",
    "    i = i.reset_index()\n",
    "    trump_examples.append(i.ix[index]['Comment'].values)\n",
    "    \n",
    "    print(\"##################################################\")\n",
    "    for topic_idx, topic in enumerate(nmf.components_, 1):\n",
    "        print(\"Topic #%d:\" % topic_idx)\n",
    "        print(\" \".join([features[i]\n",
    "                for i in topic.argsort()[:-10 -1:-1]]))\n",
    "        \n",
    "\n",
    "trump_pos_examples = trump_examples[0]\n",
    "trump_neg_examples = trump_examples[1]"
   ]
  },
  {
   "cell_type": "code",
   "execution_count": 206,
   "metadata": {
    "collapsed": true
   },
   "outputs": [],
   "source": [
    "def sentiment_new(text):\n",
    "    def Sentences(paragraph):\n",
    "        sentenceEnders = re.compile('[.!?]')\n",
    "        sentenceList = sentenceEnders.split(paragraph)\n",
    "        return sentenceList\n",
    "    \n",
    "    def to_filter(text):\n",
    "        terms = ['Bush', 'Jeb', 'Mr.Bush']\n",
    "        if any(word in text for word in terms):\n",
    "            return text\n",
    "        else:\n",
    "            return None \n",
    "    \n",
    "    target= [] \n",
    "    #sent = Sentences(text)   \n",
    "    for i in Sentences(text):\n",
    "        if to_filter(i) == None:\n",
    "            pass\n",
    "        else:\n",
    "            target.append(i)\n",
    "            \n",
    "    s_max = 0\n",
    "    comment_score = 0\n",
    "    \n",
    "    for i in target:\n",
    "        content = unidecode.unidecode(i).replace(\"\\n\",\" \").replace(\"\\'s\",\"\").replace(\"\\'t\",\"\")\n",
    "        if abs(sentiment(content)) > abs(s_max):\n",
    "            comment_score = sentiment(i)\n",
    "            s_max = sentiment(content)\n",
    "    \n",
    "    return comment_score"
   ]
  },
  {
   "cell_type": "code",
<<<<<<< HEAD
   "execution_count": 207,
   "metadata": {
    "collapsed": false
   },
   "outputs": [
    {
     "name": "stdout",
     "output_type": "stream",
     "text": [
      "712\n",
      "893\n"
     ]
    }
   ],
   "source": [
    "bush = pd.read_csv('data/bush_scores.csv')\n",
    "bush[pd.isnull(bush['Comment'])] = \"\"\n",
    "\n",
    "bush.drop(['Sentiment','Sentiment_b','Subjectivity', 'Subjectivity_b'], axis = 1, inplace=True)\n",
    "bush['Sentiment'] = bush.apply(lambda row: sentiment_new(row['Comment']), axis = 1)\n",
    "\n",
    "bush_neg = bush[bush['Sentiment'] < -0.1]\n",
    "print len(bush_neg)\n",
    "bush_pos = bush[bush['Sentiment'] > 0.2]\n",
    "print len(bush_pos)"
   ]
  },
  {
   "cell_type": "code",
   "execution_count": 208,
=======
   "execution_count": 25,
>>>>>>> 5fa35abd20ec79846d3a7852f92314ad9f69355e
   "metadata": {
    "collapsed": false
   },
   "outputs": [
    {
     "name": "stdout",
     "output_type": "stream",
     "text": [
      "##################################################\n",
      "Topic #1:\n",
<<<<<<< HEAD
      "republican party republicans kasich win candidates voters nomination gop candidate\n",
      "Topic #2:\n",
      "tax plan cuts economic taxes rich income class growth surprise\n",
      "Topic #3:\n",
      "trump donald gop bush thing people like polls media party\n",
      "Topic #4:\n",
      "mr spanish flawless bush command doesn english candidates fluent sense\n",
      "Topic #5:\n",
      "hillary clinton biden sanders joe bernie run maureen just candidate\n",
      "Topic #6:\n",
      "work hours time people jobs americans working need week workers\n",
      "Topic #7:\n",
      "government federal 10 congress workers jobs today reagan employees money\n",
      "Topic #8:\n",
      "bush family president war george good like iraq bushes country\n",
      "Topic #9:\n",
      "jeb brother candidate george campaign man colbert money bush make\n",
      "Topic #10:\n",
      "smart smarter supposed thought brother oxymoron bush jeb doesn rest\n",
      "##################################################\n",
      "Topic #1:\n",
      "trump donald like just mr republicans jeb say people republican\n",
      "Topic #2:\n",
      "bushes clintons say wh sanders poor ll smart continuing time\n",
      "Topic #3:\n",
      "tax growth cuts rate income middle class average plan taxes\n",
      "Topic #4:\n",
      "work people hours working jobs time mr just need longer\n",
      "Topic #5:\n",
      "jeb bush brother george family bad campaign father smarter smart\n",
      "Topic #6:\n",
      "clinton hillary president bush country america political candidate dynasty biden\n",
      "Topic #7:\n",
      "war iraq iran obama policy president brother foreign bush cheney\n",
      "Topic #8:\n",
      "walker cruz carson scott ben rubio huckabee ted candidates mike\n",
      "Topic #9:\n",
      "gop party base republican candidates anti vote groups candidate bush\n",
      "Topic #10:\n",
      "kasich look governor malley candidates better president vs ohio presidential\n"
=======
      "trump donald mr mccain media president america says said polls\n",
      "Topic #2:\n",
      "work tax hours jobs pay taxes working workers time income\n",
      "Topic #3:\n",
      "bush jeb brother george family smart florida smarter iraq campaign\n",
      "Topic #4:\n",
      "hillary president clinton biden joe run obama vote dowd win\n",
      "Topic #5:\n",
      "sanders bernie times coverage nyt media campaign candidate candidates clinton\n",
      "Topic #6:\n",
      "republican party republicans candidates candidate democratic democrats vote voters presidential\n",
      "Topic #7:\n",
      "people country american america immigrants immigration right americans want illegal\n",
      "Topic #8:\n",
      "iran deal israel nuclear war obama agreement sanctions world weapons\n",
      "Topic #9:\n",
      "like just don think good really know time say colbert\n",
      "Topic #10:\n",
      "gop candidates kasich win voters election candidate primary nomination walker\n",
      "##################################################\n",
      "Topic #1:\n",
      "trump donald mr media mccain candidates comments american attention way\n",
      "Topic #2:\n",
      "illegal immigrants immigration country illegally undocumented legal immigrant aliens law\n",
      "Topic #3:\n",
      "republican party base candidates candidate vote republicans voters tea democrats\n",
      "Topic #4:\n",
      "iran deal nuclear israel war sanctions agreement bomb weapons world\n",
      "Topic #5:\n",
      "people work government american time jobs poor tax class working\n",
      "Topic #6:\n",
      "gop candidates base kasich voters candidate party presidential clown years\n",
      "Topic #7:\n",
      "just like don say think know really bad doesn things\n",
      "Topic #8:\n",
      "sanders bernie times hillary clinton coverage candidate media nyt ms\n",
      "Topic #9:\n",
      "jeb bush brother family george smarter smart florida campaign iraq\n",
      "Topic #10:\n",
      "president obama republicans run running country democrats office biden clinton\n"
>>>>>>> 5fa35abd20ec79846d3a7852f92314ad9f69355e
     ]
    }
   ],
   "source": [
    "list_ = [bush_pos, bush_neg]\n",
    "bush_examples = []\n",
    "\n",
    "for i in list_: \n",
    "    V = vectorizer.fit_transform(i['Comment'].values).toarray()\n",
    "    features = vectorizer.get_feature_names()\n",
    "    nmf = NMF(n_components=10).fit(V)\n",
    "\n",
    "    #print nmf.transform(V).shape\n",
    "    matrix = nmf.transform(V)\n",
    "    index = matrix.argmax(axis=0)\n",
    "    i = i.reset_index()\n",
    "    bush_examples.append(i.ix[index]['Comment'].values)\n",
    "    \n",
    "    print(\"##################################################\")\n",
    "    for topic_idx, topic in enumerate(nmf.components_, 1):\n",
    "        print(\"Topic #%d:\" % topic_idx)\n",
    "        print(\" \".join([features[i]\n",
    "                for i in topic.argsort()[:-10 -1:-1]]))\n",
    "        \n",
    "\n",
    "bush_pos_examples = bush_examples[0]\n",
    "bush_neg_examples = bush_examples[1]"
   ]
  },
  {
   "cell_type": "code",
<<<<<<< HEAD
   "execution_count": 209,
   "metadata": {
    "collapsed": true
   },
   "outputs": [],
   "source": [
    "def sentiment_new(text):\n",
    "    def Sentences(paragraph):\n",
    "        sentenceEnders = re.compile('[.!?]')\n",
    "        sentenceList = sentenceEnders.split(paragraph)\n",
    "        return sentenceList\n",
    "    \n",
    "    def to_filter(text):\n",
    "        terms = ['Carson', 'Ben', 'Mr.Carson', 'Dr.Carson']\n",
    "        if any(word in text for word in terms):\n",
    "            return text\n",
    "        else:\n",
    "            return None \n",
    "    \n",
    "    target= [] \n",
    "    #sent = Sentences(text)   \n",
    "    for i in Sentences(text):\n",
    "        if to_filter(i) == None:\n",
    "            pass\n",
    "        else:\n",
    "            target.append(i)\n",
    "            \n",
    "    s_max = 0\n",
    "    comment_score = 0\n",
    "    \n",
    "    for i in target:\n",
    "        content = unidecode.unidecode(i).replace(\"\\n\",\" \").replace(\"\\'s\",\"\").replace(\"\\'t\",\"\")\n",
    "        if abs(sentiment(content)) > abs(s_max):\n",
    "            comment_score = sentiment(i)\n",
    "            s_max = sentiment(content)\n",
    "    \n",
    "    return comment_score"
   ]
  },
  {
   "cell_type": "code",
   "execution_count": 210,
   "metadata": {
    "collapsed": false
   },
   "outputs": [
    {
     "name": "stdout",
     "output_type": "stream",
     "text": [
      "337\n",
      "493\n"
     ]
    }
   ],
   "source": [
    "carson = pd.read_csv('data/carson_scores.csv')\n",
    "carson[pd.isnull(carson['Comment'])] = \"\"\n",
    "\n",
    "carson.drop(['Sentiment','Sentiment_b','Subjectivity', 'Subjectivity_b'], axis = 1, inplace=True)\n",
    "carson['Sentiment'] = carson.apply(lambda row: sentiment_new(row['Comment']), axis = 1)\n",
    "\n",
    "carson_neg = carson[carson['Sentiment'] < -0.1]\n",
    "print len(carson_neg)\n",
    "carson_pos = carson[carson['Sentiment'] > 0.2]\n",
    "print len(carson_pos)"
   ]
  },
  {
   "cell_type": "code",
   "execution_count": 211,
=======
   "execution_count": 27,
>>>>>>> 5fa35abd20ec79846d3a7852f92314ad9f69355e
   "metadata": {
    "collapsed": false
   },
   "outputs": [
    {
     "name": "stdout",
     "output_type": "stream",
     "text": [
      "##################################################\n",
      "Topic #1:\n",
<<<<<<< HEAD
      "president obama dr carson experience running insulted say life office\n",
      "Topic #2:\n",
      "gay science evolution scientist choice carson surgeon scientists like doesn\n",
      "Topic #3:\n",
      "dr care health carson insurance government pay medical tax poor\n",
      "Topic #4:\n",
      "gop wing right carson make cain dr mainstream article herman\n",
      "Topic #5:\n",
      "sanders brooks bernie trump experience political david senator governing loyalty\n",
      "Topic #6:\n",
      "ben carson really great people think real sure candidate time\n",
      "Topic #7:\n",
      "black party republicans republican people democrats carson white african race\n",
      "Topic #8:\n",
      "trump debate mr voters night republican candidates did rubio didn\n",
      "Topic #9:\n",
      "bush cruz paul huckabee walker christie rubio jeb like kasich\n",
      "Topic #10:\n",
      "climb flaming said liberal college success conservative dr ve got\n",
      "##################################################\n",
      "Topic #1:\n",
      "president candidates like time people hillary think question fox fiorina\n",
=======
      "people don just think country white want like government need\n",
      "Topic #2:\n",
      "trump donald mr like supporters america support polls immigration say\n",
      "Topic #3:\n",
      "party republican republicans vote democratic candidates democrats voters tea election\n",
      "Topic #4:\n",
      "bush jeb brother florida safe george win kept election 11\n",
      "Topic #5:\n",
      "president hillary sanders bernie clinton mr brooks biden obama candidate\n",
      "Topic #6:\n",
      "debate fox candidates news questions debates night media did watch\n",
      "Topic #7:\n",
      "carson dr ben black doctor neurosurgeon obama surgeon care medical\n",
      "Topic #8:\n",
      "gop clown candidates car candidate just presidential voters 2016 field\n",
      "Topic #9:\n",
      "gail welcome missed collins great column thank glad good ve\n",
      "Topic #10:\n",
      "walker rubio like cruz paul fiorina rand kasich scott good\n",
      "##################################################\n",
      "Topic #1:\n",
      "party republican republicans base gop candidates vote voters democratic presidential\n",
>>>>>>> 5fa35abd20ec79846d3a7852f92314ad9f69355e
      "Topic #2:\n",
      "sanders bernie trump brooks senator experience ideas governing party little\n",
      "Topic #3:\n",
<<<<<<< HEAD
      "kasich vis biggest huckabee times argued didn mike unconditional gantry\n",
      "Topic #4:\n",
      "bush cruz huckabee walker trump rubio fiorina jeb ted paul\n",
      "Topic #5:\n",
      "tax 10 flat wealth billion make income big population dr\n",
      "Topic #6:\n",
      "students high junior far right debate thank school feet little\n",
      "Topic #7:\n",
      "black party white republican gop carson man base conservative obama\n",
      "Topic #8:\n",
      "dr carson poor government health care work just healthcare like\n",
      "Topic #9:\n",
      "mr vote say believe trump plausible doesn nomination carson people\n",
      "Topic #10:\n",
      "ben ross knows know man douthat york god good cnn\n"
=======
      "trump donald like mr gop support saying polls appeal supporters\n",
      "Topic #4:\n",
      "debate fox candidates news cnn questions did moderators media night\n",
      "Topic #5:\n",
      "illegal immigration immigrants legal country aliens zero citizenship americans immigrant\n",
      "Topic #6:\n",
      "people just don like think want say way government time\n",
      "Topic #7:\n",
      "bush jeb rubio brother walker florida family george scott election\n",
      "Topic #8:\n",
      "sanders bernie mr brooks experience governing little senator david anti\n",
      "Topic #9:\n",
      "president hillary clinton obama country running run candidate damage fiorina\n",
      "Topic #10:\n",
      "carson dr ben like fiorina man huckabee paul cruz neurosurgeon\n"
>>>>>>> 5fa35abd20ec79846d3a7852f92314ad9f69355e
     ]
    }
   ],
   "source": [
    "list_ = [carson_pos, carson_neg]\n",
    "carson_examples = []\n",
    "\n",
    "for i in list_: \n",
    "    V = vectorizer.fit_transform(i['Comment'].values).toarray()\n",
    "    features = vectorizer.get_feature_names()\n",
    "    nmf = NMF(n_components=10).fit(V)\n",
    "\n",
    "    #print nmf.transform(V).shape\n",
    "    matrix = nmf.transform(V)\n",
    "    index = matrix.argmax(axis=0)\n",
    "    i = i.reset_index()\n",
    "    carson_examples.append(i.ix[index]['Comment'].values)\n",
    "    \n",
    "    print(\"##################################################\")\n",
    "    for topic_idx, topic in enumerate(nmf.components_, 1):\n",
    "        print(\"Topic #%d:\" % topic_idx)\n",
    "        print(\" \".join([features[i]\n",
    "                for i in topic.argsort()[:-10 -1:-1]]))\n",
    "        \n",
    "\n",
    "carson_pos_examples = carson_examples[0]\n",
    "carson_neg_examples = carson_examples[1]"
   ]
  },
  {
   "cell_type": "code",
   "execution_count": 218,
   "metadata": {
    "collapsed": false
   },
   "outputs": [],
   "source": [
    "pd.DataFrame(hilary_pos_examples).to_csv('data/hilary_pos_examples.csv')\n",
    "pd.DataFrame(hilary_neg_examples).to_csv('data/hilary_neg_examples.csv')\n",
    "\n",
    "pd.DataFrame(sanders_pos_examples).to_csv('data/sanders_pos_examples.csv')\n",
    "pd.DataFrame(sanders_neg_examples).to_csv('data/sanders_neg_examples.csv')\n",
    "\n",
    "pd.DataFrame(biden_pos_examples).to_csv('data/biden_pos_examples.csv')\n",
    "pd.DataFrame(biden_neg_examples).to_csv('data/biden_neg_examples.csv')\n",
    "\n",
    "pd.DataFrame(trump_pos_examples).to_csv('data/trump_pos_examples.csv')\n",
    "pd.DataFrame(trump_neg_examples).to_csv('data/trump_neg_examples.csv')\n",
    "\n",
    "pd.DataFrame(bush_pos_examples).to_csv('data/bush_pos_examples.csv')\n",
    "pd.DataFrame(bush_neg_examples).to_csv('data/bush_neg_examples.csv')\n",
    "\n",
    "pd.DataFrame(carson_pos_examples).to_csv('data/carson_pos_examples.csv')\n",
    "pd.DataFrame(carson_neg_examples).to_csv('data/carson_neg_examples.csv')"
   ]
  },
  {
   "cell_type": "markdown",
   "metadata": {},
   "source": [
    "### Testing topic with time trend"
   ]
  },
  {
   "cell_type": "code",
   "execution_count": 72,
   "metadata": {
    "collapsed": true
   },
   "outputs": [],
   "source": [
    "import datetime\n",
    "\n",
    "def unix_convert(x):\n",
    "    return datetime.datetime.fromtimestamp(x).strftime('%Y-%m-%d %H:%M:%S')"
   ]
  },
  {
   "cell_type": "code",
   "execution_count": 73,
   "metadata": {
    "collapsed": false
   },
   "outputs": [],
   "source": [
    "url = 'http://www.nytimes.com/2015/09/03/opinion/clinton-trump-and-the-politics-of-self-destruction.html'"
   ]
  },
  {
   "cell_type": "code",
   "execution_count": 74,
   "metadata": {
    "collapsed": false
   },
   "outputs": [],
   "source": [
    "data2 = pd.read_csv('data/data2.csv')"
   ]
  },
  {
   "cell_type": "code",
   "execution_count": 75,
   "metadata": {
    "collapsed": false
   },
   "outputs": [],
   "source": [
    "data2['date'] = data2['date'].apply(lambda x : unix_convert(x))\n",
    "data2['date'] = data2['date'].apply(lambda x : pd.to_datetime(x))"
   ]
  },
  {
   "cell_type": "code",
   "execution_count": 76,
   "metadata": {
    "collapsed": false
   },
   "outputs": [],
   "source": [
    "dups = data2.duplicated('Comment', 'date')"
   ]
  },
  {
   "cell_type": "code",
   "execution_count": 77,
   "metadata": {
    "collapsed": false
   },
   "outputs": [],
   "source": [
    "data2 = data2[-dups]"
   ]
  },
  {
   "cell_type": "code",
   "execution_count": 78,
   "metadata": {
    "collapsed": false,
    "scrolled": true
   },
   "outputs": [],
   "source": [
    "data2['hour'] = data2.date.map(lambda x: x.hour)\n",
    "data2.sort('hour', inplace=True)"
   ]
  },
  {
   "cell_type": "code",
   "execution_count": 79,
   "metadata": {
    "collapsed": false
   },
   "outputs": [],
   "source": [
    "text_count = []\n",
    "for i in range(3,13):\n",
    "    text_count.append(data2.ix[data2['hour'] ==i]['Comment'])"
   ]
  },
  {
   "cell_type": "code",
   "execution_count": 80,
   "metadata": {
    "collapsed": false
   },
   "outputs": [
    {
     "name": "stdout",
     "output_type": "stream",
     "text": [
      "Topic #1:\n",
      "field impressive republican analysis fluff accurate plenty piece deeper alternatives\n",
      "Topic #2:\n",
      "greatest classified political petraeus public party nominee criminal late source\n",
      "Topic #3:\n",
      "center fellow ethics policy thunk senior administrations served public republican\n",
      "Topic #4:\n",
      "bush let jeb 17 hillary forget head rick john joe\n",
      "Topic #5:\n",
      "op ed partisan nytimes publish administrator did republican dreams handed\n",
      "Topic #6:\n",
      "american nyt presidential status issue employment race clinton expect candidate\n",
      "Topic #7:\n",
      "machine mil gov strikes cloaked rove concern karl running attack\n",
      "Topic #8:\n",
      "gop trump amounts begging file wing rank establishment little money\n",
      "Topic #9:\n",
      "right hillary positions articles balanced public embellish litany left mis\n",
      "Topic #10:\n",
      "trump article destruction title politics self statements couple perfunctory transparent\n",
      "Topic #1:\n",
      "field impressive republican analysis fluff accurate plenty piece deeper alternatives\n",
      "Topic #2:\n",
      "greatest classified political petraeus public party nominee late criminal evidence\n",
      "Topic #3:\n",
      "center fellow ethics policy thunk senior administrations served public republican\n",
      "Topic #4:\n",
      "bush let jeb 17 hillary forget head rick john joe\n",
      "Topic #5:\n",
      "op ed partisan nytimes publish administrator did republican dreams handed\n",
      "Topic #6:\n",
      "american nyt presidential status issue employment race clinton expect candidate\n",
      "Topic #7:\n",
      "machine mil gov strikes cloaked rove concern karl running attack\n",
      "Topic #8:\n",
      "gop trump amounts establishment rank wing begging file little money\n",
      "Topic #9:\n",
      "right hillary positions articles balanced public embellish litany left mis\n",
      "Topic #10:\n",
      "trump article destruction title politics self statements couple perfunctory transparent\n",
      "Topic #1:\n",
      "field impressive republican analysis fluff accurate plenty piece deeper alternatives\n",
      "Topic #2:\n",
      "greatest classified political petraeus public party nominee criminal late source\n",
      "Topic #3:\n",
      "center fellow ethics policy thunk senior administrations served public republican\n",
      "Topic #4:\n",
      "bush let jeb 17 hillary forget head rick john joe\n",
      "Topic #5:\n",
      "op ed partisan nytimes publish administrator did republican dreams handed\n",
      "Topic #6:\n",
      "american nyt presidential status issue employment race clinton expect candidate\n",
      "Topic #7:\n",
      "machine mil gov strikes cloaked rove concern karl running attack\n",
      "Topic #8:\n",
      "gop trump amounts begging file wing rank establishment little money\n",
      "Topic #9:\n",
      "right hillary positions articles balanced public embellish litany left mis\n",
      "Topic #10:\n",
      "trump article destruction title politics self statements couple perfunctory transparent\n",
      "Topic #1:\n",
      "field impressive republican analysis fluff accurate plenty piece deeper alternatives\n",
      "Topic #2:\n",
      "greatest classified political petraeus public party nominee late criminal evidence\n",
      "Topic #3:\n",
      "center fellow ethics policy thunk senior administrations served public republican\n",
      "Topic #4:\n",
      "bush let jeb 17 hillary forget head rick john joe\n",
      "Topic #5:\n",
      "op ed partisan nytimes publish administrator did republican dreams handed\n",
      "Topic #6:\n",
      "american nyt presidential status issue employment race clinton expect candidate\n",
      "Topic #7:\n",
      "machine mil gov strikes cloaked rove concern karl running attack\n",
      "Topic #8:\n",
      "gop trump amounts establishment rank wing begging file little money\n",
      "Topic #9:\n",
      "right hillary positions articles balanced public embellish litany left mis\n",
      "Topic #10:\n",
      "trump article destruction title politics self statements couple perfunctory transparent\n",
      "Topic #1:\n",
      "field impressive republican analysis fluff accurate plenty piece deeper alternatives\n",
      "Topic #2:\n",
      "greatest classified political petraeus public party nominee criminal late source\n",
      "Topic #3:\n",
      "center fellow ethics policy thunk senior administrations served public republican\n",
      "Topic #4:\n",
      "bush let jeb 17 hillary forget head rick john joe\n",
      "Topic #5:\n",
      "op ed partisan nytimes publish administrator did republican dreams handed\n",
      "Topic #6:\n",
      "american nyt presidential status issue employment race clinton expect candidate\n",
      "Topic #7:\n",
      "machine mil gov strikes cloaked rove concern karl running attack\n",
      "Topic #8:\n",
      "gop trump amounts begging file wing rank establishment little money\n",
      "Topic #9:\n",
      "right hillary positions articles balanced public embellish litany left mis\n",
      "Topic #10:\n",
      "trump article destruction title politics self statements couple perfunctory transparent\n",
      "Topic #1:\n",
      "field impressive republican analysis fluff accurate plenty piece deeper alternatives\n",
      "Topic #2:\n",
      "greatest classified political petraeus public party nominee late criminal evidence\n",
      "Topic #3:\n",
      "center fellow ethics policy thunk senior administrations served public republican\n",
      "Topic #4:\n",
      "bush let jeb 17 hillary forget head rick john joe\n",
      "Topic #5:\n",
      "op ed partisan nytimes publish administrator did republican dreams handed\n",
      "Topic #6:\n",
      "american nyt presidential status issue employment race clinton expect candidate\n",
      "Topic #7:\n",
      "machine mil gov strikes cloaked rove concern karl running attack\n",
      "Topic #8:\n",
      "gop trump amounts establishment rank wing begging file little money\n",
      "Topic #9:\n",
      "right hillary positions articles balanced public embellish litany left mis\n",
      "Topic #10:\n",
      "trump article destruction title politics self statements couple perfunctory transparent\n",
      "Topic #1:\n",
      "field impressive republican analysis fluff accurate plenty piece deeper alternatives\n",
      "Topic #2:\n",
      "greatest classified political petraeus public party nominee criminal late source\n",
      "Topic #3:\n",
      "center fellow ethics policy thunk senior administrations served public republican\n",
      "Topic #4:\n",
      "bush let jeb 17 hillary forget head rick john joe\n",
      "Topic #5:\n",
      "op ed partisan nytimes publish administrator did republican dreams handed\n",
      "Topic #6:\n",
      "american nyt presidential status issue employment race clinton expect candidate\n",
      "Topic #7:\n",
      "machine mil gov strikes cloaked rove concern karl running attack\n",
      "Topic #8:\n",
      "gop trump amounts begging file wing rank establishment little money\n",
      "Topic #9:\n",
      "right hillary positions articles balanced public embellish litany left mis\n",
      "Topic #10:\n",
      "trump article destruction title politics self statements couple perfunctory transparent\n",
      "Topic #1:\n",
      "field impressive republican analysis fluff accurate plenty piece deeper alternatives\n",
      "Topic #2:\n",
      "greatest classified political petraeus public party nominee late criminal evidence\n",
      "Topic #3:\n",
      "center fellow ethics policy thunk senior administrations served public republican\n",
      "Topic #4:\n",
      "bush let jeb 17 hillary forget head rick john joe\n",
      "Topic #5:\n",
      "op ed partisan nytimes publish administrator did republican dreams handed\n",
      "Topic #6:\n",
      "american nyt presidential status issue employment race clinton expect candidate\n",
      "Topic #7:\n",
      "machine mil gov strikes cloaked rove concern karl running attack\n",
      "Topic #8:\n",
      "gop trump amounts establishment rank wing begging file little money\n",
      "Topic #9:\n",
      "right hillary positions articles balanced public embellish litany left mis\n",
      "Topic #10:\n",
      "trump article destruction title politics self statements couple perfunctory transparent\n",
      "Topic #1:\n",
      "field impressive republican analysis fluff accurate plenty piece deeper alternatives\n",
      "Topic #2:\n",
      "greatest classified political petraeus public party nominee criminal late source\n",
      "Topic #3:\n",
      "center fellow ethics policy thunk senior administrations served public republican\n",
      "Topic #4:\n",
      "bush let jeb 17 hillary forget head rick john joe\n",
      "Topic #5:\n",
      "op ed partisan nytimes publish administrator did republican dreams handed\n",
      "Topic #6:\n",
      "american nyt presidential status issue employment race clinton expect candidate\n",
      "Topic #7:\n",
      "machine mil gov strikes cloaked rove concern karl running attack\n",
      "Topic #8:\n",
      "gop trump amounts begging file wing rank establishment little money\n",
      "Topic #9:\n",
      "right hillary positions articles balanced public embellish litany left mis\n",
      "Topic #10:\n",
      "trump article destruction title politics self statements couple perfunctory transparent\n",
      "Topic #1:\n",
      "field impressive republican analysis fluff accurate plenty piece deeper alternatives\n",
      "Topic #2:\n",
      "greatest classified political petraeus public party nominee late criminal evidence\n",
      "Topic #3:\n",
      "center fellow ethics policy thunk senior administrations served public republican\n",
      "Topic #4:\n",
      "bush let jeb 17 hillary forget head rick john joe\n",
      "Topic #5:\n",
      "op ed partisan nytimes publish administrator did republican dreams handed\n",
      "Topic #6:\n",
      "american nyt presidential status issue employment race clinton expect candidate\n",
      "Topic #7:\n",
      "machine mil gov strikes cloaked rove concern karl running attack\n",
      "Topic #8:\n",
      "gop trump amounts establishment rank wing begging file little money\n",
      "Topic #9:\n",
      "right hillary positions articles balanced public embellish litany left mis\n",
      "Topic #10:\n",
      "trump article destruction title politics self statements couple perfunctory transparent\n"
     ]
    }
   ],
   "source": [
    "for i in range(len(text_count)):\n",
    "    vectorizer = TfidfVectorizer(stop_words='english')\n",
    "    V = vectorizer.fit_transform(text_count[:i+1][0].values).toarray() \n",
    "    features = vectorizer.get_feature_names()\n",
    "    nmf = NMF(n_components=3).fit(V)\n",
    "    #i+1\n",
    "    for topic_idx, topic in enumerate(nmf.components_, 1):\n",
    "        print(\"Topic #%d:\" % topic_idx)\n",
    "        print(\" \".join([features[i]\n",
    "            for i in topic.argsort()[:-5 -1:-1]])) ## Get just top 1?"
   ]
  },
  {
   "cell_type": "code",
   "execution_count": null,
   "metadata": {
    "collapsed": true
   },
   "outputs": [],
   "source": []
  }
 ],
 "metadata": {
  "kernelspec": {
   "display_name": "Python 2",
   "language": "python",
   "name": "python2"
  },
  "language_info": {
   "codemirror_mode": {
    "name": "ipython",
    "version": 2
   },
   "file_extension": ".py",
   "mimetype": "text/x-python",
   "name": "python",
   "nbconvert_exporter": "python",
   "pygments_lexer": "ipython2",
   "version": "2.7.10"
  }
 },
 "nbformat": 4,
 "nbformat_minor": 0
}
