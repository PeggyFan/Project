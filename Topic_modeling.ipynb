{
 "cells": [
  {
   "cell_type": "code",
   "execution_count": 1,
   "metadata": {
    "collapsed": true
   },
   "outputs": [],
   "source": [
    "import pandas as pd\n",
    "import numpy as np \n",
    "import sklearn.cluster\n",
    "from sklearn.feature_extraction.text import CountVectorizer, TfidfVectorizer\n",
    "from sklearn.cluster import KMeans\n",
    "import matplotlib.pyplot as plt\n",
    "from numpy.linalg import lstsq\n",
    "from sklearn.decomposition import NMF\n",
    "from sklearn.metrics import mean_squared_error\n",
    "from sklearn.feature_extraction import text \n",
    "import re\n",
    "%matplotlib inline"
   ]
  },
  {
   "cell_type": "code",
   "execution_count": 2,
   "metadata": {
    "collapsed": true
   },
   "outputs": [],
   "source": [
    "def remove_html_tags(data):\n",
    "    p = re.compile(r'<[^<]*?>')\n",
    "    return p.sub('', data)\n",
    "     "
   ]
  },
  {
   "cell_type": "code",
   "execution_count": 4,
   "metadata": {
    "collapsed": false
   },
   "outputs": [
    {
     "name": "stdout",
     "output_type": "stream",
     "text": [
      "##################################################\n",
      "Topic #1:\n",
      "bernie sanders support socialist win media candidate senator campaign vote\n",
      "Topic #2:\n",
      "joe biden run man vp love legacy warren vice beau\n",
      "Topic #3:\n",
      "iran deal war nuclear israel obama agreement sanctions world bomb\n",
      "Topic #4:\n",
      "trump donald gop mr fox debate bush fiorina media candidates\n",
      "Topic #5:\n",
      "college government money pay education students tax free tuition wage\n",
      "Topic #6:\n",
      "hillary clinton mrs email campaign server bush woman democrats emails\n",
      "Topic #7:\n",
      "republican party vote democratic candidate candidates democrats republicans election win\n",
      "Topic #8:\n",
      "times nyt news story coverage new york ny article readers\n",
      "Topic #9:\n",
      "president obama vice mr running woman states united biden office\n",
      "Topic #10:\n",
      "people like don just time think know good want really\n",
      "##################################################\n",
      "Topic #1:\n",
      "bernie sanders hillary campaign candidate supporters socialist angry article media\n",
      "Topic #2:\n",
      "times story news nyt coverage new york ny reporting article\n",
      "Topic #3:\n",
      "people like just don time think want country money government\n",
      "Topic #4:\n",
      "clinton hillary mrs email server emails bush state classified secretary\n",
      "Topic #5:\n",
      "biden joe run president vice running son time man mr\n",
      "Topic #6:\n",
      "trump donald mr candidates bush gop fox debate media jeb\n",
      "Topic #7:\n",
      "black white lives matter police blow crime blacks people community\n",
      "Topic #8:\n",
      "iran deal obama war nuclear israel president agreement iraq years\n",
      "Topic #9:\n",
      "party republican vote gop democratic candidate republicans candidates democrats base\n",
      "Topic #10:\n",
      "fiorina hp carly business failed ceo record company ms women\n"
     ]
    }
   ],
   "source": [
    "hilary = pd.read_csv('data/hilary_scores.csv')\n",
    "hilary_pos = hilary[hilary['Sentiment_b']==1]\n",
    "hilary_neg = hilary[hilary['Sentiment_b']==0]\n",
    "\n",
    "vectorizer = TfidfVectorizer(stop_words='english', max_features = 5000)\n",
    "list_ = [hilary_pos, hilary_neg]\n",
    "\n",
    "for i in list_:\n",
    "    print(\"##################################################\")\n",
    "    V = vectorizer.fit_transform(i['Comment'].values).toarray()\n",
    "    features = vectorizer.get_feature_names()\n",
    "    nmf = NMF(n_components=10).fit(V)\n",
    "\n",
    "    for topic_idx, topic in enumerate(nmf.components_, 1):\n",
    "        print(\"Topic #%d:\" % topic_idx)\n",
    "        print(\" \".join([features[i]\n",
    "                        for i in topic.argsort()[:-10 - 1:-1]]))\n"
   ]
  },
  {
   "cell_type": "code",
   "execution_count": 10,
   "metadata": {
    "collapsed": false
   },
   "outputs": [
    {
     "data": {
      "text/plain": [
       "(6607, 10)"
      ]
     },
     "execution_count": 10,
     "metadata": {},
     "output_type": "execute_result"
    }
   ],
   "source": [
    "nmf.transform(V).shape"
   ]
  },
  {
   "cell_type": "code",
   "execution_count": 18,
   "metadata": {
    "collapsed": false
   },
   "outputs": [],
   "source": [
    "matrix = nmf.transform(V)"
   ]
  },
  {
   "cell_type": "code",
   "execution_count": 19,
   "metadata": {
    "collapsed": false
   },
   "outputs": [
    {
     "data": {
      "text/plain": [
       "array([2465, 2312, 3752, 2188, 4705, 5233, 3062, 4114, 1477, 3236])"
      ]
     },
     "execution_count": 19,
     "metadata": {},
     "output_type": "execute_result"
    }
   ],
   "source": [
    "matrix.argmax(axis=0)"
   ]
  },
  {
   "cell_type": "code",
   "execution_count": 22,
   "metadata": {
    "collapsed": false
   },
   "outputs": [
    {
     "name": "stdout",
     "output_type": "stream",
     "text": [
      "##################################################\n",
      "Topic #1:\n",
      "hillary clinton candidate campaign mrs bush warren issues ms jeb\n",
      "Topic #2:\n",
      "bernie love sanders need vermont candidate run em like man\n",
      "Topic #3:\n",
      "people just like don think know time want country really\n",
      "Topic #4:\n",
      "vote got ll primary don election voting voted republican win\n",
      "Topic #5:\n",
      "sanders senator thank warren mr sen president 2016 socialist ticket\n",
      "Topic #6:\n",
      "class middle working poor income rich americans jobs term economic\n",
      "Topic #7:\n",
      "president obama legacy republicans barack 2012 deal did congress bush\n",
      "Topic #8:\n",
      "party republican democratic democrats right left republicans candidate candidates election\n",
      "Topic #9:\n",
      "tax cuts taxes pay social rich security income bush republicans\n",
      "Topic #10:\n",
      "government trade good american money jobs food world free public\n",
      "##################################################\n",
      "Topic #1:\n",
      "people government american common country nation america believe poor leaders\n",
      "Topic #2:\n",
      "hillary clinton left woman bush gop democratic running candidate ms\n",
      "Topic #3:\n",
      "bernie sanders senator candidate socialist truth running mr long campaign\n",
      "Topic #4:\n",
      "class middle poor working income politicians americans lower american jobs\n",
      "Topic #5:\n",
      "obama president republicans legacy democrats mr blame deal bush think\n",
      "Topic #6:\n",
      "vote party republican democratic democrats candidate tea candidates republicans election\n",
      "Topic #7:\n",
      "trade jobs tpp american deal corporations workers nafta agreement china\n",
      "Topic #8:\n",
      "tax pay cuts social money security spending taxes government congress\n",
      "Topic #9:\n",
      "just like don time know think bad say way really\n",
      "Topic #10:\n",
      "war military isis iraq day fight draft memorial troops american\n"
     ]
    }
   ],
   "source": [
    "sanders = pd.read_csv('data/sanders_scores.csv')\n",
    "sanders[pd.isnull(sanders['Comment'])] = \"\"\n",
    "\n",
    "sanders_pos = sanders[sanders['Sentiment_b']==1]\n",
    "sanders_neg = sanders[sanders['Sentiment_b']==0]\n",
    "\n",
    "vectorizer = TfidfVectorizer(stop_words='english', max_features = 5000)\n",
    "\n",
    "list_ = [sanders_pos, sanders_neg]\n",
    "\n",
    "for i in list_:\n",
    "    print(\"##################################################\")\n",
    "    \n",
    "    V = vectorizer.fit_transform(i['Comment'].values).toarray()\n",
    "    features = vectorizer.get_feature_names()\n",
    "    nmf = NMF(n_components=10).fit(V)\n",
    "\n",
    "    for topic_idx, topic in enumerate(nmf.components_, 1):\n",
    "        print(\"Topic #%d:\" % topic_idx)\n",
    "        print(\" \".join([features[i]\n",
    "                        for i in topic.argsort()[:-10 - 1:-1]]))"
   ]
  },
  {
   "cell_type": "code",
   "execution_count": 24,
   "metadata": {
    "collapsed": false
   },
   "outputs": [
    {
     "name": "stdout",
     "output_type": "stream",
     "text": [
      "##################################################\n",
      "Topic #1:\n",
      "bernie sanders support socialist win media candidate senator campaign vote\n",
      "Topic #2:\n",
      "joe biden run man vp love legacy warren vice beau\n",
      "Topic #3:\n",
      "iran deal war nuclear israel obama agreement sanctions world bomb\n",
      "Topic #4:\n",
      "trump donald gop mr fox debate bush fiorina media candidates\n",
      "Topic #5:\n",
      "college government money pay education students tax free tuition wage\n",
      "Topic #6:\n",
      "hillary clinton mrs email campaign server bush woman democrats emails\n",
      "Topic #7:\n",
      "republican party vote democratic candidate candidates democrats republicans election win\n",
      "Topic #8:\n",
      "times nyt news story coverage new york ny article readers\n",
      "Topic #9:\n",
      "president obama vice mr running woman states united biden office\n",
      "Topic #10:\n",
      "people like don just time think know good want really\n",
      "##################################################\n",
      "Topic #1:\n",
      "bernie sanders hillary campaign candidate supporters socialist angry article media\n",
      "Topic #2:\n",
      "times story news nyt coverage new york ny reporting article\n",
      "Topic #3:\n",
      "people like just don time think want country money government\n",
      "Topic #4:\n",
      "clinton hillary mrs email server emails bush state classified secretary\n",
      "Topic #5:\n",
      "biden joe run president vice running son time man mr\n",
      "Topic #6:\n",
      "trump donald mr candidates bush gop fox debate media jeb\n",
      "Topic #7:\n",
      "black white lives matter police blow crime blacks people community\n",
      "Topic #8:\n",
      "iran deal obama war nuclear israel president agreement iraq years\n",
      "Topic #9:\n",
      "party republican vote gop democratic candidate republicans candidates democrats base\n",
      "Topic #10:\n",
      "fiorina hp carly business failed ceo record company ms women\n"
     ]
    }
   ],
   "source": [
    "biden = pd.read_csv('data/biden_scores.csv')\n",
    "vectorizer = TfidfVectorizer(stop_words='english', max_features = 5000)\n",
    "\n",
    "biden_pos = biden[biden['Sentiment_b']==1]\n",
    "biden_neg = biden[biden['Sentiment_b']==0]\n",
    "\n",
    "list_ = [biden_pos, biden_neg]\n",
    "\n",
    "for i in list_:\n",
    "    print(\"##################################################\")\n",
    "    V = vectorizer.fit_transform(i['Comment'].values).toarray()\n",
    "    features = vectorizer.get_feature_names()\n",
    "    nmf = NMF(n_components=10).fit(V)\n",
    "\n",
    "    for topic_idx, topic in enumerate(nmf.components_, 1):\n",
    "        print(\"Topic #%d:\" % topic_idx)\n",
    "        print(\" \".join([features[i]\n",
    "                        for i in topic.argsort()[:-10 - 1:-1]]))"
   ]
  },
  {
   "cell_type": "code",
   "execution_count": 20,
   "metadata": {
    "collapsed": false
   },
   "outputs": [
    {
     "data": {
      "text/plain": [
       "71997"
      ]
     },
     "execution_count": 20,
     "metadata": {},
     "output_type": "execute_result"
    }
   ],
   "source": [
    "df_states = pd.read_csv(\"data/df_states_truncated.csv\")\n",
    "len(df_states)"
   ]
  },
  {
   "cell_type": "code",
   "execution_count": 21,
   "metadata": {
    "collapsed": false,
    "scrolled": false
   },
   "outputs": [
    {
     "name": "stdout",
     "output_type": "stream",
     "text": [
      "##################################################\n",
      "Topic #1:\n",
      "trump supporters support media says campaign polls money voters 2016\n",
      "Topic #2:\n",
      "people country american america immigration world americans immigrants political government\n",
      "Topic #3:\n",
      "bush jeb brother safe george kept clinton smarter family iraq\n",
      "Topic #4:\n",
      "sanders bernie hillary clinton brooks biden experience times democratic candidate\n",
      "Topic #5:\n",
      "mr brooks ramos bruni column thank blow right ms press\n",
      "Topic #6:\n",
      "debate candidates media news cnn fox time questions issues reality\n",
      "Topic #7:\n",
      "gop candidate candidates nomination women win run base election voters\n",
      "Topic #8:\n",
      "donald maureen great dowd column love man know thank new\n",
      "Topic #9:\n",
      "like president think just don really say know good want\n",
      "Topic #10:\n",
      "party republican republicans democratic candidates democrats candidate democrat tea voters\n",
      "##################################################\n",
      "Topic #1:\n",
      "republican party base republicans candidates candidate voters democrats vote election\n",
      "Topic #2:\n",
      "illegal immigration immigrants legal aliens country laws border citizenship immigrant\n",
      "Topic #3:\n",
      "bush jeb brother president george clinton smarter family hillary iraq\n",
      "Topic #4:\n",
      "sanders bernie hillary brooks clinton experience david governing candidate senator\n",
      "Topic #5:\n",
      "debate cnn candidates news media fiorina fox did questions time\n",
      "Topic #6:\n",
      "people just country don think want american world president america\n",
      "Topic #7:\n",
      "trump donald media just doesn man support does kelly president\n",
      "Topic #8:\n",
      "mr ramos trump brooks press conference blow bruni turn journalist\n",
      "Topic #9:\n",
      "gop base candidates trump voters hate years conservative class party\n",
      "Topic #10:\n",
      "like don look military say think looks mean school sounds\n"
     ]
    }
   ],
   "source": [
    "trump = pd.read_csv('data/trump_scores.csv')\n",
    "pd.isnull(trump['Comment']).sum()\n",
    "#sanders[pd.isnull(sanders['Comment'])] = \"\"\n",
    "\n",
    "trump_pos = trump[trump['Sentiment_b']==1]\n",
    "trump_neg = trump[trump['Sentiment_b']==0]\n",
    "\n",
    "vectorizer = TfidfVectorizer(stop_words='english', max_features = 5000)\n",
    "\n",
    "list_ = [trump_pos, trump_neg]\n",
    "\n",
    "for i in list_:\n",
    "    print(\"##################################################\")\n",
    "\n",
    "    V = vectorizer.fit_transform(i['Comment'].values).toarray() \n",
    "    features = vectorizer.get_feature_names()\n",
    "    nmf = NMF(n_components=10).fit(V)\n",
    "\n",
    "    for topic_idx, topic in enumerate(nmf.components_, 1):\n",
    "        print(\"Topic #%d:\" % topic_idx)\n",
    "        print(\" \".join([features[i]\n",
    "             for i in topic.argsort()[:-10 - 1:-1]]))"
   ]
  },
  {
   "cell_type": "code",
   "execution_count": 25,
   "metadata": {
    "collapsed": false
   },
   "outputs": [
    {
     "name": "stdout",
     "output_type": "stream",
     "text": [
      "##################################################\n",
      "Topic #1:\n",
      "trump donald mr mccain media president america says said polls\n",
      "Topic #2:\n",
      "work tax hours jobs pay taxes working workers time income\n",
      "Topic #3:\n",
      "bush jeb brother george family smart florida smarter iraq campaign\n",
      "Topic #4:\n",
      "hillary president clinton biden joe run obama vote dowd win\n",
      "Topic #5:\n",
      "sanders bernie times coverage nyt media campaign candidate candidates clinton\n",
      "Topic #6:\n",
      "republican party republicans candidates candidate democratic democrats vote voters presidential\n",
      "Topic #7:\n",
      "people country american america immigrants immigration right americans want illegal\n",
      "Topic #8:\n",
      "iran deal israel nuclear war obama agreement sanctions world weapons\n",
      "Topic #9:\n",
      "like just don think good really know time say colbert\n",
      "Topic #10:\n",
      "gop candidates kasich win voters election candidate primary nomination walker\n",
      "##################################################\n",
      "Topic #1:\n",
      "trump donald mr media mccain candidates comments american attention way\n",
      "Topic #2:\n",
      "illegal immigrants immigration country illegally undocumented legal immigrant aliens law\n",
      "Topic #3:\n",
      "republican party base candidates candidate vote republicans voters tea democrats\n",
      "Topic #4:\n",
      "iran deal nuclear israel war sanctions agreement bomb weapons world\n",
      "Topic #5:\n",
      "people work government american time jobs poor tax class working\n",
      "Topic #6:\n",
      "gop candidates base kasich voters candidate party presidential clown years\n",
      "Topic #7:\n",
      "just like don say think know really bad doesn things\n",
      "Topic #8:\n",
      "sanders bernie times hillary clinton coverage candidate media nyt ms\n",
      "Topic #9:\n",
      "jeb bush brother family george smarter smart florida campaign iraq\n",
      "Topic #10:\n",
      "president obama republicans run running country democrats office biden clinton\n"
     ]
    }
   ],
   "source": [
    "bush = pd.read_csv('data/bush_scores.csv')\n",
    "vectorizer = TfidfVectorizer(stop_words='english', max_features = 5000)\n",
    "\n",
    "bush_pos = bush[bush['Sentiment_b']==1]\n",
    "bush_neg = bush[bush['Sentiment_b']==0]\n",
    "\n",
    "list_ = [bush_pos, bush_neg]\n",
    "\n",
    "for i in list_:\n",
    "    print(\"##################################################\")\n",
    "                                     \n",
    "    V = vectorizer.fit_transform(i['Comment'].values).toarray()\n",
    "    features = vectorizer.get_feature_names()\n",
    "    nmf = NMF(n_components=10).fit(V)\n",
    "\n",
    "    for topic_idx, topic in enumerate(nmf.components_, 1):\n",
    "        print(\"Topic #%d:\" % topic_idx)\n",
    "        print(\" \".join([features[i]\n",
    "                        for i in topic.argsort()[:-10 - 1:-1]]))"
   ]
  },
  {
   "cell_type": "code",
   "execution_count": 27,
   "metadata": {
    "collapsed": false
   },
   "outputs": [
    {
     "name": "stdout",
     "output_type": "stream",
     "text": [
      "##################################################\n",
      "Topic #1:\n",
      "people don just think country white want like government need\n",
      "Topic #2:\n",
      "trump donald mr like supporters america support polls immigration say\n",
      "Topic #3:\n",
      "party republican republicans vote democratic candidates democrats voters tea election\n",
      "Topic #4:\n",
      "bush jeb brother florida safe george win kept election 11\n",
      "Topic #5:\n",
      "president hillary sanders bernie clinton mr brooks biden obama candidate\n",
      "Topic #6:\n",
      "debate fox candidates news questions debates night media did watch\n",
      "Topic #7:\n",
      "carson dr ben black doctor neurosurgeon obama surgeon care medical\n",
      "Topic #8:\n",
      "gop clown candidates car candidate just presidential voters 2016 field\n",
      "Topic #9:\n",
      "gail welcome missed collins great column thank glad good ve\n",
      "Topic #10:\n",
      "walker rubio like cruz paul fiorina rand kasich scott good\n",
      "##################################################\n",
      "Topic #1:\n",
      "party republican republicans base gop candidates vote voters democratic presidential\n",
      "Topic #2:\n",
      "black lives matter police white blacks blow men killed racist\n",
      "Topic #3:\n",
      "trump donald like mr gop support saying polls appeal supporters\n",
      "Topic #4:\n",
      "debate fox candidates news cnn questions did moderators media night\n",
      "Topic #5:\n",
      "illegal immigration immigrants legal country aliens zero citizenship americans immigrant\n",
      "Topic #6:\n",
      "people just don like think want say way government time\n",
      "Topic #7:\n",
      "bush jeb rubio brother walker florida family george scott election\n",
      "Topic #8:\n",
      "sanders bernie mr brooks experience governing little senator david anti\n",
      "Topic #9:\n",
      "president hillary clinton obama country running run candidate damage fiorina\n",
      "Topic #10:\n",
      "carson dr ben like fiorina man huckabee paul cruz neurosurgeon\n"
     ]
    }
   ],
   "source": [
    "carson = pd.read_csv('data/carson_scores.csv')\n",
    "carson[pd.isnull(carson['Comment'])] = \"\"                         \n",
    "\n",
    "carson_pos = carson[carson['Sentiment_b']==1]\n",
    "carson_neg = carson[carson['Sentiment_b']==0]\n",
    "\n",
    "vectorizer = TfidfVectorizer(stop_words='english', max_features = 5000)\n",
    "\n",
    "list_ = [carson_pos, carson_neg]\n",
    "\n",
    "for i in list_:\n",
    "    print(\"##################################################\")\n",
    "\n",
    "    V = vectorizer.fit_transform(i['Comment'].values).toarray() \n",
    "    features = vectorizer.get_feature_names()\n",
    "    nmf = NMF(n_components=10).fit(V)\n",
    "\n",
    "    for topic_idx, topic in enumerate(nmf.components_, 1):\n",
    "        print(\"Topic #%d:\" % topic_idx)\n",
    "        print(\" \".join([features[i]\n",
    "                        for i in topic.argsort()[:-10 - 1:-1]]))"
   ]
  },
  {
   "cell_type": "code",
   "execution_count": null,
   "metadata": {
    "collapsed": true
   },
   "outputs": [],
   "source": []
  },
  {
   "cell_type": "code",
   "execution_count": null,
   "metadata": {
    "collapsed": true
   },
   "outputs": [],
   "source": []
  }
 ],
 "metadata": {
  "kernelspec": {
   "display_name": "Python 2",
   "language": "python",
   "name": "python2"
  },
  "language_info": {
   "codemirror_mode": {
    "name": "ipython",
    "version": 2
   },
   "file_extension": ".py",
   "mimetype": "text/x-python",
   "name": "python",
   "nbconvert_exporter": "python",
   "pygments_lexer": "ipython2",
   "version": "2.7.10"
  }
 },
 "nbformat": 4,
 "nbformat_minor": 0
}
