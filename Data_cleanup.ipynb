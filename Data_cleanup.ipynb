{
 "cells": [
  {
   "cell_type": "code",
   "execution_count": 16,
   "metadata": {
    "collapsed": true
   },
   "outputs": [],
   "source": [
    "import pandas as pd\n",
    "import matplotlib.pyplot as plt\n",
    "import re\n",
    "import string\n",
    "import unidecode\n",
    "%matplotlib inline"
   ]
  },
  {
   "cell_type": "code",
   "execution_count": 17,
   "metadata": {
    "collapsed": false
   },
   "outputs": [],
   "source": [
    "hilary = pd.read_csv('data/hilary_scores.csv')"
   ]
  },
  {
   "cell_type": "code",
   "execution_count": 18,
   "metadata": {
    "collapsed": true
   },
   "outputs": [],
   "source": [
    "def clean(text):\n",
    "    def remove_html_tags(data):\n",
    "        p = re.compile(r'<[^<]*?>')\n",
    "        return p.sub('', data)\n",
    "\n",
    "    content = remove_html_tags(text)\n",
    "    return unidecode.unidecode(content).replace(\"\\n\",\" \").replace(\"\\'s\",\"\").replace(\"\\'t\",\"\")\n"
   ]
  },
  {
   "cell_type": "code",
   "execution_count": 19,
   "metadata": {
    "collapsed": false
   },
   "outputs": [
    {
     "name": "stderr",
     "output_type": "stream",
     "text": [
      "/Users/datascientist/anaconda/lib/python2.7/site-packages/ipykernel/__main__.py:7: RuntimeWarning: Argument <type 'str'> is not an unicode object. Passing an encoded string will likely have unexpected results.\n"
     ]
    }
   ],
   "source": [
    "hilary['Comment'] = hilary.apply(lambda row: clean(row['Comment']), axis = 1)"
   ]
  },
  {
   "cell_type": "code",
   "execution_count": 21,
   "metadata": {
    "collapsed": false
   },
   "outputs": [],
   "source": [
    "hilary_test = hilary.to_csv('data/hilary_test.csv')"
   ]
  },
  {
   "cell_type": "code",
   "execution_count": null,
   "metadata": {
    "collapsed": true
   },
   "outputs": [],
   "source": [
    "for c in candidates:\n",
    "    data = pd.read_csv('data/'+c+'_comments')\n",
    "    data['Sentiment'] = data.apply(lambda row: sentiment(row['Comment']), axis = 1)\n",
    "    data['Sentiment_b'] = data['Sentiment'] >= 0\n",
    "    data['Sentiment_b'] = data['Sentiment_b'].astype(int) \n",
    "    data['Subjectivity'] = data.apply(lambda row: subj(row['Comment']), axis = 1)\n",
    "    data['Subjectivity_b'] = data['Subjectivity'] >= 0\n",
    "    data['Subjectivity_b'] = data['Subjectivity_b'].astype(int) \n",
    "    data.to_csv('data/'+c+'_scores.csv')"
   ]
  },
  {
   "cell_type": "code",
   "execution_count": null,
   "metadata": {
    "collapsed": true
   },
   "outputs": [],
   "source": [
    "candidates = ['hilary', 'sanders', 'biden', 'trump', 'bush', 'carson']"
   ]
  },
  {
   "cell_type": "code",
   "execution_count": null,
   "metadata": {
    "collapsed": true
   },
   "outputs": [],
   "source": [
    "hilary = pd.read_csv('data/hilary_scores.csv')\n",
    "sanders = pd.read_csv('data/sanders_scores.csv')\n",
    "biden = pd.read_csv('data/biden_scores.csv')"
   ]
  },
  {
   "cell_type": "code",
   "execution_count": null,
   "metadata": {
    "collapsed": true
   },
   "outputs": [],
   "source": []
  },
  {
   "cell_type": "code",
   "execution_count": null,
   "metadata": {
    "collapsed": true
   },
   "outputs": [],
   "source": []
  },
  {
   "cell_type": "code",
   "execution_count": null,
   "metadata": {
    "collapsed": true
   },
   "outputs": [],
   "source": []
  },
  {
   "cell_type": "code",
   "execution_count": null,
   "metadata": {
    "collapsed": true
   },
   "outputs": [],
   "source": [
    "from pattern.en import sentiment, polarity, subjectivity\n",
    "def sentiment(text):\n",
    "    return polarity(text)\n",
    "\n",
    "def subj(text):\n",
    "    return subjectivity(text)"
   ]
  },
  {
   "cell_type": "code",
   "execution_count": null,
   "metadata": {
    "collapsed": true
   },
   "outputs": [],
   "source": [
    "hilary = pd.read_csv('data/hilary_score.csv')\n",
    "hilary['Sentiment'] = hilary.apply(lambda row: sentiment(row['Comment']), axis = 1)\n",
    "hilary['Subjectivity'] = hilary.apply(lambda row: subj(row['Comment']), axis = 1)\n",
    "hilary['Sentiment2'] = hilary['Comment'] "
   ]
  },
  {
   "cell_type": "code",
   "execution_count": null,
   "metadata": {
    "collapsed": true
   },
   "outputs": [],
   "source": [
    "def sentiment_new(text):\n",
    "    def remove_html_tags(data):\n",
    "        p = re.compile(r'<[^<]*?>')\n",
    "        return p.sub('', data)\n",
    "\n",
    "    def Sentences(paragraph):\n",
    "        sentenceEnders = re.compile('[.!?]')\n",
    "        sentenceList = sentenceEnders.split(paragraph)\n",
    "        return sentenceList\n",
    "\n",
    "    content = remove_html_tags(text)\n",
    "    content = unidecode.unidecode(content).replace(\"\\n\",\" \").replace(\"\\'\", \" \")\n",
    "    s_max = 0\n",
    "    comment_score = 0\n",
    "\n",
    "    for i in Sentences(content):\n",
    "        if abs(sentiment(i)) > abs(s_max):\n",
    "            comment_score = sentiment(i)\n",
    "            s_max = sentiment(i)\n",
    "    return comment_score"
   ]
  },
  {
   "cell_type": "code",
   "execution_count": null,
   "metadata": {
    "collapsed": true
   },
   "outputs": [],
   "source": [
    "def subj_new(text):\n",
    "    def remove_html_tags(data):\n",
    "        p = re.compile(r'<[^<]*?>')\n",
    "        return p.sub('', data)\n",
    "\n",
    "    def Sentences(paragraph):\n",
    "        sentenceEnders = re.compile('[.!?]')\n",
    "        sentenceList = sentenceEnders.split(paragraph)\n",
    "        return sentenceList\n",
    "\n",
    "    content = remove_html_tags(text)\n",
    "    content = unidecode.unidecode(content).replace(\"\\n\",\" \").replace(\"\\'\", \" \")\n",
    "    s_max = 0\n",
    "    comment_score = 0\n",
    "\n",
    "    for i in Sentences(content):\n",
    "        if abs(subj(i)) > abs(s_max):\n",
    "            comment_score = subj(i)\n",
    "            s_max = subj(i)\n",
    "    return comment_score"
   ]
  },
  {
   "cell_type": "code",
   "execution_count": null,
   "metadata": {
    "collapsed": true
   },
   "outputs": [],
   "source": []
  }
 ],
 "metadata": {
  "kernelspec": {
   "display_name": "Python 2",
   "language": "python",
   "name": "python2"
  },
  "language_info": {
   "codemirror_mode": {
    "name": "ipython",
    "version": 2
   },
   "file_extension": ".py",
   "mimetype": "text/x-python",
   "name": "python",
   "nbconvert_exporter": "python",
   "pygments_lexer": "ipython2",
   "version": "2.7.10"
  }
 },
 "nbformat": 4,
 "nbformat_minor": 0
}
