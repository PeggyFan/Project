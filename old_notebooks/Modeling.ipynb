{
 "cells": [
  {
   "cell_type": "code",
   "execution_count": 1,
   "metadata": {
    "collapsed": false
   },
   "outputs": [],
   "source": [
    "import pandas as pd\n",
    "import numpy as np\n",
    "import re\n",
    "import string\n",
    "from sklearn import metrics\n",
    "from sklearn.svm import SVC\n",
    "from sklearn.feature_extraction.text import TfidfVectorizer\n",
    "from sklearn.ensemble import RandomForestClassifier, AdaBoostClassifier, GradientBoostingClassifier\n",
    "from sklearn.grid_search import GridSearchCV\n",
    "from sklearn.naive_bayes import MultinomialNB, GaussianNB\n",
    "from sklearn import preprocessing\n",
    "import matplotlib.pyplot as plt\n",
    "from sklearn import cross_validation\n",
    "%matplotlib inline\n",
    "import gensim\n",
    "from gensim import corpora, models, similarities\n",
    "from gensim.parsing.preprocessing import STOPWORDS\n",
    "from gensim.models.ldamodel import LdaModel"
   ]
  },
  {
   "cell_type": "code",
   "execution_count": null,
   "metadata": {
    "collapsed": true
   },
   "outputs": [],
   "source": [
    "hilary['Candidate'] = 'Hilary'\n",
    "sanders['Candidate'] = 'Sanders'\n",
    "biden['Candidate'] = 'Biden'\n",
    "trump['Candidate'] = 'Trump'\n",
    "bush['Candidate'] = 'Bush'\n",
    "carson['Candidate'] = 'Carson'"
   ]
  },
  {
   "cell_type": "code",
   "execution_count": null,
   "metadata": {
    "collapsed": false
   },
   "outputs": [],
   "source": [
    "master = pd.read_csv('data/master.csv')\n",
    "dups = master.duplicated('Comment')\n",
    "data = master[-dups]"
   ]
  },
  {
   "cell_type": "code",
   "execution_count": 86,
   "metadata": {
    "collapsed": true
   },
   "outputs": [
    {
     "name": "stdout",
     "output_type": "stream",
     "text": [
      "88191\n"
     ]
    },
    {
     "name": "stderr",
     "output_type": "stream",
     "text": [
      "/Users/datascientist/anaconda/lib/python2.7/site-packages/ipykernel/__main__.py:3: SettingWithCopyWarning: \n",
      "A value is trying to be set on a copy of a slice from a DataFrame.\n",
      "Try using .loc[row_indexer,col_indexer] = value instead\n",
      "\n",
      "See the the caveats in the documentation: http://pandas.pydata.org/pandas-docs/stable/indexing.html#indexing-view-versus-copy\n",
      "  app.launch_new_instance()\n"
     ]
    },
    {
     "data": {
      "text/html": [
       "<div>\n",
       "<table border=\"1\" class=\"dataframe\">\n",
       "  <thead>\n",
       "    <tr style=\"text-align: right;\">\n",
       "      <th></th>\n",
       "      <th>Recommendations</th>\n",
       "      <th>EditorPick</th>\n",
       "      <th>Count</th>\n",
       "    </tr>\n",
       "    <tr>\n",
       "      <th>State</th>\n",
       "      <th></th>\n",
       "      <th></th>\n",
       "      <th></th>\n",
       "    </tr>\n",
       "  </thead>\n",
       "  <tbody>\n",
       "    <tr>\n",
       "      <th>AK</th>\n",
       "      <td>1493</td>\n",
       "      <td>3</td>\n",
       "      <td>98</td>\n",
       "    </tr>\n",
       "    <tr>\n",
       "      <th>AL</th>\n",
       "      <td>2083</td>\n",
       "      <td>5</td>\n",
       "      <td>141</td>\n",
       "    </tr>\n",
       "    <tr>\n",
       "      <th>AR</th>\n",
       "      <td>1946</td>\n",
       "      <td>3</td>\n",
       "      <td>97</td>\n",
       "    </tr>\n",
       "    <tr>\n",
       "      <th>AZ</th>\n",
       "      <td>15749</td>\n",
       "      <td>20</td>\n",
       "      <td>708</td>\n",
       "    </tr>\n",
       "    <tr>\n",
       "      <th>CA</th>\n",
       "      <td>96473</td>\n",
       "      <td>170</td>\n",
       "      <td>4820</td>\n",
       "    </tr>\n",
       "    <tr>\n",
       "      <th>CO</th>\n",
       "      <td>17465</td>\n",
       "      <td>27</td>\n",
       "      <td>869</td>\n",
       "    </tr>\n",
       "    <tr>\n",
       "      <th>CT</th>\n",
       "      <td>24026</td>\n",
       "      <td>63</td>\n",
       "      <td>1205</td>\n",
       "    </tr>\n",
       "    <tr>\n",
       "      <th>DC</th>\n",
       "      <td>10402</td>\n",
       "      <td>38</td>\n",
       "      <td>767</td>\n",
       "    </tr>\n",
       "    <tr>\n",
       "      <th>DE</th>\n",
       "      <td>1406</td>\n",
       "      <td>2</td>\n",
       "      <td>117</td>\n",
       "    </tr>\n",
       "    <tr>\n",
       "      <th>FL</th>\n",
       "      <td>39303</td>\n",
       "      <td>66</td>\n",
       "      <td>2240</td>\n",
       "    </tr>\n",
       "    <tr>\n",
       "      <th>GA</th>\n",
       "      <td>8990</td>\n",
       "      <td>24</td>\n",
       "      <td>651</td>\n",
       "    </tr>\n",
       "    <tr>\n",
       "      <th>GU</th>\n",
       "      <td>104</td>\n",
       "      <td>1</td>\n",
       "      <td>4</td>\n",
       "    </tr>\n",
       "    <tr>\n",
       "      <th>HI</th>\n",
       "      <td>3130</td>\n",
       "      <td>3</td>\n",
       "      <td>96</td>\n",
       "    </tr>\n",
       "    <tr>\n",
       "      <th>IA</th>\n",
       "      <td>4599</td>\n",
       "      <td>8</td>\n",
       "      <td>294</td>\n",
       "    </tr>\n",
       "    <tr>\n",
       "      <th>ID</th>\n",
       "      <td>1541</td>\n",
       "      <td>4</td>\n",
       "      <td>130</td>\n",
       "    </tr>\n",
       "    <tr>\n",
       "      <th>IL</th>\n",
       "      <td>22669</td>\n",
       "      <td>42</td>\n",
       "      <td>1135</td>\n",
       "    </tr>\n",
       "    <tr>\n",
       "      <th>IN</th>\n",
       "      <td>5274</td>\n",
       "      <td>13</td>\n",
       "      <td>313</td>\n",
       "    </tr>\n",
       "    <tr>\n",
       "      <th>KS</th>\n",
       "      <td>2201</td>\n",
       "      <td>7</td>\n",
       "      <td>134</td>\n",
       "    </tr>\n",
       "    <tr>\n",
       "      <th>KY</th>\n",
       "      <td>1367</td>\n",
       "      <td>4</td>\n",
       "      <td>147</td>\n",
       "    </tr>\n",
       "    <tr>\n",
       "      <th>LA</th>\n",
       "      <td>3637</td>\n",
       "      <td>18</td>\n",
       "      <td>295</td>\n",
       "    </tr>\n",
       "    <tr>\n",
       "      <th>MA</th>\n",
       "      <td>52248</td>\n",
       "      <td>113</td>\n",
       "      <td>2220</td>\n",
       "    </tr>\n",
       "    <tr>\n",
       "      <th>MD</th>\n",
       "      <td>23507</td>\n",
       "      <td>45</td>\n",
       "      <td>1158</td>\n",
       "    </tr>\n",
       "    <tr>\n",
       "      <th>ME</th>\n",
       "      <td>17416</td>\n",
       "      <td>21</td>\n",
       "      <td>582</td>\n",
       "    </tr>\n",
       "    <tr>\n",
       "      <th>MI</th>\n",
       "      <td>23036</td>\n",
       "      <td>35</td>\n",
       "      <td>1095</td>\n",
       "    </tr>\n",
       "    <tr>\n",
       "      <th>MN</th>\n",
       "      <td>12395</td>\n",
       "      <td>23</td>\n",
       "      <td>681</td>\n",
       "    </tr>\n",
       "    <tr>\n",
       "      <th>MO</th>\n",
       "      <td>2418</td>\n",
       "      <td>8</td>\n",
       "      <td>247</td>\n",
       "    </tr>\n",
       "    <tr>\n",
       "      <th>MS</th>\n",
       "      <td>1828</td>\n",
       "      <td>6</td>\n",
       "      <td>120</td>\n",
       "    </tr>\n",
       "    <tr>\n",
       "      <th>MT</th>\n",
       "      <td>2947</td>\n",
       "      <td>6</td>\n",
       "      <td>177</td>\n",
       "    </tr>\n",
       "    <tr>\n",
       "      <th>NC</th>\n",
       "      <td>25788</td>\n",
       "      <td>34</td>\n",
       "      <td>1157</td>\n",
       "    </tr>\n",
       "    <tr>\n",
       "      <th>ND</th>\n",
       "      <td>182</td>\n",
       "      <td>0</td>\n",
       "      <td>13</td>\n",
       "    </tr>\n",
       "    <tr>\n",
       "      <th>NE</th>\n",
       "      <td>1177</td>\n",
       "      <td>0</td>\n",
       "      <td>72</td>\n",
       "    </tr>\n",
       "    <tr>\n",
       "      <th>NH</th>\n",
       "      <td>13814</td>\n",
       "      <td>15</td>\n",
       "      <td>533</td>\n",
       "    </tr>\n",
       "    <tr>\n",
       "      <th>NJ</th>\n",
       "      <td>57142</td>\n",
       "      <td>134</td>\n",
       "      <td>2957</td>\n",
       "    </tr>\n",
       "    <tr>\n",
       "      <th>NM</th>\n",
       "      <td>8133</td>\n",
       "      <td>14</td>\n",
       "      <td>531</td>\n",
       "    </tr>\n",
       "    <tr>\n",
       "      <th>NV</th>\n",
       "      <td>3156</td>\n",
       "      <td>6</td>\n",
       "      <td>239</td>\n",
       "    </tr>\n",
       "    <tr>\n",
       "      <th>NY</th>\n",
       "      <td>206138</td>\n",
       "      <td>395</td>\n",
       "      <td>8834</td>\n",
       "    </tr>\n",
       "    <tr>\n",
       "      <th>OH</th>\n",
       "      <td>20117</td>\n",
       "      <td>42</td>\n",
       "      <td>1097</td>\n",
       "    </tr>\n",
       "    <tr>\n",
       "      <th>OK</th>\n",
       "      <td>4552</td>\n",
       "      <td>5</td>\n",
       "      <td>183</td>\n",
       "    </tr>\n",
       "    <tr>\n",
       "      <th>OR</th>\n",
       "      <td>21167</td>\n",
       "      <td>30</td>\n",
       "      <td>970</td>\n",
       "    </tr>\n",
       "    <tr>\n",
       "      <th>PA</th>\n",
       "      <td>20999</td>\n",
       "      <td>59</td>\n",
       "      <td>1375</td>\n",
       "    </tr>\n",
       "    <tr>\n",
       "      <th>PR</th>\n",
       "      <td>107</td>\n",
       "      <td>1</td>\n",
       "      <td>16</td>\n",
       "    </tr>\n",
       "    <tr>\n",
       "      <th>RI</th>\n",
       "      <td>6367</td>\n",
       "      <td>17</td>\n",
       "      <td>261</td>\n",
       "    </tr>\n",
       "    <tr>\n",
       "      <th>SC</th>\n",
       "      <td>8550</td>\n",
       "      <td>24</td>\n",
       "      <td>512</td>\n",
       "    </tr>\n",
       "    <tr>\n",
       "      <th>SD</th>\n",
       "      <td>188</td>\n",
       "      <td>2</td>\n",
       "      <td>20</td>\n",
       "    </tr>\n",
       "    <tr>\n",
       "      <th>TN</th>\n",
       "      <td>4192</td>\n",
       "      <td>6</td>\n",
       "      <td>314</td>\n",
       "    </tr>\n",
       "    <tr>\n",
       "      <th>TX</th>\n",
       "      <td>34435</td>\n",
       "      <td>74</td>\n",
       "      <td>2027</td>\n",
       "    </tr>\n",
       "    <tr>\n",
       "      <th>UT</th>\n",
       "      <td>2963</td>\n",
       "      <td>4</td>\n",
       "      <td>205</td>\n",
       "    </tr>\n",
       "    <tr>\n",
       "      <th>VA</th>\n",
       "      <td>37335</td>\n",
       "      <td>57</td>\n",
       "      <td>1451</td>\n",
       "    </tr>\n",
       "    <tr>\n",
       "      <th>VI</th>\n",
       "      <td>0</td>\n",
       "      <td>0</td>\n",
       "      <td>2</td>\n",
       "    </tr>\n",
       "    <tr>\n",
       "      <th>VT</th>\n",
       "      <td>10735</td>\n",
       "      <td>16</td>\n",
       "      <td>634</td>\n",
       "    </tr>\n",
       "    <tr>\n",
       "      <th>WA</th>\n",
       "      <td>16664</td>\n",
       "      <td>19</td>\n",
       "      <td>830</td>\n",
       "    </tr>\n",
       "    <tr>\n",
       "      <th>WI</th>\n",
       "      <td>14096</td>\n",
       "      <td>26</td>\n",
       "      <td>525</td>\n",
       "    </tr>\n",
       "    <tr>\n",
       "      <th>WV</th>\n",
       "      <td>255</td>\n",
       "      <td>2</td>\n",
       "      <td>41</td>\n",
       "    </tr>\n",
       "    <tr>\n",
       "      <th>WY</th>\n",
       "      <td>118</td>\n",
       "      <td>1</td>\n",
       "      <td>27</td>\n",
       "    </tr>\n",
       "  </tbody>\n",
       "</table>\n",
       "</div>"
      ],
      "text/plain": [
       "       Recommendations  EditorPick  Count\n",
       "State                                    \n",
       "AK                1493           3     98\n",
       "AL                2083           5    141\n",
       "AR                1946           3     97\n",
       "AZ               15749          20    708\n",
       "CA               96473         170   4820\n",
       "CO               17465          27    869\n",
       "CT               24026          63   1205\n",
       "DC               10402          38    767\n",
       "DE                1406           2    117\n",
       "FL               39303          66   2240\n",
       "GA                8990          24    651\n",
       "GU                 104           1      4\n",
       "HI                3130           3     96\n",
       "IA                4599           8    294\n",
       "ID                1541           4    130\n",
       "IL               22669          42   1135\n",
       "IN                5274          13    313\n",
       "KS                2201           7    134\n",
       "KY                1367           4    147\n",
       "LA                3637          18    295\n",
       "MA               52248         113   2220\n",
       "MD               23507          45   1158\n",
       "ME               17416          21    582\n",
       "MI               23036          35   1095\n",
       "MN               12395          23    681\n",
       "MO                2418           8    247\n",
       "MS                1828           6    120\n",
       "MT                2947           6    177\n",
       "NC               25788          34   1157\n",
       "ND                 182           0     13\n",
       "NE                1177           0     72\n",
       "NH               13814          15    533\n",
       "NJ               57142         134   2957\n",
       "NM                8133          14    531\n",
       "NV                3156           6    239\n",
       "NY              206138         395   8834\n",
       "OH               20117          42   1097\n",
       "OK                4552           5    183\n",
       "OR               21167          30    970\n",
       "PA               20999          59   1375\n",
       "PR                 107           1     16\n",
       "RI                6367          17    261\n",
       "SC                8550          24    512\n",
       "SD                 188           2     20\n",
       "TN                4192           6    314\n",
       "TX               34435          74   2027\n",
       "UT                2963           4    205\n",
       "VA               37335          57   1451\n",
       "VI                   0           0      2\n",
       "VT               10735          16    634\n",
       "WA               16664          19    830\n",
       "WI               14096          26    525\n",
       "WV                 255           2     41\n",
       "WY                 118           1     27"
      ]
     },
     "execution_count": 86,
     "metadata": {},
     "output_type": "execute_result"
    }
   ],
   "source": [
    "print len(data)\n",
    "data2 = data[pd.notnull(data['State'])]\n",
    "data2['Count'] = 1\n",
    "data2 = data2[['State', 'Recommendations', 'EditorPick', 'Count']]\n",
    "by_state = data2.groupby('State').sum()\n",
    "by_state"
   ]
  },
  {
   "cell_type": "code",
   "execution_count": 87,
   "metadata": {
    "collapsed": false
   },
   "outputs": [],
   "source": [
    "by_state.to_csv('data/by_state.csv')"
   ]
  },
  {
   "cell_type": "code",
   "execution_count": 91,
   "metadata": {
    "collapsed": false
   },
   "outputs": [],
   "source": [
    "hilary = pd.read_csv('data/hilary_sim_scores.csv', header=None)\n",
    "sanders = pd.read_csv('data/sanders_sim_scores.csv', header=None)\n",
    "biden = pd.read_csv('data/biden_sim_scores.csv', header=None)\n",
    "trump = pd.read_csv('data/trump_sim_scores.csv', header=None)\n",
    "bush = pd.read_csv('data/bush_sim_scores.csv', header=None)\n",
    "carson = pd.read_csv('data/carson_sim_scores.csv', header=None)"
   ]
  },
  {
   "cell_type": "code",
   "execution_count": 95,
   "metadata": {
    "collapsed": false
   },
   "outputs": [
    {
     "data": {
      "text/plain": [
       "<matplotlib.legend.Legend at 0x11e76ff10>"
      ]
     },
     "execution_count": 95,
     "metadata": {},
     "output_type": "execute_result"
    },
    {
     "data": {
      "image/png": "[encoded data removed]",
      "text/plain": [
       "<matplotlib.figure.Figure at 0x1114f7c50>"
      ]
     },
     "metadata": {},
     "output_type": "display_data"
    }
   ],
   "source": [
    "from scipy.stats import gaussian_kde\n",
    "plt.figure(figsize=(20,10))\n",
    "\n",
    "metric = 1\n",
    "\n",
    "data = hilary[metric]\n",
    "density = gaussian_kde(data)\n",
    "xs = np.linspace(-0.1,1,300)\n",
    "density.covariance_factor = lambda : .25\n",
    "density._compute_covariance()\n",
    "plt.plot(xs,density(xs), 'r', label = 'Hilary')\n",
    "\n",
    "data = trump[metric]\n",
    "density = gaussian_kde(data)\n",
    "density.covariance_factor = lambda : .25\n",
    "density._compute_covariance()\n",
    "plt.plot(xs,density(xs), 'g', label = 'Trump')\n",
    "\n",
    "data = biden[metric]\n",
    "density = gaussian_kde(data)\n",
    "density.covariance_factor = lambda : .25\n",
    "density._compute_covariance()\n",
    "plt.plot(xs,density(xs), 'b', label = 'Biden')\n",
    "\n",
    "data = sanders[metric]\n",
    "density = gaussian_kde(data)\n",
    "density.covariance_factor = lambda : .25\n",
    "density._compute_covariance()\n",
    "plt.plot(xs,density(xs), 'black', label = 'Sanders')\n",
    "\n",
    "data = bush[metric]\n",
    "density = gaussian_kde(data)\n",
    "density.covariance_factor = lambda : .25\n",
    "density._compute_covariance()\n",
    "plt.plot(xs,density(xs), 'c', label = 'Bush')\n",
    "\n",
    "data = carson[metric]\n",
    "density = gaussian_kde(data)\n",
    "density.covariance_factor = lambda : .25\n",
    "density._compute_covariance()\n",
    "plt.plot(xs,density(xs), 'm', label = 'Carson')\n",
    "plt.xlabel('Degree of Similarity', fontsize=22)\n",
    "plt.ylabel('Density', fontsize=22)\n",
    "plt.title('Comments for Presidential Candidates in terms of Similarity with Their Respective Articles', \n",
    "          fontsize=26)\n",
    "\n",
    "# plt.xlim(0.3, 0.5)\n",
    "# plt.ylim(0, 1)\n",
    "plt.legend()\n",
    "plt.legend(loc=1,prop={'size':18})"
   ]
  },
  {
   "cell_type": "code",
   "execution_count": null,
   "metadata": {
    "collapsed": true
   },
   "outputs": [],
   "source": [
    "def word_count(text):\n",
    "    out = text.translate(string.maketrans(\"\",\"\"), string.punctuation)\n",
    "    return len(out.split())"
   ]
  },
  {
   "cell_type": "code",
   "execution_count": null,
   "metadata": {
    "collapsed": false
   },
   "outputs": [],
   "source": [
    "data['word_count'] = data['Comment'].apply(lambda x: word_count(str(x)))"
   ]
  },
  {
   "cell_type": "code",
   "execution_count": null,
   "metadata": {
    "collapsed": false
   },
   "outputs": [],
   "source": [
    "data['Recommendations'] = data['Recommendations'].apply(lambda x: 0 if x == np.nan else x)\n",
    "x = data['Recommendations'].values\n",
    "np.percentile(x, 95)\n"
   ]
  },
  {
   "cell_type": "code",
   "execution_count": null,
   "metadata": {
    "collapsed": false
   },
   "outputs": [],
   "source": [
    "data['Rec'] = data['Recommendations'].apply(lambda x: 1 if x > 79 else 0)\n",
    "data['Rec'].value_counts()"
   ]
  },
  {
   "cell_type": "code",
   "execution_count": null,
   "metadata": {
    "collapsed": false
   },
   "outputs": [],
   "source": [
    "data['Candidate'].value_counts()"
   ]
  },
  {
   "cell_type": "code",
   "execution_count": null,
   "metadata": {
    "collapsed": false
   },
   "outputs": [],
   "source": [
    "cols_encode = ['State', 'Candidate']\n",
    "encoders = {}\n",
    "for col in cols_encode:\n",
    "    le = preprocessing.LabelEncoder()\n",
    "    le.fit(data[col])\n",
    "    encoders[col] = le\n",
    "    data[col] = le.transform(data[col])\n"
   ]
  },
  {
   "cell_type": "code",
   "execution_count": null,
   "metadata": {
    "collapsed": false
   },
   "outputs": [],
   "source": [
    "reg = data[['EditorPick', 'Sentiment', 'Subjectivity', 'word_count', 'Rec', 'State', 'Candidate']]"
   ]
  },
  {
   "cell_type": "code",
   "execution_count": null,
   "metadata": {
    "collapsed": false
   },
   "outputs": [],
   "source": [
    "# recs = data['Rec'].values\n",
    "# recs = np.nan_to_num(recs)\n",
    "# plt.hist(recs, bins=300)\n"
   ]
  },
  {
   "cell_type": "code",
   "execution_count": null,
   "metadata": {
    "collapsed": false
   },
   "outputs": [],
   "source": [
    "X = reg.drop('Rec', axis = 1).values\n",
    "X = np.nan_to_num(X)\n",
    "y = reg['Rec'].values"
   ]
  },
  {
   "cell_type": "code",
   "execution_count": null,
   "metadata": {
    "collapsed": false
   },
   "outputs": [],
   "source": [
    "X_train, X_test, y_train, y_test = cross_validation.train_test_split(X, y, test_size=0.3)"
   ]
  },
  {
   "cell_type": "code",
   "execution_count": null,
   "metadata": {
    "collapsed": false
   },
   "outputs": [],
   "source": [
    "rf = RandomForestClassifier(n_estimators=100, n_jobs=-1)\n",
    "y_pred = rf.fit(X_train, y_train).predict(X_test)\n",
    "\n",
    "print 'Recall: %f'%(metrics.recall_score(y_test, y_pred))\n",
    "print 'Precision: %f'%(metrics.precision_score(y_test, y_pred))"
   ]
  },
  {
   "cell_type": "code",
   "execution_count": null,
   "metadata": {
    "collapsed": false
   },
   "outputs": [],
   "source": [
    "from sklearn.svm import SVC\n",
    "from sklearn.ensemble import RandomForestClassifier, AdaBoostClassifier, GradientBoostingClassifier\n",
    "\n",
    "svc_linear = SVC()\n",
    "y_pred = svc_linear.fit(X_train, y_train).predict(X_test)\n",
    "\n",
    "print 'Recall: %f'%(metrics.recall_score(y_test, y_pred))\n",
    "print 'Precision: %f'%(metrics.precision_score(y_test, y_pred))"
   ]
  },
  {
   "cell_type": "code",
   "execution_count": null,
   "metadata": {
    "collapsed": false
   },
   "outputs": [],
   "source": [
    "commentOnly = data[['Comment', 'Rec']]"
   ]
  },
  {
   "cell_type": "code",
   "execution_count": null,
   "metadata": {
    "collapsed": true
   },
   "outputs": [],
   "source": [
    "X = commentOnly['Comment']\n",
    "y = commentOnly['Rec'].values\n",
    "X_train, X_test, y_train, y_test = cross_validation.train_test_split(X, y, test_size=0.3)"
   ]
  },
  {
   "cell_type": "code",
   "execution_count": null,
   "metadata": {
    "collapsed": false
   },
   "outputs": [],
   "source": [
    "#type(commentOnly.loc[0,'Comment'])"
   ]
  },
  {
   "cell_type": "code",
   "execution_count": null,
   "metadata": {
    "collapsed": false
   },
   "outputs": [],
   "source": [
    "vectorizer = TfidfVectorizer(stop_words = 'english')\n",
    "\n",
    "vectorized_X_train  = vectorizer.fit_transform(X_train)\n",
    "vectorized_X_test = vectorizer.transform(X_test)"
   ]
  },
  {
   "cell_type": "code",
   "execution_count": null,
   "metadata": {
    "collapsed": false
   },
   "outputs": [],
   "source": [
    "print vectorized_X_train.shape\n",
    "print y_train.shape"
   ]
  },
  {
   "cell_type": "code",
   "execution_count": null,
   "metadata": {
    "collapsed": true
   },
   "outputs": [],
   "source": [
    "X = reg.drop('Candidate', axis = 1).values\n",
    "X = np.nan_to_num(X)\n",
    "y = reg['Candidate'].values"
   ]
  },
  {
   "cell_type": "code",
   "execution_count": null,
   "metadata": {
    "collapsed": false
   },
   "outputs": [],
   "source": [
    "X_train, X_test, y_train, y_test = cross_validation.train_test_split(X, y, test_size=0.3)"
   ]
  },
  {
   "cell_type": "code",
   "execution_count": null,
   "metadata": {
    "collapsed": false
   },
   "outputs": [],
   "source": [
    "weights = dict()\n",
    "for i in range(6):\n",
    "    weights[i] = x[i]/float(x.sum())"
   ]
  },
  {
   "cell_type": "code",
   "execution_count": null,
   "metadata": {
    "collapsed": false
   },
   "outputs": [],
   "source": [
    "weights"
   ]
  },
  {
   "cell_type": "code",
   "execution_count": null,
   "metadata": {
    "collapsed": true
   },
   "outputs": [],
   "source": [
    "from sklearn.multiclass import OneVsRestClassifier\n",
    "base_clf = RandomForestClassifier(n_estimators=100, n_jobs=-1, class_weight = weights)\n",
    "ovr = OneVsRestClassifier(estimator=base_clf, n_jobs=-1)\n",
    "y_pred = ovr.fit(X_train, y_train).predict(X_test)\n",
    "\n",
    "print 'Accuracy: %f'%(metrics.accuracy_score(y_test, y_pred))\n",
    "print 'Recall: %f'%(metrics.recall_score(y_test, y_pred))\n",
    "print 'Precision: %f'%(metrics.precision_score(y_test, y_pred))"
   ]
  },
  {
   "cell_type": "code",
   "execution_count": null,
   "metadata": {
    "collapsed": false
   },
   "outputs": [],
   "source": [
    "x = reg['Candidate'].value_counts()"
   ]
  },
  {
   "cell_type": "code",
   "execution_count": null,
   "metadata": {
    "collapsed": false
   },
   "outputs": [],
   "source": [
    "data_drop = data.drop_duplicates('Comment')\n",
    "len(data_drop)"
   ]
  },
  {
   "cell_type": "markdown",
   "metadata": {},
   "source": [
    "### Model comparison"
   ]
  },
  {
   "cell_type": "code",
   "execution_count": 9,
   "metadata": {
    "collapsed": false
   },
   "outputs": [],
   "source": [
    "sanders = pd.read_csv('../data/sanders_scores.csv')"
   ]
  },
  {
   "cell_type": "code",
   "execution_count": 10,
   "metadata": {
    "collapsed": false
   },
   "outputs": [
    {
     "name": "stderr",
     "output_type": "stream",
     "text": [
      "/Users/datascientist/anaconda/lib/python2.7/site-packages/ipykernel/__main__.py:8: SettingWithCopyWarning: \n",
      "A value is trying to be set on a copy of a slice from a DataFrame.\n",
      "Try using .loc[row_indexer,col_indexer] = value instead\n",
      "\n",
      "See the the caveats in the documentation: http://pandas.pydata.org/pandas-docs/stable/indexing.html#indexing-view-versus-copy\n"
     ]
    }
   ],
   "source": [
    "sanders_short = sanders[(sanders['Sentiment'] < -0.1) | (sanders['Sentiment'] > 0.2)]\n",
    "def to_filter(text):\n",
    "        terms = ['Sanders', 'Bernie']\n",
    "        if any(word in text for word in terms):\n",
    "            return text\n",
    "        else:\n",
    "            return None \n",
    "sanders_short['Comment'] = sanders_short['Comment'].apply(lambda x : to_filter(x))\n",
    "index = pd.notnull(sanders_short['Comment'])\n",
    "sanders1 = sanders_short[index]"
   ]
  },
  {
   "cell_type": "code",
   "execution_count": 11,
   "metadata": {
    "collapsed": false
   },
   "outputs": [
    {
     "name": "stderr",
     "output_type": "stream",
     "text": [
      "/Users/datascientist/anaconda/lib/python2.7/site-packages/ipykernel/__main__.py:7: UnicodeWarning: Unicode equal comparison failed to convert both arguments to Unicode - interpreting them as being unequal\n"
     ]
    }
   ],
   "source": [
    "import nltk\n",
    "from nltk.corpus import stopwords\n",
    "\n",
    "sanders[pd.isnull(sanders['Comment'])] = \"\"\n",
    "content = sanders1['Comment'].values\n",
    "texts = [[word for word in comment.lower().split() if word not in stopwords.words('english')]\n",
    "        for comment in content]\n",
    "\n",
    "# remove words that appear only once\n",
    "from collections import defaultdict\n",
    "frequency = defaultdict(int)\n",
    "for text in texts:\n",
    "    for token in text:\n",
    "        frequency[token] += 1\n",
    "\n",
    "texts = [[token for token in text if frequency[token] > 1]\n",
    "          for text in texts]"
   ]
  },
  {
   "cell_type": "code",
   "execution_count": 12,
   "metadata": {
    "collapsed": false
   },
   "outputs": [
    {
     "name": "stderr",
     "output_type": "stream",
     "text": [
      "WARNING:gensim.models.ldamodel:too few updates, training might not converge; consider increasing the number of passes or iterations to improve accuracy\n"
     ]
    },
    {
     "data": {
      "text/plain": [
       "[u'0.002*bernie + 0.002*sanders + 0.002*like + 0.002*would + 0.001*vote + 0.001*hillary + 0.001*one + 0.001*candidate + 0.001*get + 0.001*money',\n",
       " u\"0.002*i'm + 0.002*vote + 0.002*would + 0.001*sanders + 0.001*like + 0.001*hillary + 0.001*bernie + 0.001*people + 0.001*democratic + 0.001*even\",\n",
       " u\"0.002*would + 0.002*sanders + 0.002*hillary + 0.002*bernie + 0.002*senator + 0.002*like + 0.001*people + 0.001*good + 0.001*one + 0.001*he's\",\n",
       " u'0.002*vote + 0.002*hillary + 0.002*sanders + 0.002*bernie + 0.002*would + 0.001*clinton + 0.001*like + 0.001*people + 0.001*good + 0.001*get',\n",
       " u'0.002*bernie! + 0.001*hillary + 0.001*people + 0.001*would + 0.001*sanders + 0.001*democratic + 0.001*need + 0.001*bernie + 0.001*clinton + 0.001*love']"
      ]
     },
     "execution_count": 12,
     "metadata": {},
     "output_type": "execute_result"
    }
   ],
   "source": [
    "dictionary = corpora.Dictionary(texts)\n",
    "corpus = [dictionary.doc2bow(text) for text in texts]\n",
    "tfidf = models.TfidfModel(corpus)\n",
    "corpus_tfidf = tfidf[corpus]\n",
    "model = models.LdaModel(corpus_tfidf, id2word=dictionary, num_topics=5)\n",
    "model.print_topics(5)"
   ]
  },
  {
   "cell_type": "code",
   "execution_count": 21,
   "metadata": {
    "collapsed": false
   },
   "outputs": [
    {
     "name": "stdout",
     "output_type": "stream",
     "text": [
      "##################################################\n",
      "Topic #1:\n",
      "hillary vote clinton democratic party candidate republican win sanders left\n",
      "Topic #2:\n",
      "love bernie president sanders good fight need agree stands somethings\n",
      "Topic #3:\n",
      "senator sanders good mr america president vermont wish socialist senate\n",
      "Topic #4:\n",
      "bernie like right sanders just need issues media people time\n",
      "Topic #5:\n",
      "people tax american class money social middle pay country security\n"
     ]
    }
   ],
   "source": [
    "from sklearn.feature_extraction.text import TfidfVectorizer\n",
    "from sklearn.decomposition import NMF\n",
    "\n",
    "vectorizer = TfidfVectorizer(stop_words='english')\n",
    "V = vectorizer.fit_transform(sanders1['Comment'].values).toarray()\n",
    "features = vectorizer.get_feature_names()\n",
    "nmf = NMF(n_components=5).fit(V)\n",
    "matrix = nmf.transform(V)\n",
    "\n",
    "print(\"##################################################\")\n",
    "for topic_idx, topic in enumerate(nmf.components_, 1):\n",
    "    print(\"Topic #%d:\" % topic_idx)\n",
    "    print(\" \".join([features[i]\n",
    "            for i in topic.argsort()[:-10 -1:-1]]))\n"
   ]
  },
  {
   "cell_type": "code",
   "execution_count": 26,
   "metadata": {
    "collapsed": false
   },
   "outputs": [
    {
     "name": "stdout",
     "output_type": "stream",
     "text": [
      "(1946, 12632)\n",
      "(1946, 5)\n",
      "(5, 12632)\n"
     ]
    }
   ],
   "source": [
    "print V.shape\n",
    "print matrix.shape\n",
    "print nmf.components_.shape"
   ]
  },
  {
   "cell_type": "code",
   "execution_count": 19,
   "metadata": {
    "collapsed": true
   },
   "outputs": [],
   "source": [
    "content = sanders1['Comment'].values\n",
    "stoplist = set('for a of the and to in'.split())\n",
    "texts = [[word for word in comment.lower().split() if word not in stoplist]\n",
    "        for comment in content]\n",
    "\n",
    "# remove words that appear only once\n",
    "from collections import defaultdict\n",
    "frequency = defaultdict(int)\n",
    "for text in texts:\n",
    "    for token in text:\n",
    "        frequency[token] += 1\n",
    "\n",
    "texts = [[token for token in text if frequency[token] > 1]\n",
    "          for text in texts]"
   ]
  },
  {
   "cell_type": "code",
   "execution_count": 20,
   "metadata": {
    "collapsed": false
   },
   "outputs": [
    {
     "name": "stderr",
     "output_type": "stream",
     "text": [
      "WARNING:gensim.models.ldamodel:too few updates, training might not converge; consider increasing the number of passes or iterations to improve accuracy\n"
     ]
    },
    {
     "data": {
      "text/plain": [
       "[u'0.002*he + 0.002*i + 0.002*you + 0.002*as + 0.002*be + 0.002*she + 0.002*we + 0.002*not + 0.002*that + 0.002*is',\n",
       " u'0.002*i + 0.002*will + 0.002*he + 0.002*as + 0.002*his + 0.002*on + 0.002*we + 0.002*that + 0.002*sanders + 0.002*are',\n",
       " u'0.002*i + 0.002*he + 0.002*not + 0.002*we + 0.002*have + 0.002*is + 0.002*as + 0.002*will + 0.002*his + 0.002*this',\n",
       " u'0.002*i + 0.002*he + 0.002*his + 0.002*with + 0.002*that + 0.002*as + 0.002*be + 0.002*is + 0.002*will + 0.002*have',\n",
       " u'0.002*i + 0.002*he + 0.002*that + 0.002*will + 0.002*we + 0.002*you + 0.002*not + 0.002*or + 0.002*his + 0.002*who']"
      ]
     },
     "execution_count": 20,
     "metadata": {},
     "output_type": "execute_result"
    }
   ],
   "source": [
    "dictionary = corpora.Dictionary(texts)\n",
    "corpus = [dictionary.doc2bow(text) for text in texts]\n",
    "tfidf = models.TfidfModel(corpus)\n",
    "corpus_tfidf = tfidf[corpus]\n",
    "model = models.LdaModel(corpus_tfidf, id2word=dictionary, num_topics=5)\n",
    "model.print_topics(5)"
   ]
  },
  {
   "cell_type": "code",
   "execution_count": null,
   "metadata": {
    "collapsed": true
   },
   "outputs": [],
   "source": []
  }
 ],
 "metadata": {
  "kernelspec": {
   "display_name": "Python 2",
   "language": "python",
   "name": "python2"
  },
  "language_info": {
   "codemirror_mode": {
    "name": "ipython",
    "version": 2
   },
   "file_extension": ".py",
   "mimetype": "text/x-python",
   "name": "python",
   "nbconvert_exporter": "python",
   "pygments_lexer": "ipython2",
   "version": "2.7.10"
  }
 },
 "nbformat": 4,
 "nbformat_minor": 0
}
