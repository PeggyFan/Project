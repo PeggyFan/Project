{
 "cells": [
  {
   "cell_type": "code",
   "execution_count": 1,
   "metadata": {
    "collapsed": true
   },
   "outputs": [],
   "source": [
    "import pandas as pd\n",
    "import requests\n",
    "import numpy as np\n",
    "import time\n",
    "import requests\n",
    "import bs4\n",
    "import json\n",
    "from pymongo.errors import DuplicateKeyError, CollectionInvalid\n",
    "from pymongo import MongoClient"
   ]
  },
  {
   "cell_type": "code",
   "execution_count": 2,
   "metadata": {
    "collapsed": false
   },
   "outputs": [],
   "source": [
    "client = MongoClient()\n",
    "# Initiate Database\n",
    "db = client['nyt_articles']\n",
    "# Initiate Table\n",
    "tab_sanders = db['table_sanders']\n",
    "tab_sanders.insert({'bernie': 'cool'})\n",
    "\n",
    "db = client['nyt_articles']\n",
    "tab_sanders = db['table_bush']\n",
    "#tab_sanders.insert({'bernie': 'cool'})\n"
   ]
  },
  {
   "cell_type": "code",
   "execution_count": 3,
   "metadata": {
    "collapsed": false
   },
   "outputs": [
    {
     "data": {
      "text/plain": [
       "ObjectId('560310ce1cd7eb62ec2de3da')"
      ]
     },
     "execution_count": 3,
     "metadata": {},
     "output_type": "execute_result"
    }
   ],
   "source": [
    "db_comments = client['nyt_comments']\n",
    "\n",
    "tab_sanders = db_comments['table_sanders']\n",
    "db_comments.tab_sanders.insert({'sanders': 'cool'})\n",
    "\n",
    "db_comments = client['nyt_comments']\n",
    "tab_bush = db_comments['table_bush']\n",
    "db_comments.tab_bush.insert({'bush': 'cool'})"
   ]
  },
  {
   "cell_type": "code",
   "execution_count": 5,
   "metadata": {
    "collapsed": true
   },
   "outputs": [],
   "source": [
    "from nytimesarticle import articleAPI\n",
    "api = articleAPI('74c73309c1052e6aa1785df7cd5cef8c:9:69947183')"
   ]
  },
  {
   "cell_type": "code",
   "execution_count": 58,
   "metadata": {
    "collapsed": true
   },
   "outputs": [],
   "source": [
    "# for i in range(100):\n",
    "#     articles = api.search(q = 'Bernie Sanders', page = i)\n",
    "#     print i\n",
    "#     for y in range(len(articles['response']['docs'])):\n",
    "#         new_data = articles['response']['docs'][y]\n",
    "#         new_data['_id'] = articles['response']['docs'][y]['_id']\n",
    "#         try:\n",
    "#             db.table_sanders.insert(new_data)\n",
    "#         except DuplicateKeyError:\n",
    "#             print 'Peggy doesnt know why its a duplicate.'"
   ]
  },
  {
   "cell_type": "code",
   "execution_count": 33,
   "metadata": {
    "collapsed": true
   },
   "outputs": [],
   "source": [
    "NYT_URL = 'http://api.nytimes.com/svc/search/v2/articlesearch.json'\n",
    "API_KEY = '74c73309c1052e6aa1785df7cd5cef8c:9:69947183'\n",
    "import datetime as dt"
   ]
  },
  {
   "cell_type": "code",
   "execution_count": 50,
   "metadata": {
    "collapsed": false
   },
   "outputs": [],
   "source": [
    "# Query the NYT API once\n",
    "def single_query(link, payload):\n",
    "    response = requests.get(link, params=payload)\n",
    "    if response.status_code != 200:\n",
    "        print 'WARNING', response.status_code\n",
    "    else:\n",
    "        return response.json()\n",
    "\n",
    "# Determine if the results are more than 100 pages\n",
    "def more_than_100_pages(total_page):\n",
    "    if total_page > 100:\n",
    "        pages_left = min(total_page - 100, 100)\n",
    "        return 100, pages_left, True\n",
    "    else:\n",
    "        return total_page, 0, False\n",
    "\n",
    "# Looping through the pages give the number of pages\n",
    "def loop_through_pages(total_pages, link, payload, table):\n",
    "    for i in range(total_pages):\n",
    "        if i % 50 == 0:\n",
    "            print ' || Page ', i\n",
    "        payload['page'] = str(i)\n",
    "        content = single_query(link, payload)\n",
    "        meta_lst = content['response']['docs']\n",
    "\n",
    "        for meta in meta_lst:\n",
    "            try:\n",
    "                table.insert(meta)\n",
    "            except DuplicateKeyError:\n",
    "                print 'DUPS!'\n",
    "\n",
    "\n",
    "# Scrape the meta data (link to article and put it into Mongo)\n",
    "def scrape_meta(days=1):\n",
    "\n",
    "    # The basic parameters for the NYT API\n",
    "    link = NYT_URL\n",
    "    payload = {'api-key': API_KEY, 'q' : 'Bernie Sanders', 'sort': 'newest'}\n",
    "\n",
    "    today = dt.datetime(2015, 9, 22)\n",
    "    yesterday = dt.datetime(2003, 9, 22)\n",
    "    \n",
    "    for day in range(days):\n",
    "        payload['end_date'] = today.strftime(\"%Y%m%d\")\n",
    "        #yesterday = dt.date.today() - dt.timedelta(1)\n",
    "        half_day = today - dt.timedelta(hours=12)\n",
    "        payload['begin_date'] = yesterday.strftime(\"%Y%m%d\")\n",
    "        print payload\n",
    "        print 'Scraping period: %s - %s ' % (str(yesterday), str(today))\n",
    "\n",
    "        today -= dt.timedelta(days=2)\n",
    "        \n",
    "        content = single_query(link, payload)\n",
    "        hits = content['response']['meta']['hits']\n",
    "        total_pages = (hits / 10) + 1\n",
    "        print 'HITS', hits\n",
    "\n",
    "        newest_sort_pages, oldest_sort_pages, grt_100 = more_than_100_pages(total_pages)\n",
    "\n",
    "        if grt_100:\n",
    "            new_payload = payload.copy()\n",
    "            old_payload = payload.copy()\n",
    "            new_payload['sort']= 'newest'\n",
    "            old_payload['sort'] = 'oldest'\n",
    "\n",
    "        loop_through_pages(newest_sort_pages, link, new_payload, db.table_sanders)\n",
    "        loop_through_pages(oldest_sort_pages, link, old_payload, db.table_sanders)"
   ]
  },
  {
   "cell_type": "code",
   "execution_count": 51,
   "metadata": {
    "collapsed": false
   },
   "outputs": [
    {
     "name": "stdout",
     "output_type": "stream",
     "text": [
      "{'q': 'Bernie Sanders', 'sort': 'newest', 'begin_date': '20030922', 'api-key': '74c73309c1052e6aa1785df7cd5cef8c:9:69947183', 'end_date': '20150922'}\n",
      "Scraping period: 2003-09-22 00:00:00 - 2015-09-22 00:00:00 \n",
      "HITS 1206\n",
      " || Page  0\n",
      " || Page  50\n",
      " || Page  0\n",
      "DUPS!\n",
      "DUPS!\n",
      "DUPS!\n",
      "DUPS!\n"
     ]
    }
   ],
   "source": [
    "scrape_meta(days=1)"
   ]
  },
  {
   "cell_type": "code",
   "execution_count": 6,
   "metadata": {
    "collapsed": true
   },
   "outputs": [],
   "source": [
    "def single_query(link, payload):\n",
    "    response = requests.get(link, params=payload)\n",
    "    if response.status_code != 200:\n",
    "        print 'WARNING', response.status_code\n",
    "    else:\n",
    "        return response.json()"
   ]
  },
  {
   "cell_type": "code",
   "execution_count": 54,
   "metadata": {
    "collapsed": true
   },
   "outputs": [],
   "source": [
    "# Query the NYT API once\n",
    "def single_query(link, payload):\n",
    "    response = requests.get(link, params=payload)\n",
    "    if response.status_code != 200:\n",
    "        print 'WARNING', response.status_code\n",
    "    else:\n",
    "        return response.json()\n",
    "\n",
    "# Determine if the results are more than 100 pages\n",
    "def more_than_100_pages(total_page):\n",
    "    if total_page > 100:\n",
    "        pages_left = min(total_page - 100, 100)\n",
    "        return 100, pages_left, True\n",
    "    else:\n",
    "        return total_page, 0, False\n",
    "\n",
    "# Looping through the pages give the number of pages\n",
    "def loop_through_pages(total_pages, link, payload, table):\n",
    "    for i in range(total_pages):\n",
    "        if i % 50 == 0:\n",
    "            print ' || Page ', i\n",
    "        payload['page'] = str(i)\n",
    "        content = single_query(link, payload)\n",
    "        meta_lst = content['response']['docs']\n",
    "\n",
    "        for meta in meta_lst:\n",
    "            try:\n",
    "                table.insert(meta)\n",
    "            except DuplicateKeyError:\n",
    "                print 'DUPS!'\n",
    "\n",
    "\n",
    "# Scrape the meta data (link to article and put it into Mongo)\n",
    "def scrape_meta(days=1):\n",
    "\n",
    "    # The basic parameters for the NYT API\n",
    "    link = NYT_URL\n",
    "    payload = {'api-key': API_KEY, 'q' : 'Jeb Bush', 'sort': 'newest'}\n",
    "\n",
    "    today = dt.datetime(2015, 9, 22)\n",
    "    yesterday = dt.datetime(2003, 9, 22)\n",
    "    \n",
    "    for day in range(days):\n",
    "        payload['end_date'] = today.strftime(\"%Y%m%d\")\n",
    "        #yesterday = dt.date.today() - dt.timedelta(1)\n",
    "        half_day = today - dt.timedelta(hours=12)\n",
    "        payload['begin_date'] = yesterday.strftime(\"%Y%m%d\")\n",
    "        print payload\n",
    "        print 'Scraping period: %s - %s ' % (str(yesterday), str(today))\n",
    "\n",
    "        today -= dt.timedelta(days=2)\n",
    "        \n",
    "        content = single_query(link, payload)\n",
    "        hits = content['response']['meta']['hits']\n",
    "        total_pages = (hits / 10) + 1\n",
    "        print 'HITS', hits\n",
    "\n",
    "        newest_sort_pages, oldest_sort_pages, grt_100 = more_than_100_pages(total_pages)\n",
    "\n",
    "        if grt_100:\n",
    "            new_payload = payload.copy()\n",
    "            old_payload = payload.copy()\n",
    "            new_payload['sort']= 'newest'\n",
    "            old_payload['sort'] = 'oldest'\n",
    "\n",
    "        loop_through_pages(newest_sort_pages, link, new_payload, db.table_bush)\n",
    "        loop_through_pages(oldest_sort_pages, link, old_payload, db.table_bush)"
   ]
  },
  {
   "cell_type": "code",
   "execution_count": 55,
   "metadata": {
    "collapsed": false
   },
   "outputs": [
    {
     "name": "stdout",
     "output_type": "stream",
     "text": [
      "{'q': 'Jeb Bush', 'sort': 'newest', 'begin_date': '20030922', 'api-key': '74c73309c1052e6aa1785df7cd5cef8c:9:69947183', 'end_date': '20150922'}\n",
      "Scraping period: 2003-09-22 00:00:00 - 2015-09-22 00:00:00 \n",
      "HITS 4197\n",
      " || Page  0\n",
      " || Page  50\n",
      " || Page  0\n",
      " || Page  50\n"
     ]
    }
   ],
   "source": [
    "scrape_meta(days=1)"
   ]
  },
  {
   "cell_type": "code",
   "execution_count": 18,
   "metadata": {
    "collapsed": true
   },
   "outputs": [],
   "source": [
    "for i in range(100):\n",
    "    articles = api.search(q = 'Jeb Bush', page = i)\n",
    "    print i\n",
    "    for y in range(len(articles['response']['docs'])):\n",
    "        new_data = articles['response']['docs'][y]\n",
    "        new_data['_id'] = articles['response']['docs'][y]['_id']\n",
    "        try:\n",
    "            db.table_bush.insert(new_data)\n",
    "        except DuplicateKeyError:\n",
    "            print 'Peggy doesnt know why its a duplicate.'"
   ]
  },
  {
   "cell_type": "code",
   "execution_count": 59,
   "metadata": {
    "collapsed": false
   },
   "outputs": [
    {
     "data": {
      "text/plain": [
       "1206"
      ]
     },
     "execution_count": 59,
     "metadata": {},
     "output_type": "execute_result"
    }
   ],
   "source": [
    "links = db.table_sanders.find({\"web_url\": {'$exists': True}},{'web_url': 1, '_id' : 0})\n",
    "links_s = []\n",
    "\n",
    "for i in links:\n",
    "    links_s.append(i['web_url'])\n",
    "len(links_s)      "
   ]
  },
  {
   "cell_type": "code",
   "execution_count": 4,
   "metadata": {
    "collapsed": true
   },
   "outputs": [],
   "source": [
    "url = pd.read_csv('../bush_urls.csv', header = None)\n",
    "links = url[1].values"
   ]
  },
  {
   "cell_type": "code",
   "execution_count": 7,
   "metadata": {
    "collapsed": true
   },
   "outputs": [
    {
     "name": "stdout",
     "output_type": "stream",
     "text": [
      "Peggy doesnt know why its a duplicate.\n",
      "Peggy doesnt know why its a duplicate.\n",
      "Peggy doesnt know why its a duplicate.\n",
      "Peggy doesnt know why its a duplicate.\n",
      "Peggy doesnt know why its a duplicate.\n",
      "Peggy doesnt know why its a duplicate.\n",
      "Peggy doesnt know why its a duplicate.\n",
      "Peggy doesnt know why its a duplicate.\n",
      "Peggy doesnt know why its a duplicate.\n",
      "Peggy doesnt know why its a duplicate.\n",
      "Peggy doesnt know why its a duplicate.\n",
      "Peggy doesnt know why its a duplicate.\n",
      "Peggy doesnt know why its a duplicate.\n",
      "Peggy doesnt know why its a duplicate.\n",
      "Peggy doesnt know why its a duplicate.\n",
      "Peggy doesnt know why its a duplicate.\n",
      "Peggy doesnt know why its a duplicate.\n",
      "Peggy doesnt know why its a duplicate.\n",
      "Peggy doesnt know why its a duplicate.\n",
      "Peggy doesnt know why its a duplicate.\n",
      "Peggy doesnt know why its a duplicate.\n",
      "Peggy doesnt know why its a duplicate.\n",
      "Peggy doesnt know why its a duplicate.\n",
      "Peggy doesnt know why its a duplicate.\n",
      "Peggy doesnt know why its a duplicate.\n",
      "Peggy doesnt know why its a duplicate.\n",
      "Peggy doesnt know why its a duplicate.\n",
      "Peggy doesnt know why its a duplicate.\n",
      "Peggy doesnt know why its a duplicate.\n",
      "Peggy doesnt know why its a duplicate.\n",
      "Peggy doesnt know why its a duplicate.\n",
      "Peggy doesnt know why its a duplicate.\n",
      "Peggy doesnt know why its a duplicate.\n",
      "Peggy doesnt know why its a duplicate.\n",
      "Peggy doesnt know why its a duplicate.\n",
      "Peggy doesnt know why its a duplicate.\n",
      "Peggy doesnt know why its a duplicate.\n",
      "Peggy doesnt know why its a duplicate.\n",
      "Peggy doesnt know why its a duplicate.\n",
      "Peggy doesnt know why its a duplicate.\n",
      "Peggy doesnt know why its a duplicate.\n",
      "Peggy doesnt know why its a duplicate.\n",
      "Peggy doesnt know why its a duplicate.\n",
      "Peggy doesnt know why its a duplicate.\n",
      "Peggy doesnt know why its a duplicate.\n",
      "Peggy doesnt know why its a duplicate.\n",
      "Peggy doesnt know why its a duplicate.\n",
      "Peggy doesnt know why its a duplicate.\n",
      "Peggy doesnt know why its a duplicate.\n",
      "Peggy doesnt know why its a duplicate.\n",
      "Peggy doesnt know why its a duplicate.\n",
      "Peggy doesnt know why its a duplicate.\n",
      "Peggy doesnt know why its a duplicate.\n",
      "Peggy doesnt know why its a duplicate.\n",
      "Peggy doesnt know why its a duplicate.\n",
      "Peggy doesnt know why its a duplicate.\n",
      "Peggy doesnt know why its a duplicate.\n",
      "Peggy doesnt know why its a duplicate.\n",
      "Peggy doesnt know why its a duplicate.\n",
      "Peggy doesnt know why its a duplicate.\n",
      "Peggy doesnt know why its a duplicate.\n",
      "Peggy doesnt know why its a duplicate.\n",
      "Peggy doesnt know why its a duplicate.\n",
      "Peggy doesnt know why its a duplicate.\n",
      "Peggy doesnt know why its a duplicate.\n",
      "Peggy doesnt know why its a duplicate.\n",
      "Peggy doesnt know why its a duplicate.\n",
      "Peggy doesnt know why its a duplicate.\n",
      "Peggy doesnt know why its a duplicate.\n",
      "Peggy doesnt know why its a duplicate.\n",
      "Peggy doesnt know why its a duplicate.\n",
      "Peggy doesnt know why its a duplicate.\n",
      "Peggy doesnt know why its a duplicate.\n",
      "Peggy doesnt know why its a duplicate.\n",
      "Peggy doesnt know why its a duplicate.\n",
      "Peggy doesnt know why its a duplicate.\n",
      "Peggy doesnt know why its a duplicate.\n",
      "Peggy doesnt know why its a duplicate.\n",
      "Peggy doesnt know why its a duplicate.\n",
      "Peggy doesnt know why its a duplicate.\n",
      "Peggy doesnt know why its a duplicate.\n",
      "Peggy doesnt know why its a duplicate.\n",
      "Peggy doesnt know why its a duplicate.\n",
      "Peggy doesnt know why its a duplicate.\n",
      "Peggy doesnt know why its a duplicate.\n",
      "Peggy doesnt know why its a duplicate.\n",
      "Peggy doesnt know why its a duplicate.\n",
      "Peggy doesnt know why its a duplicate.\n",
      "Peggy doesnt know why its a duplicate.\n",
      "Peggy doesnt know why its a duplicate.\n",
      "Peggy doesnt know why its a duplicate.\n",
      "Peggy doesnt know why its a duplicate.\n",
      "Peggy doesnt know why its a duplicate.\n",
      "Peggy doesnt know why its a duplicate.\n",
      "Peggy doesnt know why its a duplicate.\n",
      "Peggy doesnt know why its a duplicate.\n",
      "Peggy doesnt know why its a duplicate.\n",
      "Peggy doesnt know why its a duplicate.\n",
      "Peggy doesnt know why its a duplicate.\n",
      "Peggy doesnt know why its a duplicate.\n",
      "Peggy doesnt know why its a duplicate.\n",
      "Peggy doesnt know why its a duplicate.\n",
      "Peggy doesnt know why its a duplicate.\n",
      "Peggy doesnt know why its a duplicate.\n",
      "Peggy doesnt know why its a duplicate.\n",
      "Peggy doesnt know why its a duplicate.\n",
      "Peggy doesnt know why its a duplicate.\n",
      "Peggy doesnt know why its a duplicate.\n",
      "Peggy doesnt know why its a duplicate.\n",
      "Peggy doesnt know why its a duplicate.\n",
      "Peggy doesnt know why its a duplicate.\n",
      "Peggy doesnt know why its a duplicate.\n",
      "Peggy doesnt know why its a duplicate.\n",
      "Peggy doesnt know why its a duplicate.\n",
      "Peggy doesnt know why its a duplicate.\n",
      "Peggy doesnt know why its a duplicate.\n",
      "Peggy doesnt know why its a duplicate.\n",
      "Peggy doesnt know why its a duplicate.\n",
      "Peggy doesnt know why its a duplicate.\n",
      "Peggy doesnt know why its a duplicate.\n",
      "Peggy doesnt know why its a duplicate.\n",
      "Peggy doesnt know why its a duplicate.\n",
      "Peggy doesnt know why its a duplicate.\n",
      "Peggy doesnt know why its a duplicate.\n",
      "Peggy doesnt know why its a duplicate.\n",
      "Peggy doesnt know why its a duplicate.\n",
      "Peggy doesnt know why its a duplicate.\n",
      "Peggy doesnt know why its a duplicate.\n",
      "Peggy doesnt know why its a duplicate.\n",
      "Peggy doesnt know why its a duplicate.\n",
      "Peggy doesnt know why its a duplicate.\n",
      "Peggy doesnt know why its a duplicate.\n",
      "Peggy doesnt know why its a duplicate.\n",
      "Peggy doesnt know why its a duplicate.\n",
      "Peggy doesnt know why its a duplicate.\n",
      "Peggy doesnt know why its a duplicate.\n",
      "Peggy doesnt know why its a duplicate.\n",
      "Peggy doesnt know why its a duplicate.\n",
      "Peggy doesnt know why its a duplicate.\n",
      "Peggy doesnt know why its a duplicate.\n",
      "Peggy doesnt know why its a duplicate.\n",
      "Peggy doesnt know why its a duplicate.\n",
      "Peggy doesnt know why its a duplicate.\n",
      "Peggy doesnt know why its a duplicate.\n",
      "Peggy doesnt know why its a duplicate.\n",
      "Peggy doesnt know why its a duplicate.\n",
      "Peggy doesnt know why its a duplicate.\n",
      "Peggy doesnt know why its a duplicate.\n",
      "Peggy doesnt know why its a duplicate.\n",
      "Peggy doesnt know why its a duplicate.\n",
      "Peggy doesnt know why its a duplicate.\n",
      "Peggy doesnt know why its a duplicate.\n",
      "Peggy doesnt know why its a duplicate.\n",
      "Peggy doesnt know why its a duplicate.\n",
      "Peggy doesnt know why its a duplicate.\n",
      "Peggy doesnt know why its a duplicate.\n",
      "Peggy doesnt know why its a duplicate.\n",
      "Peggy doesnt know why its a duplicate.\n",
      "Peggy doesnt know why its a duplicate.\n",
      "Peggy doesnt know why its a duplicate.\n",
      "Peggy doesnt know why its a duplicate.\n",
      "Peggy doesnt know why its a duplicate.\n",
      "Peggy doesnt know why its a duplicate.\n",
      "Peggy doesnt know why its a duplicate.\n",
      "Peggy doesnt know why its a duplicate.\n",
      "Peggy doesnt know why its a duplicate.\n",
      "Peggy doesnt know why its a duplicate.\n",
      "Peggy doesnt know why its a duplicate.\n",
      "Peggy doesnt know why its a duplicate.\n",
      "Peggy doesnt know why its a duplicate.\n",
      "Peggy doesnt know why its a duplicate.\n",
      "Peggy doesnt know why its a duplicate.\n",
      "Peggy doesnt know why its a duplicate.\n",
      "Peggy doesnt know why its a duplicate.\n",
      "Peggy doesnt know why its a duplicate.\n",
      "Peggy doesnt know why its a duplicate.\n",
      "Peggy doesnt know why its a duplicate.\n",
      "Peggy doesnt know why its a duplicate.\n",
      "Peggy doesnt know why its a duplicate.\n",
      "Peggy doesnt know why its a duplicate.\n",
      "Peggy doesnt know why its a duplicate.\n",
      "Peggy doesnt know why its a duplicate.\n",
      "Peggy doesnt know why its a duplicate.\n",
      "Peggy doesnt know why its a duplicate.\n",
      "Peggy doesnt know why its a duplicate.\n",
      "Peggy doesnt know why its a duplicate.\n",
      "Peggy doesnt know why its a duplicate.\n",
      "Peggy doesnt know why its a duplicate.\n",
      "Peggy doesnt know why its a duplicate.\n",
      "Peggy doesnt know why its a duplicate.\n",
      "Peggy doesnt know why its a duplicate.\n",
      "Peggy doesnt know why its a duplicate.\n",
      "Peggy doesnt know why its a duplicate.\n",
      "Peggy doesnt know why its a duplicate.\n",
      "Peggy doesnt know why its a duplicate.\n",
      "Peggy doesnt know why its a duplicate.\n",
      "Peggy doesnt know why its a duplicate.\n",
      "Peggy doesnt know why its a duplicate.\n",
      "Peggy doesnt know why its a duplicate.\n",
      "Peggy doesnt know why its a duplicate.\n",
      "Peggy doesnt know why its a duplicate.\n",
      "Peggy doesnt know why its a duplicate.\n",
      "Peggy doesnt know why its a duplicate.\n",
      "Peggy doesnt know why its a duplicate.\n",
      "Peggy doesnt know why its a duplicate.\n",
      "Peggy doesnt know why its a duplicate.\n",
      "Peggy doesnt know why its a duplicate.\n",
      "Peggy doesnt know why its a duplicate.\n",
      "Peggy doesnt know why its a duplicate.\n",
      "Peggy doesnt know why its a duplicate.\n",
      "Peggy doesnt know why its a duplicate.\n",
      "Peggy doesnt know why its a duplicate.\n",
      "Peggy doesnt know why its a duplicate.\n",
      "Peggy doesnt know why its a duplicate.\n",
      "Peggy doesnt know why its a duplicate.\n",
      "Peggy doesnt know why its a duplicate.\n",
      "Peggy doesnt know why its a duplicate.\n",
      "Peggy doesnt know why its a duplicate.\n",
      "Peggy doesnt know why its a duplicate.\n",
      "Peggy doesnt know why its a duplicate.\n",
      "Peggy doesnt know why its a duplicate.\n",
      "Peggy doesnt know why its a duplicate.\n",
      "Peggy doesnt know why its a duplicate.\n",
      "Peggy doesnt know why its a duplicate.\n",
      "Peggy doesnt know why its a duplicate.\n",
      "Peggy doesnt know why its a duplicate.\n",
      "Peggy doesnt know why its a duplicate.\n",
      "Peggy doesnt know why its a duplicate.\n",
      "Peggy doesnt know why its a duplicate.\n",
      "Peggy doesnt know why its a duplicate.\n",
      "Peggy doesnt know why its a duplicate.\n",
      "Peggy doesnt know why its a duplicate.\n",
      "Peggy doesnt know why its a duplicate.\n",
      "Peggy doesnt know why its a duplicate.\n",
      "Peggy doesnt know why its a duplicate.\n",
      "Peggy doesnt know why its a duplicate.\n",
      "Peggy doesnt know why its a duplicate.\n",
      "Peggy doesnt know why its a duplicate.\n",
      "Peggy doesnt know why its a duplicate.\n",
      "Peggy doesnt know why its a duplicate.\n",
      "Peggy doesnt know why its a duplicate.\n",
      "Peggy doesnt know why its a duplicate.\n",
      "Peggy doesnt know why its a duplicate.\n",
      "Peggy doesnt know why its a duplicate.\n",
      "Peggy doesnt know why its a duplicate.\n",
      "Peggy doesnt know why its a duplicate.\n",
      "Peggy doesnt know why its a duplicate.\n",
      "Peggy doesnt know why its a duplicate.\n",
      "Peggy doesnt know why its a duplicate.\n",
      "Peggy doesnt know why its a duplicate.\n",
      "Peggy doesnt know why its a duplicate.\n",
      "Peggy doesnt know why its a duplicate.\n",
      "Peggy doesnt know why its a duplicate.\n",
      "Peggy doesnt know why its a duplicate.\n",
      "Peggy doesnt know why its a duplicate.\n",
      "Peggy doesnt know why its a duplicate.\n",
      "Peggy doesnt know why its a duplicate.\n",
      "Peggy doesnt know why its a duplicate.\n",
      "Peggy doesnt know why its a duplicate.\n",
      "Peggy doesnt know why its a duplicate.\n",
      "Peggy doesnt know why its a duplicate.\n",
      "Peggy doesnt know why its a duplicate.\n",
      "Peggy doesnt know why its a duplicate.\n",
      "Peggy doesnt know why its a duplicate.\n",
      "Peggy doesnt know why its a duplicate.\n",
      "Peggy doesnt know why its a duplicate.\n",
      "Peggy doesnt know why its a duplicate.\n",
      "Peggy doesnt know why its a duplicate.\n",
      "Peggy doesnt know why its a duplicate.\n",
      "Peggy doesnt know why its a duplicate.\n",
      "Peggy doesnt know why its a duplicate.\n",
      "Peggy doesnt know why its a duplicate.\n",
      "Peggy doesnt know why its a duplicate.\n",
      "Peggy doesnt know why its a duplicate.\n",
      "Peggy doesnt know why its a duplicate.\n",
      "Peggy doesnt know why its a duplicate.\n",
      "Peggy doesnt know why its a duplicate.\n",
      "Peggy doesnt know why its a duplicate.\n"
     ]
    },
    {
     "ename": "KeyError",
     "evalue": "'totalCommentsFound'",
     "output_type": "error",
     "traceback": [
      "\u001b[0;31m---------------------------------------------------------------------------\u001b[0m",
      "\u001b[0;31mKeyError\u001b[0m                                  Traceback (most recent call last)",
      "\u001b[0;32m<ipython-input-7-dfc7c7a34ff8>\u001b[0m in \u001b[0;36m<module>\u001b[0;34m()\u001b[0m\n\u001b[1;32m      3\u001b[0m     \u001b[0mpayload\u001b[0m \u001b[0;34m=\u001b[0m \u001b[0;34m{\u001b[0m\u001b[0;34m'api-key'\u001b[0m\u001b[0;34m:\u001b[0m \u001b[0;34m'f16ea9a0449b856bc44a665bfdaf82b0:15:73040063'\u001b[0m\u001b[0;34m}\u001b[0m\u001b[0;34m\u001b[0m\u001b[0m\n\u001b[1;32m      4\u001b[0m     \u001b[0mcontent\u001b[0m \u001b[0;34m=\u001b[0m \u001b[0msingle_query\u001b[0m\u001b[0;34m(\u001b[0m\u001b[0mlink\u001b[0m\u001b[0;34m,\u001b[0m \u001b[0mpayload\u001b[0m\u001b[0;34m)\u001b[0m\u001b[0;34m\u001b[0m\u001b[0m\n\u001b[0;32m----> 5\u001b[0;31m     \u001b[0mtotal\u001b[0m \u001b[0;34m=\u001b[0m \u001b[0mcontent\u001b[0m\u001b[0;34m[\u001b[0m\u001b[0;34m'results'\u001b[0m\u001b[0;34m]\u001b[0m\u001b[0;34m[\u001b[0m\u001b[0;34m'totalCommentsFound'\u001b[0m\u001b[0;34m]\u001b[0m\u001b[0;34m\u001b[0m\u001b[0m\n\u001b[0m\u001b[1;32m      6\u001b[0m     \u001b[0;32mif\u001b[0m \u001b[0mtotal\u001b[0m \u001b[0;34m==\u001b[0m \u001b[0;36m0\u001b[0m\u001b[0;34m:\u001b[0m\u001b[0;34m\u001b[0m\u001b[0m\n\u001b[1;32m      7\u001b[0m         \u001b[0;32mpass\u001b[0m\u001b[0;34m\u001b[0m\u001b[0m\n",
      "\u001b[0;31mKeyError\u001b[0m: 'totalCommentsFound'"
     ]
    }
   ],
   "source": [
    "for url in links:\n",
    "    link = \"http://api.nytimes.com/svc/community/v3/user-content/url.json?url=\" + url\n",
    "    payload = {'api-key': 'f16ea9a0449b856bc44a665bfdaf82b0:15:73040063'}     \n",
    "    content = single_query(link, payload)\n",
    "    total = content['results']['totalCommentsFound'] \n",
    "    if total == 0:\n",
    "        pass\n",
    "    else:\n",
    "        num_pages = list(np.arange(0, total, 25))  \n",
    "        for i in num_pages:\n",
    "            link = \"http://api.nytimes.com/svc/community/v3/user-content/url.json?url=\" + url\n",
    "            payload = {'api-key': 'f16ea9a0449b856bc44a665bfdaf82b0:15:73040063', 'offset' : i}\n",
    "            content = single_query(link, payload)\n",
    "            \n",
    "            if len(content['results']['comments']) != 0: \n",
    "                for y in range(len(content['results']['comments'])): \n",
    "                    new_data = content['results']['comments'][y]\n",
    "                    new_data['web_url'] = url\n",
    "                    new_data['_id'] = content['results']['comments'][y]['commentID']\n",
    "                    try:\n",
    "                        db_comments.tab_sanders.insert(new_data)\n",
    "                    except DuplicateKeyError:\n",
    "                        print 'Peggy doesnt know why its a duplicate.'\n",
    "                        pass\n",
    "            else:\n",
    "                pass"
   ]
  },
  {
   "cell_type": "code",
   "execution_count": 15,
   "metadata": {
    "collapsed": false
   },
   "outputs": [
    {
     "data": {
      "text/plain": [
       "0"
      ]
     },
     "execution_count": 15,
     "metadata": {},
     "output_type": "execute_result"
    }
   ],
   "source": [
    "links = db.table_bush.find({},{'web_url': 1, '_id' : 0})\n",
    "links_b = []\n",
    "\n",
    "for i in links:\n",
    "    if any(i) ==  False:\n",
    "        pass\n",
    "    else:\n",
    "        links_b.append(str(i['web_url'])) \n",
    "len(links_b)"
   ]
  },
  {
   "cell_type": "code",
   "execution_count": 16,
   "metadata": {
    "collapsed": true
   },
   "outputs": [],
   "source": [
    "url = pd.read_csv('../bush_urls.csv', header = None)\n",
    "links = url[1].values"
   ]
  },
  {
   "cell_type": "markdown",
   "metadata": {},
   "source": [
    "API KEY: 287482b0ca06f168ffe4bc6a6de1fca1:10:73040699\n",
    "API KEY: f16ea9a0449b856bc44a665bfdaf82b0:15:73040063"
   ]
  },
  {
   "cell_type": "code",
   "execution_count": 20,
   "metadata": {
    "collapsed": true
   },
   "outputs": [
    {
     "ename": "KeyboardInterrupt",
     "evalue": "",
     "output_type": "error",
     "traceback": [
      "\u001b[0;31m---------------------------------------------------------------------------\u001b[0m",
      "\u001b[0;31mKeyboardInterrupt\u001b[0m                         Traceback (most recent call last)",
      "\u001b[0;32m<ipython-input-20-2febed2c2685>\u001b[0m in \u001b[0;36m<module>\u001b[0;34m()\u001b[0m\n\u001b[1;32m     11\u001b[0m             \u001b[0mlink\u001b[0m \u001b[0;34m=\u001b[0m \u001b[0;34m\"http://api.nytimes.com/svc/community/v3/user-content/url.json?url=\"\u001b[0m \u001b[0;34m+\u001b[0m \u001b[0murl\u001b[0m\u001b[0;34m\u001b[0m\u001b[0m\n\u001b[1;32m     12\u001b[0m             \u001b[0mpayload\u001b[0m \u001b[0;34m=\u001b[0m \u001b[0;34m{\u001b[0m\u001b[0;34m'api-key'\u001b[0m\u001b[0;34m:\u001b[0m \u001b[0;34m'287482b0ca06f168ffe4bc6a6de1fca1:10:73040699'\u001b[0m\u001b[0;34m,\u001b[0m \u001b[0;34m'offset'\u001b[0m \u001b[0;34m:\u001b[0m \u001b[0mi\u001b[0m\u001b[0;34m}\u001b[0m\u001b[0;34m\u001b[0m\u001b[0m\n\u001b[0;32m---> 13\u001b[0;31m             \u001b[0mcontent\u001b[0m \u001b[0;34m=\u001b[0m \u001b[0msingle_query\u001b[0m\u001b[0;34m(\u001b[0m\u001b[0mlink\u001b[0m\u001b[0;34m,\u001b[0m \u001b[0mpayload\u001b[0m\u001b[0;34m)\u001b[0m\u001b[0;34m\u001b[0m\u001b[0m\n\u001b[0m\u001b[1;32m     14\u001b[0m \u001b[0;34m\u001b[0m\u001b[0m\n\u001b[1;32m     15\u001b[0m             \u001b[0;32mif\u001b[0m \u001b[0mlen\u001b[0m\u001b[0;34m(\u001b[0m\u001b[0mcontent\u001b[0m\u001b[0;34m[\u001b[0m\u001b[0;34m'results'\u001b[0m\u001b[0;34m]\u001b[0m\u001b[0;34m[\u001b[0m\u001b[0;34m'comments'\u001b[0m\u001b[0;34m]\u001b[0m\u001b[0;34m)\u001b[0m \u001b[0;34m!=\u001b[0m \u001b[0;36m0\u001b[0m\u001b[0;34m:\u001b[0m\u001b[0;34m\u001b[0m\u001b[0m\n",
      "\u001b[0;32m<ipython-input-6-b426aeb64953>\u001b[0m in \u001b[0;36msingle_query\u001b[0;34m(link, payload)\u001b[0m\n\u001b[1;32m      1\u001b[0m \u001b[0;32mdef\u001b[0m \u001b[0msingle_query\u001b[0m\u001b[0;34m(\u001b[0m\u001b[0mlink\u001b[0m\u001b[0;34m,\u001b[0m \u001b[0mpayload\u001b[0m\u001b[0;34m)\u001b[0m\u001b[0;34m:\u001b[0m\u001b[0;34m\u001b[0m\u001b[0m\n\u001b[0;32m----> 2\u001b[0;31m     \u001b[0mresponse\u001b[0m \u001b[0;34m=\u001b[0m \u001b[0mrequests\u001b[0m\u001b[0;34m.\u001b[0m\u001b[0mget\u001b[0m\u001b[0;34m(\u001b[0m\u001b[0mlink\u001b[0m\u001b[0;34m,\u001b[0m \u001b[0mparams\u001b[0m\u001b[0;34m=\u001b[0m\u001b[0mpayload\u001b[0m\u001b[0;34m)\u001b[0m\u001b[0;34m\u001b[0m\u001b[0m\n\u001b[0m\u001b[1;32m      3\u001b[0m     \u001b[0;32mif\u001b[0m \u001b[0mresponse\u001b[0m\u001b[0;34m.\u001b[0m\u001b[0mstatus_code\u001b[0m \u001b[0;34m!=\u001b[0m \u001b[0;36m200\u001b[0m\u001b[0;34m:\u001b[0m\u001b[0;34m\u001b[0m\u001b[0m\n\u001b[1;32m      4\u001b[0m         \u001b[0;32mprint\u001b[0m \u001b[0;34m'WARNING'\u001b[0m\u001b[0;34m,\u001b[0m \u001b[0mresponse\u001b[0m\u001b[0;34m.\u001b[0m\u001b[0mstatus_code\u001b[0m\u001b[0;34m\u001b[0m\u001b[0m\n\u001b[1;32m      5\u001b[0m     \u001b[0;32melse\u001b[0m\u001b[0;34m:\u001b[0m\u001b[0;34m\u001b[0m\u001b[0m\n",
      "\u001b[0;32m/Users/datascientist/anaconda/lib/python2.7/site-packages/requests/api.pyc\u001b[0m in \u001b[0;36mget\u001b[0;34m(url, params, **kwargs)\u001b[0m\n\u001b[1;32m     67\u001b[0m \u001b[0;34m\u001b[0m\u001b[0m\n\u001b[1;32m     68\u001b[0m     \u001b[0mkwargs\u001b[0m\u001b[0;34m.\u001b[0m\u001b[0msetdefault\u001b[0m\u001b[0;34m(\u001b[0m\u001b[0;34m'allow_redirects'\u001b[0m\u001b[0;34m,\u001b[0m \u001b[0mTrue\u001b[0m\u001b[0;34m)\u001b[0m\u001b[0;34m\u001b[0m\u001b[0m\n\u001b[0;32m---> 69\u001b[0;31m     \u001b[0;32mreturn\u001b[0m \u001b[0mrequest\u001b[0m\u001b[0;34m(\u001b[0m\u001b[0;34m'get'\u001b[0m\u001b[0;34m,\u001b[0m \u001b[0murl\u001b[0m\u001b[0;34m,\u001b[0m \u001b[0mparams\u001b[0m\u001b[0;34m=\u001b[0m\u001b[0mparams\u001b[0m\u001b[0;34m,\u001b[0m \u001b[0;34m**\u001b[0m\u001b[0mkwargs\u001b[0m\u001b[0;34m)\u001b[0m\u001b[0;34m\u001b[0m\u001b[0m\n\u001b[0m\u001b[1;32m     70\u001b[0m \u001b[0;34m\u001b[0m\u001b[0m\n\u001b[1;32m     71\u001b[0m \u001b[0;34m\u001b[0m\u001b[0m\n",
      "\u001b[0;32m/Users/datascientist/anaconda/lib/python2.7/site-packages/requests/api.pyc\u001b[0m in \u001b[0;36mrequest\u001b[0;34m(method, url, **kwargs)\u001b[0m\n\u001b[1;32m     48\u001b[0m \u001b[0;34m\u001b[0m\u001b[0m\n\u001b[1;32m     49\u001b[0m     \u001b[0msession\u001b[0m \u001b[0;34m=\u001b[0m \u001b[0msessions\u001b[0m\u001b[0;34m.\u001b[0m\u001b[0mSession\u001b[0m\u001b[0;34m(\u001b[0m\u001b[0;34m)\u001b[0m\u001b[0;34m\u001b[0m\u001b[0m\n\u001b[0;32m---> 50\u001b[0;31m     \u001b[0mresponse\u001b[0m \u001b[0;34m=\u001b[0m \u001b[0msession\u001b[0m\u001b[0;34m.\u001b[0m\u001b[0mrequest\u001b[0m\u001b[0;34m(\u001b[0m\u001b[0mmethod\u001b[0m\u001b[0;34m=\u001b[0m\u001b[0mmethod\u001b[0m\u001b[0;34m,\u001b[0m \u001b[0murl\u001b[0m\u001b[0;34m=\u001b[0m\u001b[0murl\u001b[0m\u001b[0;34m,\u001b[0m \u001b[0;34m**\u001b[0m\u001b[0mkwargs\u001b[0m\u001b[0;34m)\u001b[0m\u001b[0;34m\u001b[0m\u001b[0m\n\u001b[0m\u001b[1;32m     51\u001b[0m     \u001b[0;31m# By explicitly closing the session, we avoid leaving sockets open which\u001b[0m\u001b[0;34m\u001b[0m\u001b[0;34m\u001b[0m\u001b[0m\n\u001b[1;32m     52\u001b[0m     \u001b[0;31m# can trigger a ResourceWarning in some cases, and look like a memory leak\u001b[0m\u001b[0;34m\u001b[0m\u001b[0;34m\u001b[0m\u001b[0m\n",
      "\u001b[0;32m/Users/datascientist/anaconda/lib/python2.7/site-packages/requests/sessions.pyc\u001b[0m in \u001b[0;36mrequest\u001b[0;34m(self, method, url, params, data, headers, cookies, files, auth, timeout, allow_redirects, proxies, hooks, stream, verify, cert, json)\u001b[0m\n\u001b[1;32m    463\u001b[0m         }\n\u001b[1;32m    464\u001b[0m         \u001b[0msend_kwargs\u001b[0m\u001b[0;34m.\u001b[0m\u001b[0mupdate\u001b[0m\u001b[0;34m(\u001b[0m\u001b[0msettings\u001b[0m\u001b[0;34m)\u001b[0m\u001b[0;34m\u001b[0m\u001b[0m\n\u001b[0;32m--> 465\u001b[0;31m         \u001b[0mresp\u001b[0m \u001b[0;34m=\u001b[0m \u001b[0mself\u001b[0m\u001b[0;34m.\u001b[0m\u001b[0msend\u001b[0m\u001b[0;34m(\u001b[0m\u001b[0mprep\u001b[0m\u001b[0;34m,\u001b[0m \u001b[0;34m**\u001b[0m\u001b[0msend_kwargs\u001b[0m\u001b[0;34m)\u001b[0m\u001b[0;34m\u001b[0m\u001b[0m\n\u001b[0m\u001b[1;32m    466\u001b[0m \u001b[0;34m\u001b[0m\u001b[0m\n\u001b[1;32m    467\u001b[0m         \u001b[0;32mreturn\u001b[0m \u001b[0mresp\u001b[0m\u001b[0;34m\u001b[0m\u001b[0m\n",
      "\u001b[0;32m/Users/datascientist/anaconda/lib/python2.7/site-packages/requests/sessions.pyc\u001b[0m in \u001b[0;36msend\u001b[0;34m(self, request, **kwargs)\u001b[0m\n\u001b[1;32m    571\u001b[0m \u001b[0;34m\u001b[0m\u001b[0m\n\u001b[1;32m    572\u001b[0m         \u001b[0;31m# Send the request\u001b[0m\u001b[0;34m\u001b[0m\u001b[0;34m\u001b[0m\u001b[0m\n\u001b[0;32m--> 573\u001b[0;31m         \u001b[0mr\u001b[0m \u001b[0;34m=\u001b[0m \u001b[0madapter\u001b[0m\u001b[0;34m.\u001b[0m\u001b[0msend\u001b[0m\u001b[0;34m(\u001b[0m\u001b[0mrequest\u001b[0m\u001b[0;34m,\u001b[0m \u001b[0;34m**\u001b[0m\u001b[0mkwargs\u001b[0m\u001b[0;34m)\u001b[0m\u001b[0;34m\u001b[0m\u001b[0m\n\u001b[0m\u001b[1;32m    574\u001b[0m \u001b[0;34m\u001b[0m\u001b[0m\n\u001b[1;32m    575\u001b[0m         \u001b[0;31m# Total elapsed time of the request (approximately)\u001b[0m\u001b[0;34m\u001b[0m\u001b[0;34m\u001b[0m\u001b[0m\n",
      "\u001b[0;32m/Users/datascientist/anaconda/lib/python2.7/site-packages/requests/adapters.pyc\u001b[0m in \u001b[0;36msend\u001b[0;34m(self, request, stream, timeout, verify, cert, proxies)\u001b[0m\n\u001b[1;32m    368\u001b[0m                     \u001b[0mdecode_content\u001b[0m\u001b[0;34m=\u001b[0m\u001b[0mFalse\u001b[0m\u001b[0;34m,\u001b[0m\u001b[0;34m\u001b[0m\u001b[0m\n\u001b[1;32m    369\u001b[0m                     \u001b[0mretries\u001b[0m\u001b[0;34m=\u001b[0m\u001b[0mself\u001b[0m\u001b[0;34m.\u001b[0m\u001b[0mmax_retries\u001b[0m\u001b[0;34m,\u001b[0m\u001b[0;34m\u001b[0m\u001b[0m\n\u001b[0;32m--> 370\u001b[0;31m                     \u001b[0mtimeout\u001b[0m\u001b[0;34m=\u001b[0m\u001b[0mtimeout\u001b[0m\u001b[0;34m\u001b[0m\u001b[0m\n\u001b[0m\u001b[1;32m    371\u001b[0m                 )\n\u001b[1;32m    372\u001b[0m \u001b[0;34m\u001b[0m\u001b[0m\n",
      "\u001b[0;32m/Users/datascientist/anaconda/lib/python2.7/site-packages/requests/packages/urllib3/connectionpool.pyc\u001b[0m in \u001b[0;36murlopen\u001b[0;34m(self, method, url, body, headers, retries, redirect, assert_same_host, timeout, pool_timeout, release_conn, **response_kw)\u001b[0m\n\u001b[1;32m    542\u001b[0m             httplib_response = self._make_request(conn, method, url,\n\u001b[1;32m    543\u001b[0m                                                   \u001b[0mtimeout\u001b[0m\u001b[0;34m=\u001b[0m\u001b[0mtimeout_obj\u001b[0m\u001b[0;34m,\u001b[0m\u001b[0;34m\u001b[0m\u001b[0m\n\u001b[0;32m--> 544\u001b[0;31m                                                   body=body, headers=headers)\n\u001b[0m\u001b[1;32m    545\u001b[0m \u001b[0;34m\u001b[0m\u001b[0m\n\u001b[1;32m    546\u001b[0m             \u001b[0;31m# If we're going to release the connection in ``finally:``, then\u001b[0m\u001b[0;34m\u001b[0m\u001b[0;34m\u001b[0m\u001b[0m\n",
      "\u001b[0;32m/Users/datascientist/anaconda/lib/python2.7/site-packages/requests/packages/urllib3/connectionpool.pyc\u001b[0m in \u001b[0;36m_make_request\u001b[0;34m(self, conn, method, url, timeout, **httplib_request_kw)\u001b[0m\n\u001b[1;32m    370\u001b[0m         \u001b[0;32mtry\u001b[0m\u001b[0;34m:\u001b[0m\u001b[0;34m\u001b[0m\u001b[0m\n\u001b[1;32m    371\u001b[0m             \u001b[0;32mtry\u001b[0m\u001b[0;34m:\u001b[0m  \u001b[0;31m# Python 2.7, use buffering of HTTP responses\u001b[0m\u001b[0;34m\u001b[0m\u001b[0m\n\u001b[0;32m--> 372\u001b[0;31m                 \u001b[0mhttplib_response\u001b[0m \u001b[0;34m=\u001b[0m \u001b[0mconn\u001b[0m\u001b[0;34m.\u001b[0m\u001b[0mgetresponse\u001b[0m\u001b[0;34m(\u001b[0m\u001b[0mbuffering\u001b[0m\u001b[0;34m=\u001b[0m\u001b[0mTrue\u001b[0m\u001b[0;34m)\u001b[0m\u001b[0;34m\u001b[0m\u001b[0m\n\u001b[0m\u001b[1;32m    373\u001b[0m             \u001b[0;32mexcept\u001b[0m \u001b[0mTypeError\u001b[0m\u001b[0;34m:\u001b[0m  \u001b[0;31m# Python 2.6 and older\u001b[0m\u001b[0;34m\u001b[0m\u001b[0m\n\u001b[1;32m    374\u001b[0m                 \u001b[0mhttplib_response\u001b[0m \u001b[0;34m=\u001b[0m \u001b[0mconn\u001b[0m\u001b[0;34m.\u001b[0m\u001b[0mgetresponse\u001b[0m\u001b[0;34m(\u001b[0m\u001b[0;34m)\u001b[0m\u001b[0;34m\u001b[0m\u001b[0m\n",
      "\u001b[0;32m/Users/datascientist/anaconda/lib/python2.7/httplib.pyc\u001b[0m in \u001b[0;36mgetresponse\u001b[0;34m(self, buffering)\u001b[0m\n\u001b[1;32m   1130\u001b[0m \u001b[0;34m\u001b[0m\u001b[0m\n\u001b[1;32m   1131\u001b[0m         \u001b[0;32mtry\u001b[0m\u001b[0;34m:\u001b[0m\u001b[0;34m\u001b[0m\u001b[0m\n\u001b[0;32m-> 1132\u001b[0;31m             \u001b[0mresponse\u001b[0m\u001b[0;34m.\u001b[0m\u001b[0mbegin\u001b[0m\u001b[0;34m(\u001b[0m\u001b[0;34m)\u001b[0m\u001b[0;34m\u001b[0m\u001b[0m\n\u001b[0m\u001b[1;32m   1133\u001b[0m             \u001b[0;32massert\u001b[0m \u001b[0mresponse\u001b[0m\u001b[0;34m.\u001b[0m\u001b[0mwill_close\u001b[0m \u001b[0;34m!=\u001b[0m \u001b[0m_UNKNOWN\u001b[0m\u001b[0;34m\u001b[0m\u001b[0m\n\u001b[1;32m   1134\u001b[0m             \u001b[0mself\u001b[0m\u001b[0;34m.\u001b[0m\u001b[0m__state\u001b[0m \u001b[0;34m=\u001b[0m \u001b[0m_CS_IDLE\u001b[0m\u001b[0;34m\u001b[0m\u001b[0m\n",
      "\u001b[0;32m/Users/datascientist/anaconda/lib/python2.7/httplib.pyc\u001b[0m in \u001b[0;36mbegin\u001b[0;34m(self)\u001b[0m\n\u001b[1;32m    451\u001b[0m         \u001b[0;31m# read until we get a non-100 response\u001b[0m\u001b[0;34m\u001b[0m\u001b[0;34m\u001b[0m\u001b[0m\n\u001b[1;32m    452\u001b[0m         \u001b[0;32mwhile\u001b[0m \u001b[0mTrue\u001b[0m\u001b[0;34m:\u001b[0m\u001b[0;34m\u001b[0m\u001b[0m\n\u001b[0;32m--> 453\u001b[0;31m             \u001b[0mversion\u001b[0m\u001b[0;34m,\u001b[0m \u001b[0mstatus\u001b[0m\u001b[0;34m,\u001b[0m \u001b[0mreason\u001b[0m \u001b[0;34m=\u001b[0m \u001b[0mself\u001b[0m\u001b[0;34m.\u001b[0m\u001b[0m_read_status\u001b[0m\u001b[0;34m(\u001b[0m\u001b[0;34m)\u001b[0m\u001b[0;34m\u001b[0m\u001b[0m\n\u001b[0m\u001b[1;32m    454\u001b[0m             \u001b[0;32mif\u001b[0m \u001b[0mstatus\u001b[0m \u001b[0;34m!=\u001b[0m \u001b[0mCONTINUE\u001b[0m\u001b[0;34m:\u001b[0m\u001b[0;34m\u001b[0m\u001b[0m\n\u001b[1;32m    455\u001b[0m                 \u001b[0;32mbreak\u001b[0m\u001b[0;34m\u001b[0m\u001b[0m\n",
      "\u001b[0;32m/Users/datascientist/anaconda/lib/python2.7/httplib.pyc\u001b[0m in \u001b[0;36m_read_status\u001b[0;34m(self)\u001b[0m\n\u001b[1;32m    407\u001b[0m     \u001b[0;32mdef\u001b[0m \u001b[0m_read_status\u001b[0m\u001b[0;34m(\u001b[0m\u001b[0mself\u001b[0m\u001b[0;34m)\u001b[0m\u001b[0;34m:\u001b[0m\u001b[0;34m\u001b[0m\u001b[0m\n\u001b[1;32m    408\u001b[0m         \u001b[0;31m# Initialize with Simple-Response defaults\u001b[0m\u001b[0;34m\u001b[0m\u001b[0;34m\u001b[0m\u001b[0m\n\u001b[0;32m--> 409\u001b[0;31m         \u001b[0mline\u001b[0m \u001b[0;34m=\u001b[0m \u001b[0mself\u001b[0m\u001b[0;34m.\u001b[0m\u001b[0mfp\u001b[0m\u001b[0;34m.\u001b[0m\u001b[0mreadline\u001b[0m\u001b[0;34m(\u001b[0m\u001b[0m_MAXLINE\u001b[0m \u001b[0;34m+\u001b[0m \u001b[0;36m1\u001b[0m\u001b[0;34m)\u001b[0m\u001b[0;34m\u001b[0m\u001b[0m\n\u001b[0m\u001b[1;32m    410\u001b[0m         \u001b[0;32mif\u001b[0m \u001b[0mlen\u001b[0m\u001b[0;34m(\u001b[0m\u001b[0mline\u001b[0m\u001b[0;34m)\u001b[0m \u001b[0;34m>\u001b[0m \u001b[0m_MAXLINE\u001b[0m\u001b[0;34m:\u001b[0m\u001b[0;34m\u001b[0m\u001b[0m\n\u001b[1;32m    411\u001b[0m             \u001b[0;32mraise\u001b[0m \u001b[0mLineTooLong\u001b[0m\u001b[0;34m(\u001b[0m\u001b[0;34m\"header line\"\u001b[0m\u001b[0;34m)\u001b[0m\u001b[0;34m\u001b[0m\u001b[0m\n",
      "\u001b[0;32m/Users/datascientist/anaconda/lib/python2.7/socket.pyc\u001b[0m in \u001b[0;36mreadline\u001b[0;34m(self, size)\u001b[0m\n\u001b[1;32m    478\u001b[0m             \u001b[0;32mwhile\u001b[0m \u001b[0mTrue\u001b[0m\u001b[0;34m:\u001b[0m\u001b[0;34m\u001b[0m\u001b[0m\n\u001b[1;32m    479\u001b[0m                 \u001b[0;32mtry\u001b[0m\u001b[0;34m:\u001b[0m\u001b[0;34m\u001b[0m\u001b[0m\n\u001b[0;32m--> 480\u001b[0;31m                     \u001b[0mdata\u001b[0m \u001b[0;34m=\u001b[0m \u001b[0mself\u001b[0m\u001b[0;34m.\u001b[0m\u001b[0m_sock\u001b[0m\u001b[0;34m.\u001b[0m\u001b[0mrecv\u001b[0m\u001b[0;34m(\u001b[0m\u001b[0mself\u001b[0m\u001b[0;34m.\u001b[0m\u001b[0m_rbufsize\u001b[0m\u001b[0;34m)\u001b[0m\u001b[0;34m\u001b[0m\u001b[0m\n\u001b[0m\u001b[1;32m    481\u001b[0m                 \u001b[0;32mexcept\u001b[0m \u001b[0merror\u001b[0m\u001b[0;34m,\u001b[0m \u001b[0me\u001b[0m\u001b[0;34m:\u001b[0m\u001b[0;34m\u001b[0m\u001b[0m\n\u001b[1;32m    482\u001b[0m                     \u001b[0;32mif\u001b[0m \u001b[0me\u001b[0m\u001b[0;34m.\u001b[0m\u001b[0margs\u001b[0m\u001b[0;34m[\u001b[0m\u001b[0;36m0\u001b[0m\u001b[0;34m]\u001b[0m \u001b[0;34m==\u001b[0m \u001b[0mEINTR\u001b[0m\u001b[0;34m:\u001b[0m\u001b[0;34m\u001b[0m\u001b[0m\n",
      "\u001b[0;31mKeyboardInterrupt\u001b[0m: "
     ]
    }
   ],
   "source": [
    "for url in links:\n",
    "    link = \"http://api.nytimes.com/svc/community/v3/user-content/url.json?url=\" + url\n",
    "    payload = {'api-key': '287482b0ca06f168ffe4bc6a6de1fca1:10:73040699'}     \n",
    "    content = single_query(link, payload)\n",
    "    total = content['results']['totalCommentsFound'] \n",
    "    if total == 0:\n",
    "        pass\n",
    "    else:\n",
    "        num_pages = list(np.arange(0, total, 25))  \n",
    "        for i in num_pages:\n",
    "            link = \"http://api.nytimes.com/svc/community/v3/user-content/url.json?url=\" + url\n",
    "            payload = {'api-key': '287482b0ca06f168ffe4bc6a6de1fca1:10:73040699', 'offset' : i}\n",
    "            content = single_query(link, payload)\n",
    "            \n",
    "            if len(content['results']['comments']) != 0: \n",
    "                for y in range(len(content['results']['comments'])): \n",
    "                    new_data = content['results']['comments'][y]\n",
    "                    new_data['web_url'] = url\n",
    "                    new_data['_id'] = content['results']['comments'][y]['commentID']\n",
    "                    try:\n",
    "                        db_comments.tab_bush.insert(new_data)\n",
    "                    except DuplicateKeyError:\n",
    "                        print 'Peggy doesnt know why its a duplicate.'\n",
    "                        pass\n",
    "            else:\n",
    "                pass"
   ]
  },
  {
   "cell_type": "code",
   "execution_count": 22,
   "metadata": {
    "collapsed": false
   },
   "outputs": [],
   "source": [
    "comments = list(db_comments.tab_bush.find({}, {'commentBody': 1,  'web_url': 1, '_id':0})) #exclude ID\n",
    "text = []\n",
    "urls = []\n",
    "\n",
    "# for i in range(len(comments)):\n",
    "#     text.append(comments[i]['commentBody'])\n",
    "for i in range(len(comments)):\n",
    "    if comments[i].get('commentBody') == None:\n",
    "        pass\n",
    "    else:\n",
    "        text.append(comments[i]['commentBody'].encode('utf-8'))\n",
    "        urls.append(comments[i]['web_url'])"
   ]
  },
  {
   "cell_type": "code",
   "execution_count": 23,
   "metadata": {
    "collapsed": false
   },
   "outputs": [],
   "source": [
    "import pandas as pd\n",
    "from itertools import *\n",
    "\n",
    "df = pd.DataFrame(list(izip(text, urls)))\n",
    "\n",
    "df.columns = ['Comment', 'URL']\n",
    "\n",
    "df = df[:25000]\n",
    "df.to_csv('bush_comments2.csv')"
   ]
  },
  {
   "cell_type": "code",
   "execution_count": null,
   "metadata": {
    "collapsed": true
   },
   "outputs": [],
   "source": []
  },
  {
   "cell_type": "code",
   "execution_count": 55,
   "metadata": {
    "collapsed": false
   },
   "outputs": [],
   "source": [
    "from alchemyapi import AlchemyAPI\n",
    "alchemyapi = AlchemyAPI()"
   ]
  },
  {
   "cell_type": "code",
   "execution_count": 30,
   "metadata": {
    "collapsed": false
   },
   "outputs": [],
   "source": [
    "sentiment_s = []\n",
    "score_list_s = []\n",
    "\n",
    "text = db_comments.tab_sanders.find({},{'commentBody': 1, '_id' : 0}).limit(1000)\n",
    "count = db_comments.tab_sanders.find({}).count()\n",
    "for i in range(1000):\n",
    "    myText = text[i]['commentBody']\n",
    "    response = alchemyapi.sentiment(\"text\", myText)\n",
    "    sentiment_s.append(response[\"docSentiment\"][\"type\"])\n",
    "    if response[\"docSentiment\"][\"type\"] == 'neutral':\n",
    "        score_val = 0\n",
    "    else:\n",
    "        score_val = response[\"docSentiment\"][\"score\"]\n",
    "    \n",
    "    score_list_s.append(score_val)\n"
   ]
  },
  {
   "cell_type": "code",
   "execution_count": 33,
   "metadata": {
    "collapsed": false
   },
   "outputs": [],
   "source": [
    "from itertools import *\n",
    "sent = pd.DataFrame(sentiment_s)\n",
    "sent.columns = ['Sentiment']\n",
    "sent['Sentiment'].value_counts()\n",
    "sanders = pd.DataFrame(list(izip_longest(sentiment_s, score_list_s)))"
   ]
  },
  {
   "cell_type": "code",
   "execution_count": 34,
   "metadata": {
    "collapsed": true
   },
   "outputs": [],
   "source": [
    "import seaborn as sns\n",
    "import matplotlib.pyplot as plt\n",
    "%matplotlib inline"
   ]
  },
  {
   "cell_type": "code",
   "execution_count": 36,
   "metadata": {
    "collapsed": false
   },
   "outputs": [
    {
     "data": {
      "text/plain": [
       "<matplotlib.text.Text at 0x10ac29dd0>"
      ]
     },
     "execution_count": 36,
     "metadata": {},
     "output_type": "execute_result"
    },
    {
     "data": {
      "image/png": "[encoded data removed]",
      "text/plain": [
       "<matplotlib.figure.Figure at 0x1042f7d50>"
      ]
     },
     "metadata": {},
     "output_type": "display_data"
    }
   ],
   "source": [
    "plt.figure(figsize=(12,6))\n",
    "\n",
    "plt.subplot(1, 2, 1)\n",
    "sanders.columns = ['Sentiment', 'Score']\n",
    "sanders['Score'] = sanders['Score'].astype(float)\n",
    "sanders.sort('Sentiment', inplace=True)\n",
    "ax = sns.countplot(x=\"Sentiment\", data=sanders)\n",
    "plt.title('sanders')"
   ]
  },
  {
   "cell_type": "code",
   "execution_count": 42,
   "metadata": {
    "collapsed": false
   },
   "outputs": [
    {
     "data": {
      "text/plain": [
       "(-1.5, 1.5)"
      ]
     },
     "execution_count": 42,
     "metadata": {},
     "output_type": "execute_result"
    },
    {
     "data": {
      "image/png": "[encoded data removed]",
      "text/plain": [
       "<matplotlib.figure.Figure at 0x10af89690>"
      ]
     },
     "metadata": {},
     "output_type": "display_data"
    }
   ],
   "source": [
    "plt.figure(figsize=(6,4))\n",
    "sanders1 = sanders[~(sanders == 0).any(axis=1)]\n",
    "sns.violinplot(x=\"Sentiment\", y='Score', data=sanders1)\n",
    "plt.title('Sanders')\n",
    "plt.ylim(-1.5,1.5)"
   ]
  },
  {
   "cell_type": "code",
   "execution_count": null,
   "metadata": {
    "collapsed": true
   },
   "outputs": [],
   "source": []
  }
 ],
 "metadata": {
  "kernelspec": {
   "display_name": "Python 2",
   "language": "python",
   "name": "python2"
  },
  "language_info": {
   "codemirror_mode": {
    "name": "ipython",
    "version": 2
   },
   "file_extension": ".py",
   "mimetype": "text/x-python",
   "name": "python",
   "nbconvert_exporter": "python",
   "pygments_lexer": "ipython2",
   "version": "2.7.10"
  }
 },
 "nbformat": 4,
 "nbformat_minor": 0
}
