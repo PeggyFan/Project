{
 "cells": [
  {
   "cell_type": "code",
   "execution_count": 56,
   "metadata": {
    "collapsed": true
   },
   "outputs": [],
   "source": [
    "from collections import Counter\n",
    "from sklearn.metrics.pairwise import cosine_similarity, euclidean_distances\n",
    "from sklearn.feature_extraction.text import CountVectorizer, TfidfVectorizer\n",
    "import numpy as np\n",
    "from nltk.corpus import stopwords\n",
    "from nltk import word_tokenize\n",
    "from sklearn.metrics.pairwise import linear_kernel\n",
    "from bs4 import BeautifulSoup\n",
    "import re\n",
    "import requests\n",
    "import unidecode\n",
    "import string\n",
    "from nltk.stem.snowball import SnowballStemmer\n",
    "snowball = SnowballStemmer('english')\n"
   ]
  },
  {
   "cell_type": "code",
   "execution_count": 57,
   "metadata": {
    "collapsed": false
   },
   "outputs": [],
   "source": [
    "hilary = pd.read_csv('data/hilary_scores.csv')"
   ]
  },
  {
   "cell_type": "code",
   "execution_count": 58,
   "metadata": {
    "collapsed": false
   },
   "outputs": [],
   "source": [
    "unique_url = hilary['URL'].unique()"
   ]
  },
  {
   "cell_type": "code",
   "execution_count": 68,
   "metadata": {
    "collapsed": false
   },
   "outputs": [],
   "source": [
    "url = unique_url[0]"
   ]
  },
  {
   "cell_type": "code",
   "execution_count": 69,
   "metadata": {
    "collapsed": true
   },
   "outputs": [],
   "source": [
    "def tokenize(doc):\n",
    "    return [snowball.stem(word) for word in word_tokenize(doc.lower())]\n",
    "\n",
    "tfidfvect = TfidfVectorizer(stop_words='english', tokenizer=tokenize)"
   ]
  },
  {
   "cell_type": "code",
   "execution_count": null,
   "metadata": {
    "collapsed": true
   },
   "outputs": [],
   "source": [
    "for url in unique_url:\n",
    "    html = requests.get(url).content\n",
    "    soup = BeautifulSoup(html, 'html.parser')\n",
    "    body = soup.find_all('p', class_= \"story-body-text story-content\")\n",
    "    content = '\\n'.join([i.text for i in soup.select('p.story-body-text')])\n",
    "    content = remove_html_tags(content)\n",
    "    hilary['Article'] = unidecode.unidecode(content).replace(\"\\n\",\" \").replace(\"\\'s\",\"\").replace(\"\\'t\",\"\")\n",
    "\n",
    "    documents = hilary[hilary['URL'] == url]['Comment']\n",
    "    body_text = np.array(body_text)\n",
    "    documents = np.append(documents.values, body_text)\n",
    "    \n",
    "    tfidf_vectorized = tfidfvect.fit_transform(documents).toarray()\n",
    "    cosine_similarities = []\n",
    "    cosine_similarities.append(linear_kernel(tfidf_vectorized, tfidf_vectorized))\n",
    "    \n",
    "    cosine_similarities[0][len(documents)-1]"
   ]
  },
  {
   "cell_type": "code",
   "execution_count": null,
   "metadata": {
    "collapsed": false
   },
   "outputs": [],
   "source": [
    "for url in unique_url:\n",
    "    html = requests.get(url).content\n",
    "    soup = BeautifulSoup(html, 'html.parser')\n",
    "    body = soup.find_all('p', class_= \"story-body-text story-content\")\n",
    "    content = '\\n'.join([i.text for i in soup.select('p.story-body-text')])\n",
    "    body_text = unidecode.unidecode(content).replace(\"\\n\",\" \").replace(\"\\'s\",\"\").replace(\"\\'t\",\"\")\n",
    "    hilary['Article'] = unidecode.unidecode(content).replace(\"\\n\",\" \").replace(\"\\'s\",\"\").replace(\"\\'t\",\"\")\n",
    "\n",
    "    cond = hilary['URL'] == url\n",
    "    hilary_url = hilary[cond]\n",
    "    documents = hilary_url['Comment']\n",
    "    body_text = np.array(body_text)\n",
    "\n",
    "    documents = np.append(documents.values, body_text) #body_text is the very last element in the array\n",
    "\n",
    "    tfidf_vectorized = tfidfvect.fit_transform(documents).toarray()\n",
    "\n",
    "    similar_to_article = []\n",
    "    for comment in tfidf_vectorized[:-1]:\n",
    "        similar_to_article.append(cosine_similarity(comment, tfidf_vectorized[-1])[0, 0])\n",
    "        \n",
    "    #similar_to_article = linear_kernel(tfidf_vectorized, tfidf_vectorized)[-1][:-1]\n",
    "    hilary.loc[cond, 'tfidf_similarity'] = np.array(similar_to_article)"
   ]
  },
  {
   "cell_type": "code",
   "execution_count": 82,
   "metadata": {
    "collapsed": false
   },
   "outputs": [
    {
     "data": {
      "text/plain": [
       "array([ 0.28385536,  0.13776017,  0.22468482,  0.19977964,  0.15793206,\n",
       "        0.10474983,  0.22408546,  0.15809612,  0.16249045,  0.18868696,\n",
       "        0.17526356,  0.19132463,  0.12223278,  0.090609  ,  0.05319628,\n",
       "        0.20177948,  0.20985616,  0.25114208,  0.09669662,  0.0664626 ,\n",
       "        0.27502982,  0.21431282,  0.14668178,  0.16188297,  0.18557274,\n",
       "        0.15189909,  0.48211165,  0.27101849,  0.10632031,  0.17414081,\n",
       "        0.11278801,  0.24733688,  0.04340801,  0.08919754,  0.12176521,\n",
       "        0.12717229,  0.08452504,  0.1488937 ,  0.35451591,  0.03888347,\n",
       "        0.21992209,  0.20654836,  0.11048562,  0.07464507,  0.11416548,\n",
       "        0.10454146,  0.34642229,  0.19033833,  0.08244728,  1.        ])"
      ]
     },
     "execution_count": 82,
     "metadata": {},
     "output_type": "execute_result"
    }
   ],
   "source": [
    "# cosine_similarities[0][49] #similarity between all comments and the article (last element of the array)"
   ]
  },
  {
   "cell_type": "code",
   "execution_count": 97,
   "metadata": {
    "collapsed": false
   },
   "outputs": [
    {
     "data": {
      "text/plain": [
       "Unnamed: 0                                                             0\n",
       "Unnamed: 0.1                                                           0\n",
       "Comment                What Republican wannabe POTUS candidate among ...\n",
       "URL                    http://takingnote.blogs.nytimes.com/2015/09/03...\n",
       "Recommendations                                                        0\n",
       "Locations                                            West Palm Beach, FL\n",
       "EditorPick                                                         False\n",
       "userID                                                          33461964\n",
       "date                                                          1441452450\n",
       "Sentiment                                                    -0.06691087\n",
       "Sentiment_sent                                                      -0.2\n",
       "Sentiment_b                                                            0\n",
       "Sentiment_b_sent                                                       0\n",
       "Subjectivity                                                   0.4711233\n",
       "Subjectivity_sent                                                   -0.2\n",
       "Subjectivity_b                                                         1\n",
       "Subjectivity_b_sent                                                    0\n",
       "tfidf_similarity                                               0.2838554\n",
       "Name: 0, dtype: object"
      ]
     },
     "execution_count": 97,
     "metadata": {},
     "output_type": "execute_result"
    }
   ],
   "source": [
    "hilary_url.ix[0]"
   ]
  },
  {
   "cell_type": "code",
   "execution_count": 70,
   "metadata": {
    "collapsed": false
   },
   "outputs": [
    {
     "data": {
      "text/plain": [
       "'http://takingnote.blogs.nytimes.com/2015/09/03/donald-trumps-empty-promise-to-the-republican-party/'"
      ]
     },
     "execution_count": 70,
     "metadata": {},
     "output_type": "execute_result"
    }
   ],
   "source": [
    "url"
   ]
  },
  {
   "cell_type": "code",
   "execution_count": 35,
   "metadata": {
    "collapsed": false
   },
   "outputs": [
    {
     "data": {
      "text/plain": [
       "array([[ 1.        ,  0.13181099,  0.14152624, ...,  0.11060857,\n",
       "         0.0944184 ,  0.28385536],\n",
       "       [ 0.13181099,  1.        ,  0.07040443, ...,  0.04223145,\n",
       "         0.03672001,  0.13776017],\n",
       "       [ 0.14152624,  0.07040443,  1.        , ...,  0.06753351,\n",
       "         0.09677077,  0.22468482],\n",
       "       ..., \n",
       "       [ 0.11060857,  0.04223145,  0.06753351, ...,  1.        ,\n",
       "         0.05099814,  0.19033833],\n",
       "       [ 0.0944184 ,  0.03672001,  0.09677077, ...,  0.05099814,\n",
       "         1.        ,  0.08244728],\n",
       "       [ 0.28385536,  0.13776017,  0.22468482, ...,  0.19033833,\n",
       "         0.08244728,  1.        ]])"
      ]
     },
     "execution_count": 35,
     "metadata": {},
     "output_type": "execute_result"
    }
   ],
   "source": [
    "#similarity between article and each of the comment\n",
    "cosine_similarities[0][25]\n",
    "m = np.array(cosine_similarities[0][25])\n",
    "m = m[:25]\n",
    "table[\"Similarity\"] = m\n",
    "table.head()"
   ]
  },
  {
   "cell_type": "code",
   "execution_count": 107,
   "metadata": {
    "collapsed": false
   },
   "outputs": [],
   "source": []
  },
  {
   "cell_type": "code",
   "execution_count": 108,
   "metadata": {
    "collapsed": false
   },
   "outputs": [
    {
     "data": {
      "text/html": [
       "<div>\n",
       "<table border=\"1\" class=\"dataframe\">\n",
       "  <thead>\n",
       "    <tr style=\"text-align: right;\">\n",
       "      <th></th>\n",
       "      <th>Comment</th>\n",
       "      <th>URL</th>\n",
       "      <th>Similarity</th>\n",
       "    </tr>\n",
       "  </thead>\n",
       "  <tbody>\n",
       "    <tr>\n",
       "      <th>313</th>\n",
       "      <td>Obama and the Democrats need to remind the pub...</td>\n",
       "      <td>http://www.nytimes.com/2015/07/16/world/middle...</td>\n",
       "      <td>0.238707</td>\n",
       "    </tr>\n",
       "    <tr>\n",
       "      <th>314</th>\n",
       "      <td>Iran realizes that having a bomb is really not...</td>\n",
       "      <td>http://www.nytimes.com/2015/07/16/world/middle...</td>\n",
       "      <td>0.242962</td>\n",
       "    </tr>\n",
       "    <tr>\n",
       "      <th>315</th>\n",
       "      <td>After listening on C-Span to the nuclear exper...</td>\n",
       "      <td>http://www.nytimes.com/2015/07/16/world/middle...</td>\n",
       "      <td>0.201110</td>\n",
       "    </tr>\n",
       "    <tr>\n",
       "      <th>316</th>\n",
       "      <td>The key question is.  How effective are the me...</td>\n",
       "      <td>http://www.nytimes.com/2015/07/16/world/middle...</td>\n",
       "      <td>0.197041</td>\n",
       "    </tr>\n",
       "    <tr>\n",
       "      <th>317</th>\n",
       "      <td>The reality, Iran is and will continue to be a...</td>\n",
       "      <td>http://www.nytimes.com/2015/07/16/world/middle...</td>\n",
       "      <td>0.226393</td>\n",
       "    </tr>\n",
       "  </tbody>\n",
       "</table>\n",
       "</div>"
      ],
      "text/plain": [
       "                                               Comment  \\\n",
       "313  Obama and the Democrats need to remind the pub...   \n",
       "314  Iran realizes that having a bomb is really not...   \n",
       "315  After listening on C-Span to the nuclear exper...   \n",
       "316  The key question is.  How effective are the me...   \n",
       "317  The reality, Iran is and will continue to be a...   \n",
       "\n",
       "                                                   URL  Similarity  \n",
       "313  http://www.nytimes.com/2015/07/16/world/middle...    0.238707  \n",
       "314  http://www.nytimes.com/2015/07/16/world/middle...    0.242962  \n",
       "315  http://www.nytimes.com/2015/07/16/world/middle...    0.201110  \n",
       "316  http://www.nytimes.com/2015/07/16/world/middle...    0.197041  \n",
       "317  http://www.nytimes.com/2015/07/16/world/middle...    0.226393  "
      ]
     },
     "execution_count": 108,
     "metadata": {},
     "output_type": "execute_result"
    }
   ],
   "source": [
    "\n"
   ]
  },
  {
   "cell_type": "code",
   "execution_count": null,
   "metadata": {
    "collapsed": true
   },
   "outputs": [],
   "source": []
  }
 ],
 "metadata": {
  "kernelspec": {
   "display_name": "Python 2",
   "language": "python",
   "name": "python2"
  },
  "language_info": {
   "codemirror_mode": {
    "name": "ipython",
    "version": 2
   },
   "file_extension": ".py",
   "mimetype": "text/x-python",
   "name": "python",
   "nbconvert_exporter": "python",
   "pygments_lexer": "ipython2",
   "version": "2.7.10"
  }
 },
 "nbformat": 4,
 "nbformat_minor": 0
}
