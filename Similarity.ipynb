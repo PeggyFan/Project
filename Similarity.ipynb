{
 "cells": [
  {
   "cell_type": "code",
   "execution_count": 112,
   "metadata": {
    "collapsed": true
   },
   "outputs": [],
   "source": [
    "from collections import Counter\n",
    "from sklearn.metrics.pairwise import cosine_similarity, euclidean_distances\n",
    "from sklearn.feature_extraction.text import CountVectorizer, TfidfVectorizer\n",
    "import numpy as np\n",
    "from nltk.corpus import stopwords\n",
    "from nltk import word_tokenize\n",
    "from sklearn.metrics.pairwise import linear_kernel\n",
    "from bs4 import BeautifulSoup\n",
    "import re\n",
    "import requests\n",
    "import unidecode\n",
    "import string\n",
    "from nltk.stem.snowball import SnowballStemmer\n",
    "snowball = SnowballStemmer('english')\n"
   ]
  },
  {
   "cell_type": "code",
   "execution_count": 3,
   "metadata": {
    "collapsed": false
   },
   "outputs": [],
   "source": [
    "hilary = pd.read_csv('data/hilary_scores.csv')"
   ]
  },
  {
   "cell_type": "code",
   "execution_count": 110,
   "metadata": {
    "collapsed": false
   },
   "outputs": [
    {
     "data": {
      "text/plain": [
       "110"
      ]
     },
     "execution_count": 110,
     "metadata": {},
     "output_type": "execute_result"
    }
   ],
   "source": [
    "unique_url = hilary['URL'].unique()\n",
    "len(unique_url)"
   ]
  },
  {
   "cell_type": "code",
   "execution_count": 111,
   "metadata": {
    "collapsed": false
   },
   "outputs": [],
   "source": [
    "# url = 'http://www.nytimes.com/2015/07/16/world/middleeast/obama-diplomacy-iran-nuclear-deal.html'\n",
    "# table = hilary[['Comment', 'URL']][hilary['URL'] == url]\n",
    "# table"
   ]
  },
  {
   "cell_type": "code",
   "execution_count": 6,
   "metadata": {
    "collapsed": false
   },
   "outputs": [
    {
     "data": {
      "text/plain": [
       "'Why America Is Not the Greatest Country in the World!YouTube:\" The Newsroom \"America is not the greatest country in the world anymore\" 2012 TV series \"'"
      ]
     },
     "execution_count": 6,
     "metadata": {},
     "output_type": "execute_result"
    }
   ],
   "source": [
    "## strip HTML tags\n",
    "def remove_html_tags(data):\n",
    "    p = re.compile(r'<[^<]*?>')\n",
    "    return p.sub('', data)\n",
    "\n",
    "remove_html_tags(x)"
   ]
  },
  {
   "cell_type": "code",
   "execution_count": null,
   "metadata": {
    "collapsed": true
   },
   "outputs": [],
   "source": [
    "all_body = []\n",
    "for url in unique_url:\n",
    "    html = requests.get(url).content\n",
    "    soup = BeautifulSoup(html, 'html.parser')\n",
    "    body = soup.find_all('p', class_= \"story-body-text story-content\")\n",
    "    content = '\\n'.join([i.text for i in soup.select('p.story-body-text')])\n",
    "    all_body.append(unidecode.unidecode(content).replace(\"\\n\",\" \").replace(\"\\'s\",\"\").replace(\"\\'t\",\"\"))\n",
    "\n",
    "documents = hilary['Comment']\n",
    "test = np.array(body_text)\n",
    "documents = np.append(documents.values, test)"
   ]
  },
  {
   "cell_type": "code",
   "execution_count": 70,
   "metadata": {
    "collapsed": false,
    "scrolled": true
   },
   "outputs": [],
   "source": [
    "#get body text\n",
    "html = requests.get(url).content\n",
    "soup = BeautifulSoup(html, 'html.parser')\n",
    "body = soup.find_all('p', class_= \"story-body-text story-content\")\n",
    "\n",
    "content = '\\n'.join([i.text for i in soup.select('p.story-body-text')])\n",
    "body_text = unidecode.unidecode(content).replace(\"\\n\",\" \").replace(\"\\'s\",\"\").replace(\"\\'t\",\"\")\n"
   ]
  },
  {
   "cell_type": "code",
   "execution_count": 84,
   "metadata": {
    "collapsed": false
   },
   "outputs": [],
   "source": [
    "test = np.array(body_text)\n",
    "documents = np.append(documents.values, test)"
   ]
  },
  {
   "cell_type": "code",
   "execution_count": 86,
   "metadata": {
    "collapsed": true
   },
   "outputs": [],
   "source": [
    "def tokenize(doc):\n",
    "    return [snowball.stem(word) for word in word_tokenize(doc.lower())]"
   ]
  },
  {
   "cell_type": "code",
   "execution_count": 87,
   "metadata": {
    "collapsed": true
   },
   "outputs": [],
   "source": [
    "tfidfvect = TfidfVectorizer(stop_words='english', tokenizer=tokenize)\n"
   ]
  },
  {
   "cell_type": "code",
   "execution_count": 90,
   "metadata": {
    "collapsed": false
   },
   "outputs": [],
   "source": [
    "# vect = CountVectorizer(stop_words='english')\n",
    "# word_counts = vect.fit_transform(documents)\n",
    "tfidf_vectorized = tfidfvect.transform(documents).toarray()\n",
    "cosine_similarities = []\n",
    "\n",
    "for doc in documents:\n",
    "    cosine_similarities.append(linear_kernel(tfidf_vectorized, tfidf_vectorized))"
   ]
  },
  {
   "cell_type": "code",
   "execution_count": 99,
   "metadata": {
    "collapsed": false
   },
   "outputs": [
    {
     "data": {
      "text/plain": [
       "array([ 0.23870678,  0.24296168,  0.20111041,  0.19704109,  0.22639313,\n",
       "        0.19200265,  0.15639517,  0.35807008,  0.26233613,  0.25164245,\n",
       "        0.18980466,  0.30549497,  0.02907837,  0.16125712,  0.06182941,\n",
       "        0.28607225,  0.15076563,  0.16433662,  0.12515468,  0.30239537,\n",
       "        0.07784808,  0.1918442 ,  0.20046098,  0.33353429,  0.35674505,  1.        ])"
      ]
     },
     "execution_count": 99,
     "metadata": {},
     "output_type": "execute_result"
    }
   ],
   "source": [
    "#similarity between article and each of the comment\n",
    "cosine_similarities[0][25]\n",
    "m = np.array(cosine_similarities[0][25])\n",
    "m = m[:25]\n",
    "table[\"Similarity\"] = m\n",
    "table.head()"
   ]
  },
  {
   "cell_type": "code",
   "execution_count": 107,
   "metadata": {
    "collapsed": false
   },
   "outputs": [],
   "source": []
  },
  {
   "cell_type": "code",
   "execution_count": 108,
   "metadata": {
    "collapsed": false
   },
   "outputs": [
    {
     "data": {
      "text/html": [
       "<div>\n",
       "<table border=\"1\" class=\"dataframe\">\n",
       "  <thead>\n",
       "    <tr style=\"text-align: right;\">\n",
       "      <th></th>\n",
       "      <th>Comment</th>\n",
       "      <th>URL</th>\n",
       "      <th>Similarity</th>\n",
       "    </tr>\n",
       "  </thead>\n",
       "  <tbody>\n",
       "    <tr>\n",
       "      <th>313</th>\n",
       "      <td>Obama and the Democrats need to remind the pub...</td>\n",
       "      <td>http://www.nytimes.com/2015/07/16/world/middle...</td>\n",
       "      <td>0.238707</td>\n",
       "    </tr>\n",
       "    <tr>\n",
       "      <th>314</th>\n",
       "      <td>Iran realizes that having a bomb is really not...</td>\n",
       "      <td>http://www.nytimes.com/2015/07/16/world/middle...</td>\n",
       "      <td>0.242962</td>\n",
       "    </tr>\n",
       "    <tr>\n",
       "      <th>315</th>\n",
       "      <td>After listening on C-Span to the nuclear exper...</td>\n",
       "      <td>http://www.nytimes.com/2015/07/16/world/middle...</td>\n",
       "      <td>0.201110</td>\n",
       "    </tr>\n",
       "    <tr>\n",
       "      <th>316</th>\n",
       "      <td>The key question is.  How effective are the me...</td>\n",
       "      <td>http://www.nytimes.com/2015/07/16/world/middle...</td>\n",
       "      <td>0.197041</td>\n",
       "    </tr>\n",
       "    <tr>\n",
       "      <th>317</th>\n",
       "      <td>The reality, Iran is and will continue to be a...</td>\n",
       "      <td>http://www.nytimes.com/2015/07/16/world/middle...</td>\n",
       "      <td>0.226393</td>\n",
       "    </tr>\n",
       "  </tbody>\n",
       "</table>\n",
       "</div>"
      ],
      "text/plain": [
       "                                               Comment  \\\n",
       "313  Obama and the Democrats need to remind the pub...   \n",
       "314  Iran realizes that having a bomb is really not...   \n",
       "315  After listening on C-Span to the nuclear exper...   \n",
       "316  The key question is.  How effective are the me...   \n",
       "317  The reality, Iran is and will continue to be a...   \n",
       "\n",
       "                                                   URL  Similarity  \n",
       "313  http://www.nytimes.com/2015/07/16/world/middle...    0.238707  \n",
       "314  http://www.nytimes.com/2015/07/16/world/middle...    0.242962  \n",
       "315  http://www.nytimes.com/2015/07/16/world/middle...    0.201110  \n",
       "316  http://www.nytimes.com/2015/07/16/world/middle...    0.197041  \n",
       "317  http://www.nytimes.com/2015/07/16/world/middle...    0.226393  "
      ]
     },
     "execution_count": 108,
     "metadata": {},
     "output_type": "execute_result"
    }
   ],
   "source": [
    "\n"
   ]
  },
  {
   "cell_type": "code",
   "execution_count": null,
   "metadata": {
    "collapsed": true
   },
   "outputs": [],
   "source": []
  }
 ],
 "metadata": {
  "kernelspec": {
   "display_name": "Python 2",
   "language": "python",
   "name": "python2"
  },
  "language_info": {
   "codemirror_mode": {
    "name": "ipython",
    "version": 2
   },
   "file_extension": ".py",
   "mimetype": "text/x-python",
   "name": "python",
   "nbconvert_exporter": "python",
   "pygments_lexer": "ipython2",
   "version": "2.7.10"
  }
 },
 "nbformat": 4,
 "nbformat_minor": 0
}
