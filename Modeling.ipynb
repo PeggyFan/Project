{
 "cells": [
  {
   "cell_type": "code",
   "execution_count": 85,
   "metadata": {
    "collapsed": true
   },
   "outputs": [],
   "source": [
    "import pandas as pd\n",
    "import numpy as np\n",
    "import re\n",
    "import string"
   ]
  },
  {
   "cell_type": "code",
   "execution_count": 74,
   "metadata": {
    "collapsed": false
   },
   "outputs": [],
   "source": [
    "data = pd.read_csv('data/master.csv')"
   ]
  },
  {
   "cell_type": "code",
   "execution_count": 67,
   "metadata": {
    "collapsed": false
   },
   "outputs": [],
   "source": [
    "#### MOVE TO DATA CLEANUP!\n",
    "def remove_link(text):\n",
    "    return re.sub(r'\\w+:\\/{2}[\\d\\w-]+(\\.[\\d\\w-]+)*(?:(?:\\/[^\\s/]*))*', '', text)"
   ]
  },
  {
   "cell_type": "code",
   "execution_count": 69,
   "metadata": {
    "collapsed": false
   },
   "outputs": [],
   "source": [
    "data['Comment'] = data['Comment'].apply(lambda x: remove_link(str(x)))"
   ]
  },
  {
   "cell_type": "code",
   "execution_count": 77,
   "metadata": {
    "collapsed": false
   },
   "outputs": [],
   "source": [
    "data['EditorPick'] = data['EditorPick'].apply(lambda x: 0 if x == 'False' else x)\n",
    "data['EditorPick'] = data['EditorPick'].apply(lambda x: 1 if x == 'True' else x)\n",
    "data['EditorPick'] = data['EditorPick'].astype(float)"
   ]
  },
  {
   "cell_type": "code",
   "execution_count": 78,
   "metadata": {
    "collapsed": true
   },
   "outputs": [],
   "source": [
    "data['Recommendations'] = data['Recommendations'].apply(lambda x: 0 if type(x) == str else x)"
   ]
  },
  {
   "cell_type": "code",
   "execution_count": 83,
   "metadata": {
    "collapsed": true
   },
   "outputs": [],
   "source": [
    "def word_count(text):\n",
    "    out = text.translate(string.maketrans(\"\",\"\"), string.punctuation)\n",
    "    return len(out.split())"
   ]
  },
  {
   "cell_type": "code",
   "execution_count": 89,
   "metadata": {
    "collapsed": false
   },
   "outputs": [],
   "source": [
    "data['word_count'] = data['Comment'].apply(lambda x: word_count(str(x)))"
   ]
  },
  {
   "cell_type": "code",
   "execution_count": 90,
   "metadata": {
    "collapsed": false
   },
   "outputs": [
    {
     "data": {
      "text/html": [
       "<div style=\"max-height:1000px;max-width:1500px;overflow:auto;\">\n",
       "<table border=\"1\" class=\"dataframe\">\n",
       "  <thead>\n",
       "    <tr style=\"text-align: right;\">\n",
       "      <th></th>\n",
       "      <th>Unnamed: 0</th>\n",
       "      <th>Comment</th>\n",
       "      <th>URL</th>\n",
       "      <th>Recommendations</th>\n",
       "      <th>Locations</th>\n",
       "      <th>EditorPick</th>\n",
       "      <th>userID</th>\n",
       "      <th>date</th>\n",
       "      <th>Sentiment</th>\n",
       "      <th>Sentiment_sent</th>\n",
       "      <th>Sentiment_b</th>\n",
       "      <th>Sentiment_b_sent</th>\n",
       "      <th>Subjectivity</th>\n",
       "      <th>Subjectivity_sent</th>\n",
       "      <th>Subjectivity_b</th>\n",
       "      <th>Subjectivity_b_sent</th>\n",
       "      <th>Candidate</th>\n",
       "      <th>State</th>\n",
       "      <th>City</th>\n",
       "      <th>word_count</th>\n",
       "    </tr>\n",
       "  </thead>\n",
       "  <tbody>\n",
       "    <tr>\n",
       "      <th>0</th>\n",
       "      <td> 0</td>\n",
       "      <td> What Republican wannabe POTUS candidate among ...</td>\n",
       "      <td> http://takingnote.blogs.nytimes.com/2015/09/03...</td>\n",
       "      <td> 0</td>\n",
       "      <td> West Palm Beach, FL</td>\n",
       "      <td> 0</td>\n",
       "      <td> 33461964</td>\n",
       "      <td> 1441452450</td>\n",
       "      <td>-0.066911</td>\n",
       "      <td>-0.200</td>\n",
       "      <td> 0</td>\n",
       "      <td> 0</td>\n",
       "      <td> 0.471123</td>\n",
       "      <td>-0.200</td>\n",
       "      <td> 1</td>\n",
       "      <td> 0</td>\n",
       "      <td> Hilary</td>\n",
       "      <td>  FL</td>\n",
       "      <td> West Palm Beach</td>\n",
       "      <td> 141</td>\n",
       "    </tr>\n",
       "    <tr>\n",
       "      <th>1</th>\n",
       "      <td> 1</td>\n",
       "      <td> Tax Pledges, loyalty pledges but still no pled...</td>\n",
       "      <td> http://takingnote.blogs.nytimes.com/2015/09/03...</td>\n",
       "      <td> 0</td>\n",
       "      <td>             mt dora</td>\n",
       "      <td> 0</td>\n",
       "      <td> 64318277</td>\n",
       "      <td> 1441411769</td>\n",
       "      <td> 0.200000</td>\n",
       "      <td> 0.200</td>\n",
       "      <td> 1</td>\n",
       "      <td> 1</td>\n",
       "      <td> 0.300000</td>\n",
       "      <td> 0.200</td>\n",
       "      <td> 1</td>\n",
       "      <td> 1</td>\n",
       "      <td> Hilary</td>\n",
       "      <td> NaN</td>\n",
       "      <td>         Mt Dora</td>\n",
       "      <td>  25</td>\n",
       "    </tr>\n",
       "    <tr>\n",
       "      <th>2</th>\n",
       "      <td> 2</td>\n",
       "      <td> Correct me if I'm wrong, but I believe Republi...</td>\n",
       "      <td> http://takingnote.blogs.nytimes.com/2015/09/03...</td>\n",
       "      <td> 0</td>\n",
       "      <td>              Boston</td>\n",
       "      <td> 0</td>\n",
       "      <td> 67000772</td>\n",
       "      <td> 1441397419</td>\n",
       "      <td>-0.025000</td>\n",
       "      <td>-0.025</td>\n",
       "      <td> 0</td>\n",
       "      <td> 0</td>\n",
       "      <td> 0.383333</td>\n",
       "      <td>-0.025</td>\n",
       "      <td> 1</td>\n",
       "      <td> 0</td>\n",
       "      <td> Hilary</td>\n",
       "      <td> NaN</td>\n",
       "      <td>          Boston</td>\n",
       "      <td>  53</td>\n",
       "    </tr>\n",
       "    <tr>\n",
       "      <th>3</th>\n",
       "      <td> 3</td>\n",
       "      <td> Trump isn't running for President he is runnin...</td>\n",
       "      <td> http://takingnote.blogs.nytimes.com/2015/09/03...</td>\n",
       "      <td> 0</td>\n",
       "      <td>            Virginia</td>\n",
       "      <td> 0</td>\n",
       "      <td> 25933269</td>\n",
       "      <td> 1441388186</td>\n",
       "      <td> 0.300000</td>\n",
       "      <td> 0.300</td>\n",
       "      <td> 1</td>\n",
       "      <td> 1</td>\n",
       "      <td> 0.200000</td>\n",
       "      <td> 0.300</td>\n",
       "      <td> 1</td>\n",
       "      <td> 1</td>\n",
       "      <td> Hilary</td>\n",
       "      <td>  VA</td>\n",
       "      <td>             NaN</td>\n",
       "      <td>  17</td>\n",
       "    </tr>\n",
       "    <tr>\n",
       "      <th>4</th>\n",
       "      <td> 4</td>\n",
       "      <td> The GOP now owns Trump and all his narrow-mind...</td>\n",
       "      <td> http://takingnote.blogs.nytimes.com/2015/09/03...</td>\n",
       "      <td> 0</td>\n",
       "      <td>             Arizona</td>\n",
       "      <td> 0</td>\n",
       "      <td> 36052407</td>\n",
       "      <td> 1441389161</td>\n",
       "      <td> 0.000000</td>\n",
       "      <td> 0.000</td>\n",
       "      <td> 1</td>\n",
       "      <td> 1</td>\n",
       "      <td> 0.000000</td>\n",
       "      <td> 0.000</td>\n",
       "      <td> 1</td>\n",
       "      <td> 1</td>\n",
       "      <td> Hilary</td>\n",
       "      <td>  AZ</td>\n",
       "      <td>             NaN</td>\n",
       "      <td>  29</td>\n",
       "    </tr>\n",
       "  </tbody>\n",
       "</table>\n",
       "</div>"
      ],
      "text/plain": [
       "   Unnamed: 0                                            Comment  \\\n",
       "0           0  What Republican wannabe POTUS candidate among ...   \n",
       "1           1  Tax Pledges, loyalty pledges but still no pled...   \n",
       "2           2  Correct me if I'm wrong, but I believe Republi...   \n",
       "3           3  Trump isn't running for President he is runnin...   \n",
       "4           4  The GOP now owns Trump and all his narrow-mind...   \n",
       "\n",
       "                                                 URL  Recommendations  \\\n",
       "0  http://takingnote.blogs.nytimes.com/2015/09/03...                0   \n",
       "1  http://takingnote.blogs.nytimes.com/2015/09/03...                0   \n",
       "2  http://takingnote.blogs.nytimes.com/2015/09/03...                0   \n",
       "3  http://takingnote.blogs.nytimes.com/2015/09/03...                0   \n",
       "4  http://takingnote.blogs.nytimes.com/2015/09/03...                0   \n",
       "\n",
       "             Locations  EditorPick    userID        date  Sentiment  \\\n",
       "0  West Palm Beach, FL           0  33461964  1441452450  -0.066911   \n",
       "1              mt dora           0  64318277  1441411769   0.200000   \n",
       "2               Boston           0  67000772  1441397419  -0.025000   \n",
       "3             Virginia           0  25933269  1441388186   0.300000   \n",
       "4              Arizona           0  36052407  1441389161   0.000000   \n",
       "\n",
       "   Sentiment_sent  Sentiment_b  Sentiment_b_sent  Subjectivity  \\\n",
       "0          -0.200            0                 0      0.471123   \n",
       "1           0.200            1                 1      0.300000   \n",
       "2          -0.025            0                 0      0.383333   \n",
       "3           0.300            1                 1      0.200000   \n",
       "4           0.000            1                 1      0.000000   \n",
       "\n",
       "   Subjectivity_sent  Subjectivity_b  Subjectivity_b_sent Candidate State  \\\n",
       "0             -0.200               1                    0    Hilary    FL   \n",
       "1              0.200               1                    1    Hilary   NaN   \n",
       "2             -0.025               1                    0    Hilary   NaN   \n",
       "3              0.300               1                    1    Hilary    VA   \n",
       "4              0.000               1                    1    Hilary    AZ   \n",
       "\n",
       "              City  word_count  \n",
       "0  West Palm Beach         141  \n",
       "1          Mt Dora          25  \n",
       "2           Boston          53  \n",
       "3              NaN          17  \n",
       "4              NaN          29  "
      ]
     },
     "execution_count": 90,
     "metadata": {},
     "output_type": "execute_result"
    }
   ],
   "source": [
    "data.head()"
   ]
  },
  {
   "cell_type": "code",
   "execution_count": 93,
   "metadata": {
    "collapsed": false
   },
   "outputs": [],
   "source": [
    "reg = data.drop(['Unnamed: 0','URL', 'Comment','Sentiment', 'Sentiment_b', 'Subjectivity', \n",
    "             'Subjectivity_b', 'Locations','Candidate', 'userID', \n",
    "             'date', 'State','City'], axis = 1)"
   ]
  },
  {
   "cell_type": "code",
   "execution_count": 95,
   "metadata": {
    "collapsed": false
   },
   "outputs": [],
   "source": [
    "X = reg.drop('Recommendations', axis = 1).values\n",
    "Y = reg['Recommendations'].values"
   ]
  },
  {
   "cell_type": "code",
   "execution_count": 98,
   "metadata": {
    "collapsed": false
   },
   "outputs": [
    {
     "data": {
      "text/plain": [
       "140376"
      ]
     },
     "execution_count": 98,
     "metadata": {},
     "output_type": "execute_result"
    }
   ],
   "source": [
    "len(Y)"
   ]
  },
  {
   "cell_type": "code",
   "execution_count": 96,
   "metadata": {
    "collapsed": false
   },
   "outputs": [
    {
     "ename": "ValueError",
     "evalue": "Found arrays with inconsistent numbers of samples: [     5 140376]",
     "output_type": "error",
     "traceback": [
      "\u001b[0;31m---------------------------------------------------------------------------\u001b[0m",
      "\u001b[0;31mValueError\u001b[0m                                Traceback (most recent call last)",
      "\u001b[0;32m<ipython-input-96-15801d703aad>\u001b[0m in \u001b[0;36m<module>\u001b[0;34m()\u001b[0m\n\u001b[1;32m      1\u001b[0m \u001b[0;32mfrom\u001b[0m \u001b[0msklearn\u001b[0m \u001b[0;32mimport\u001b[0m \u001b[0mcross_validation\u001b[0m\u001b[0;34m\u001b[0m\u001b[0m\n\u001b[0;32m----> 2\u001b[0;31m \u001b[0mX_train\u001b[0m\u001b[0;34m,\u001b[0m \u001b[0mX_test\u001b[0m\u001b[0;34m,\u001b[0m \u001b[0my_train\u001b[0m\u001b[0;34m,\u001b[0m \u001b[0my_test\u001b[0m \u001b[0;34m=\u001b[0m \u001b[0mcross_validation\u001b[0m\u001b[0;34m.\u001b[0m\u001b[0mtrain_test_split\u001b[0m\u001b[0;34m(\u001b[0m\u001b[0mX\u001b[0m\u001b[0;34m,\u001b[0m \u001b[0my\u001b[0m\u001b[0;34m,\u001b[0m \u001b[0mtest_size\u001b[0m\u001b[0;34m=\u001b[0m\u001b[0;36m0.3\u001b[0m\u001b[0;34m)\u001b[0m\u001b[0;34m\u001b[0m\u001b[0m\n\u001b[0m",
      "\u001b[0;32m/Users/peggyfan/anaconda/lib/python2.7/site-packages/sklearn/cross_validation.pyc\u001b[0m in \u001b[0;36mtrain_test_split\u001b[0;34m(*arrays, **options)\u001b[0m\n\u001b[1;32m   1806\u001b[0m     \u001b[0;32mif\u001b[0m \u001b[0mtest_size\u001b[0m \u001b[0;32mis\u001b[0m \u001b[0mNone\u001b[0m \u001b[0;32mand\u001b[0m \u001b[0mtrain_size\u001b[0m \u001b[0;32mis\u001b[0m \u001b[0mNone\u001b[0m\u001b[0;34m:\u001b[0m\u001b[0;34m\u001b[0m\u001b[0m\n\u001b[1;32m   1807\u001b[0m         \u001b[0mtest_size\u001b[0m \u001b[0;34m=\u001b[0m \u001b[0;36m0.25\u001b[0m\u001b[0;34m\u001b[0m\u001b[0m\n\u001b[0;32m-> 1808\u001b[0;31m     \u001b[0marrays\u001b[0m \u001b[0;34m=\u001b[0m \u001b[0mindexable\u001b[0m\u001b[0;34m(\u001b[0m\u001b[0;34m*\u001b[0m\u001b[0marrays\u001b[0m\u001b[0;34m)\u001b[0m\u001b[0;34m\u001b[0m\u001b[0m\n\u001b[0m\u001b[1;32m   1809\u001b[0m     \u001b[0mn_samples\u001b[0m \u001b[0;34m=\u001b[0m \u001b[0m_num_samples\u001b[0m\u001b[0;34m(\u001b[0m\u001b[0marrays\u001b[0m\u001b[0;34m[\u001b[0m\u001b[0;36m0\u001b[0m\u001b[0;34m]\u001b[0m\u001b[0;34m)\u001b[0m\u001b[0;34m\u001b[0m\u001b[0m\n\u001b[1;32m   1810\u001b[0m     cv = ShuffleSplit(n_samples, test_size=test_size,\n",
      "\u001b[0;32m/Users/peggyfan/anaconda/lib/python2.7/site-packages/sklearn/utils/validation.pyc\u001b[0m in \u001b[0;36mindexable\u001b[0;34m(*iterables)\u001b[0m\n\u001b[1;32m    197\u001b[0m         \u001b[0;32melse\u001b[0m\u001b[0;34m:\u001b[0m\u001b[0;34m\u001b[0m\u001b[0m\n\u001b[1;32m    198\u001b[0m             \u001b[0mresult\u001b[0m\u001b[0;34m.\u001b[0m\u001b[0mappend\u001b[0m\u001b[0;34m(\u001b[0m\u001b[0mnp\u001b[0m\u001b[0;34m.\u001b[0m\u001b[0marray\u001b[0m\u001b[0;34m(\u001b[0m\u001b[0mX\u001b[0m\u001b[0;34m)\u001b[0m\u001b[0;34m)\u001b[0m\u001b[0;34m\u001b[0m\u001b[0m\n\u001b[0;32m--> 199\u001b[0;31m     \u001b[0mcheck_consistent_length\u001b[0m\u001b[0;34m(\u001b[0m\u001b[0;34m*\u001b[0m\u001b[0mresult\u001b[0m\u001b[0;34m)\u001b[0m\u001b[0;34m\u001b[0m\u001b[0m\n\u001b[0m\u001b[1;32m    200\u001b[0m     \u001b[0;32mreturn\u001b[0m \u001b[0mresult\u001b[0m\u001b[0;34m\u001b[0m\u001b[0m\n\u001b[1;32m    201\u001b[0m \u001b[0;34m\u001b[0m\u001b[0m\n",
      "\u001b[0;32m/Users/peggyfan/anaconda/lib/python2.7/site-packages/sklearn/utils/validation.pyc\u001b[0m in \u001b[0;36mcheck_consistent_length\u001b[0;34m(*arrays)\u001b[0m\n\u001b[1;32m    172\u001b[0m     \u001b[0;32mif\u001b[0m \u001b[0mlen\u001b[0m\u001b[0;34m(\u001b[0m\u001b[0muniques\u001b[0m\u001b[0;34m)\u001b[0m \u001b[0;34m>\u001b[0m \u001b[0;36m1\u001b[0m\u001b[0;34m:\u001b[0m\u001b[0;34m\u001b[0m\u001b[0m\n\u001b[1;32m    173\u001b[0m         raise ValueError(\"Found arrays with inconsistent numbers of samples: \"\n\u001b[0;32m--> 174\u001b[0;31m                          \"%s\" % str(uniques))\n\u001b[0m\u001b[1;32m    175\u001b[0m \u001b[0;34m\u001b[0m\u001b[0m\n\u001b[1;32m    176\u001b[0m \u001b[0;34m\u001b[0m\u001b[0m\n",
      "\u001b[0;31mValueError\u001b[0m: Found arrays with inconsistent numbers of samples: [     5 140376]"
     ]
    }
   ],
   "source": [
    "from sklearn import cross_validation\n",
    "X_train, X_test, y_train, y_test = cross_validation.train_test_split(X, y, test_size=0.3)"
   ]
  },
  {
   "cell_type": "code",
   "execution_count": null,
   "metadata": {
    "collapsed": true
   },
   "outputs": [],
   "source": []
  },
  {
   "cell_type": "code",
   "execution_count": null,
   "metadata": {
    "collapsed": true
   },
   "outputs": [],
   "source": []
  },
  {
   "cell_type": "code",
   "execution_count": null,
   "metadata": {
    "collapsed": true
   },
   "outputs": [],
   "source": []
  },
  {
   "cell_type": "code",
   "execution_count": null,
   "metadata": {
    "collapsed": true
   },
   "outputs": [],
   "source": []
  }
 ],
 "metadata": {
  "kernelspec": {
   "display_name": "Python 2",
   "language": "python",
   "name": "python2"
  },
  "language_info": {
   "codemirror_mode": {
    "name": "ipython",
    "version": 2
   },
   "file_extension": ".py",
   "mimetype": "text/x-python",
   "name": "python",
   "nbconvert_exporter": "python",
   "pygments_lexer": "ipython2",
   "version": "2.7.10"
  }
 },
 "nbformat": 4,
 "nbformat_minor": 0
}
