{
 "cells": [
  {
   "cell_type": "code",
<<<<<<< HEAD
   "execution_count": 59,
=======
   "execution_count": 53,
>>>>>>> 5fa35abd20ec79846d3a7852f92314ad9f69355e
   "metadata": {
    "collapsed": true
   },
   "outputs": [],
   "source": [
    "import pandas as pd\n",
    "import numpy as np\n",
    "import re\n",
    "import string\n",
    "from sklearn import metrics\n",
    "from sklearn.svm import SVC\n",
    "from sklearn.feature_extraction.text import TfidfVectorizer, CountVectorizer\n",
    "from sklearn.ensemble import RandomForestClassifier, AdaBoostClassifier, GradientBoostingClassifier\n",
    "from sklearn.grid_search import GridSearchCV\n",
    "from sklearn.naive_bayes import MultinomialNB, GaussianNB\n",
    "from sklearn import preprocessing\n",
    "import matplotlib.pyplot as plt\n",
    "from sklearn import cross_validation\n",
    "%matplotlib inline"
   ]
  },
  {
   "cell_type": "code",
<<<<<<< HEAD
   "execution_count": 4,
=======
   "execution_count": 67,
   "metadata": {
    "collapsed": false
   },
   "outputs": [],
   "source": [
    "data = pd.read_csv('data/master.csv')"
   ]
  },
  {
   "cell_type": "code",
   "execution_count": 80,
>>>>>>> 5fa35abd20ec79846d3a7852f92314ad9f69355e
   "metadata": {
    "collapsed": false
   },
   "outputs": [],
   "source": [
<<<<<<< HEAD
    "master = pd.read_csv('data/master.csv')"
=======
    "data['EditorPick'] = data['EditorPick'].apply(lambda x: 1 if (x == 'True') or (x is True) else 0)"
>>>>>>> 5fa35abd20ec79846d3a7852f92314ad9f69355e
   ]
  },
  {
   "cell_type": "code",
<<<<<<< HEAD
   "execution_count": 5,
   "metadata": {
    "collapsed": false
   },
   "outputs": [
    {
     "data": {
      "text/plain": [
       "Index([u'Unnamed: 0', u'Comment', u'URL', u'Recommendations', u'Locations', u'EditorPick', u'userID', u'date', u'Sentiment', u'Sentiment_sent', u'Sentiment_b', u'Sentiment_b_sent', u'Subjectivity', u'Subjectivity_sent', u'Subjectivity_b', u'Subjectivity_b_sent', u'Candidate', u'State', u'City', u'latitude', u'longitude'], dtype='object')"
      ]
     },
     "execution_count": 5,
     "metadata": {},
     "output_type": "execute_result"
    }
   ],
   "source": [
    "master.columns"
   ]
  },
  {
   "cell_type": "code",
   "execution_count": 6,
   "metadata": {
    "collapsed": false
   },
   "outputs": [],
   "source": [
    "dups = master.duplicated('Comment')\n",
    "data = master[-dups]"
=======
   "execution_count": 81,
   "metadata": {
    "collapsed": true
   },
   "outputs": [],
   "source": [
    "data['Recommendations'] = data['Recommendations'].apply(lambda x: 0 if type(x) == str else x)"
>>>>>>> 5fa35abd20ec79846d3a7852f92314ad9f69355e
   ]
  },
  {
   "cell_type": "code",
<<<<<<< HEAD
   "execution_count": 7,
=======
   "execution_count": 82,
>>>>>>> 5fa35abd20ec79846d3a7852f92314ad9f69355e
   "metadata": {
    "collapsed": true
   },
   "outputs": [],
   "source": [
    "def word_count(text):\n",
    "    out = text.translate(string.maketrans(\"\",\"\"), string.punctuation)\n",
    "    return len(out.split())"
   ]
  },
  {
   "cell_type": "code",
<<<<<<< HEAD
   "execution_count": 8,
=======
   "execution_count": 33,
>>>>>>> 5fa35abd20ec79846d3a7852f92314ad9f69355e
   "metadata": {
    "collapsed": false
   },
   "outputs": [],
   "source": [
    "data['word_count'] = data['Comment'].apply(lambda x: word_count(str(x)))"
   ]
  },
  {
   "cell_type": "code",
<<<<<<< HEAD
   "execution_count": 10,
=======
   "execution_count": 34,
   "metadata": {
    "collapsed": true
   },
   "outputs": [],
   "source": [
    "data['Rec'] = data['Recommendations'].apply(lambda x: 1 if x > 0 else 0)"
   ]
  },
  {
   "cell_type": "code",
   "execution_count": 35,
>>>>>>> 5fa35abd20ec79846d3a7852f92314ad9f69355e
   "metadata": {
    "collapsed": false
   },
   "outputs": [
    {
     "name": "stderr",
     "output_type": "stream",
     "text": [
      "/Users/peggyfan/anaconda/lib/python2.7/site-packages/IPython/kernel/__main__.py:1: SettingWithCopyWarning: A value is trying to be set on a copy of a slice from a DataFrame.\n",
      "Try using .loc[row_index,col_indexer] = value instead\n",
      "  if __name__ == '__main__':\n"
     ]
    },
    {
     "data": {
      "text/plain": [
       "79.0"
      ]
     },
<<<<<<< HEAD
     "execution_count": 10,
=======
     "execution_count": 35,
>>>>>>> 5fa35abd20ec79846d3a7852f92314ad9f69355e
     "metadata": {},
     "output_type": "execute_result"
    }
   ],
   "source": [
    "data['Recommendations'] = data['Recommendations'].apply(lambda x: 0 if x == np.nan else x)\n",
    "x = data['Recommendations'].values\n",
    "np.percentile(x, 95)\n"
   ]
  },
  {
   "cell_type": "code",
<<<<<<< HEAD
   "execution_count": 22,
=======
   "execution_count": 36,
>>>>>>> 5fa35abd20ec79846d3a7852f92314ad9f69355e
   "metadata": {
    "collapsed": false
   },
   "outputs": [
    {
     "name": "stderr",
     "output_type": "stream",
     "text": [
<<<<<<< HEAD
      "/Users/peggyfan/anaconda/lib/python2.7/site-packages/IPython/kernel/__main__.py:1: SettingWithCopyWarning: A value is trying to be set on a copy of a slice from a DataFrame.\n",
      "Try using .loc[row_index,col_indexer] = value instead\n",
      "  if __name__ == '__main__':\n"
=======
      "<class 'pandas.core.frame.DataFrame'>\n",
      "Int64Index: 140376 entries, 0 to 140375\n",
      "Data columns (total 21 columns):\n",
      "Unnamed: 0             140376 non-null int64\n",
      "Comment                140371 non-null object\n",
      "URL                    140371 non-null object\n",
      "Recommendations        140371 non-null float64\n",
      "Locations              140368 non-null object\n",
      "EditorPick             140371 non-null float64\n",
      "userID                 140371 non-null float64\n",
      "date                   140368 non-null float64\n",
      "Sentiment              140376 non-null float64\n",
      "Sentiment_sent         140376 non-null float64\n",
      "Sentiment_b            140376 non-null int64\n",
      "Sentiment_b_sent       140376 non-null int64\n",
      "Subjectivity           140376 non-null float64\n",
      "Subjectivity_sent      140376 non-null float64\n",
      "Subjectivity_b         140376 non-null int64\n",
      "Subjectivity_b_sent    140376 non-null int64\n",
      "Candidate              140376 non-null object\n",
      "State                  72003 non-null object\n",
      "City                   112594 non-null object\n",
      "word_count             140376 non-null int64\n",
      "Rec                    140376 non-null int64\n",
      "dtypes: float64(8), int64(7), object(6)\n",
      "memory usage: 23.6+ MB\n"
>>>>>>> 5fa35abd20ec79846d3a7852f92314ad9f69355e
     ]
    },
    {
     "data": {
      "text/plain": [
       "0    43112\n",
       "1     2252\n",
       "dtype: int64"
      ]
     },
     "execution_count": 22,
     "metadata": {},
     "output_type": "execute_result"
    }
   ],
   "source": [
    "data['Rec'] = data['Recommendations'].apply(lambda x: 1 if x > 79 else 0)\n",
    "data['Rec'].value_counts()"
   ]
  },
  {
   "cell_type": "code",
<<<<<<< HEAD
   "execution_count": 33,
=======
   "execution_count": 38,
>>>>>>> 5fa35abd20ec79846d3a7852f92314ad9f69355e
   "metadata": {
    "collapsed": false
   },
   "outputs": [
    {
<<<<<<< HEAD
     "data": {
      "text/plain": [
       "3    12767\n",
       "5    11679\n",
       "1     6839\n",
       "4     6459\n",
       "2     6372\n",
       "0     1248\n",
       "dtype: int64"
      ]
     },
     "execution_count": 33,
     "metadata": {},
     "output_type": "execute_result"
    }
   ],
   "source": [
    "data['Candidate'].value_counts()"
   ]
  },
  {
   "cell_type": "code",
   "execution_count": 23,
   "metadata": {
    "collapsed": false
   },
   "outputs": [
    {
     "name": "stderr",
     "output_type": "stream",
     "text": [
      "/Users/peggyfan/anaconda/lib/python2.7/site-packages/IPython/kernel/__main__.py:7: SettingWithCopyWarning: A value is trying to be set on a copy of a slice from a DataFrame.\n",
      "Try using .loc[row_index,col_indexer] = value instead\n"
     ]
    }
   ],
   "source": [
    "cols_encode = ['State', 'Candidate']\n",
    "encoders = {}\n",
    "for col in cols_encode:\n",
    "    le = preprocessing.LabelEncoder()\n",
    "    le.fit(data[col])\n",
    "    encoders[col] = le\n",
    "    data[col] = le.transform(data[col])\n"
=======
     "name": "stderr",
     "output_type": "stream",
     "text": [
      "/Users/datascientist/anaconda/lib/python2.7/site-packages/numpy/lib/arraysetops.py:251: FutureWarning: numpy equal will not check object identity in the future. The comparison did not return the same result as suggested by the identity (`is`)) and will change.\n",
      "  return aux[:-1][aux[1:] == aux[:-1]]\n"
     ]
    }
   ],
   "source": [
    "cols_to_encode = ['State', 'Candidate']\n",
    "\n",
    "encoders = {}\n",
    "\n",
    "for col in cols_to_encode:\n",
    "    le = preprocessing.LabelEncoder()\n",
    "    le.fit(data[col])\n",
    "    encoders[col] = le\n",
    "    data[col] = le.transform(data[col])"
>>>>>>> 5fa35abd20ec79846d3a7852f92314ad9f69355e
   ]
  },
  {
   "cell_type": "code",
<<<<<<< HEAD
   "execution_count": 24,
=======
   "execution_count": 42,
>>>>>>> 5fa35abd20ec79846d3a7852f92314ad9f69355e
   "metadata": {
    "collapsed": false
   },
   "outputs": [],
   "source": [
<<<<<<< HEAD
    "reg = data[['EditorPick', 'Sentiment', 'Subjectivity', 'word_count', 'Rec', 'State', 'Candidate']]"
=======
    "columns = ['EditorPick', 'Sentiment_sent', 'Subjectivity_sent', 'word_count', 'Recommendations', 'Candidate', 'State']\n",
    "reg = data[columns]   "
>>>>>>> 5fa35abd20ec79846d3a7852f92314ad9f69355e
   ]
  },
  {
   "cell_type": "code",
<<<<<<< HEAD
   "execution_count": 25,
=======
   "execution_count": 43,
>>>>>>> 5fa35abd20ec79846d3a7852f92314ad9f69355e
   "metadata": {
    "collapsed": true
   },
   "outputs": [
    {
     "data": {
      "text/plain": [
       "(array([ 43112.,      0.,      0.,      0.,      0.,      0.,      0.,\n",
       "             0.,      0.,      0.,      0.,      0.,      0.,      0.,\n",
       "             0.,      0.,      0.,      0.,      0.,      0.,      0.,\n",
       "             0.,      0.,      0.,      0.,      0.,      0.,      0.,\n",
       "             0.,      0.,      0.,      0.,      0.,      0.,      0.,\n",
       "             0.,      0.,      0.,      0.,      0.,      0.,      0.,\n",
       "             0.,      0.,      0.,      0.,      0.,      0.,      0.,\n",
       "             0.,      0.,      0.,      0.,      0.,      0.,      0.,\n",
       "             0.,      0.,      0.,      0.,      0.,      0.,      0.,\n",
       "             0.,      0.,      0.,      0.,      0.,      0.,      0.,\n",
       "             0.,      0.,      0.,      0.,      0.,      0.,      0.,\n",
       "             0.,      0.,      0.,      0.,      0.,      0.,      0.,\n",
       "             0.,      0.,      0.,      0.,      0.,      0.,      0.,\n",
       "             0.,      0.,      0.,      0.,      0.,      0.,      0.,\n",
       "             0.,      0.,      0.,      0.,      0.,      0.,      0.,\n",
       "             0.,      0.,      0.,      0.,      0.,      0.,      0.,\n",
       "             0.,      0.,      0.,      0.,      0.,      0.,      0.,\n",
       "             0.,      0.,      0.,      0.,      0.,      0.,      0.,\n",
       "             0.,      0.,      0.,      0.,      0.,      0.,      0.,\n",
       "             0.,      0.,      0.,      0.,      0.,      0.,      0.,\n",
       "             0.,      0.,      0.,      0.,      0.,      0.,      0.,\n",
       "             0.,      0.,      0.,      0.,      0.,      0.,      0.,\n",
       "             0.,      0.,      0.,      0.,      0.,      0.,      0.,\n",
       "             0.,      0.,      0.,      0.,      0.,      0.,      0.,\n",
       "             0.,      0.,      0.,      0.,      0.,      0.,      0.,\n",
       "             0.,      0.,      0.,      0.,      0.,      0.,      0.,\n",
       "             0.,      0.,      0.,      0.,      0.,      0.,      0.,\n",
       "             0.,      0.,      0.,      0.,      0.,      0.,      0.,\n",
       "             0.,      0.,      0.,      0.,      0.,      0.,      0.,\n",
       "             0.,      0.,      0.,      0.,      0.,      0.,      0.,\n",
       "             0.,      0.,      0.,      0.,      0.,      0.,      0.,\n",
       "             0.,      0.,      0.,      0.,      0.,      0.,      0.,\n",
       "             0.,      0.,      0.,      0.,      0.,      0.,      0.,\n",
       "             0.,      0.,      0.,      0.,      0.,      0.,      0.,\n",
       "             0.,      0.,      0.,      0.,      0.,      0.,      0.,\n",
       "             0.,      0.,      0.,      0.,      0.,      0.,      0.,\n",
       "             0.,      0.,      0.,      0.,      0.,      0.,      0.,\n",
       "             0.,      0.,      0.,      0.,      0.,      0.,      0.,\n",
       "             0.,      0.,      0.,      0.,      0.,      0.,      0.,\n",
       "             0.,      0.,      0.,      0.,      0.,      0.,      0.,\n",
       "             0.,      0.,      0.,      0.,      0.,      0.,      0.,\n",
       "             0.,      0.,      0.,      0.,      0.,      0.,      0.,\n",
       "             0.,      0.,      0.,      0.,      0.,   2252.]),\n",
       " array([ 0.        ,  0.00333333,  0.00666667,  0.01      ,  0.01333333,\n",
       "         0.01666667,  0.02      ,  0.02333333,  0.02666667,  0.03      ,\n",
       "         0.03333333,  0.03666667,  0.04      ,  0.04333333,  0.04666667,\n",
       "         0.05      ,  0.05333333,  0.05666667,  0.06      ,  0.06333333,\n",
       "         0.06666667,  0.07      ,  0.07333333,  0.07666667,  0.08      ,\n",
       "         0.08333333,  0.08666667,  0.09      ,  0.09333333,  0.09666667,\n",
       "         0.1       ,  0.10333333,  0.10666667,  0.11      ,  0.11333333,\n",
       "         0.11666667,  0.12      ,  0.12333333,  0.12666667,  0.13      ,\n",
       "         0.13333333,  0.13666667,  0.14      ,  0.14333333,  0.14666667,\n",
       "         0.15      ,  0.15333333,  0.15666667,  0.16      ,  0.16333333,\n",
       "         0.16666667,  0.17      ,  0.17333333,  0.17666667,  0.18      ,\n",
       "         0.18333333,  0.18666667,  0.19      ,  0.19333333,  0.19666667,\n",
       "         0.2       ,  0.20333333,  0.20666667,  0.21      ,  0.21333333,\n",
       "         0.21666667,  0.22      ,  0.22333333,  0.22666667,  0.23      ,\n",
       "         0.23333333,  0.23666667,  0.24      ,  0.24333333,  0.24666667,\n",
       "         0.25      ,  0.25333333,  0.25666667,  0.26      ,  0.26333333,\n",
       "         0.26666667,  0.27      ,  0.27333333,  0.27666667,  0.28      ,\n",
       "         0.28333333,  0.28666667,  0.29      ,  0.29333333,  0.29666667,\n",
       "         0.3       ,  0.30333333,  0.30666667,  0.31      ,  0.31333333,\n",
       "         0.31666667,  0.32      ,  0.32333333,  0.32666667,  0.33      ,\n",
       "         0.33333333,  0.33666667,  0.34      ,  0.34333333,  0.34666667,\n",
       "         0.35      ,  0.35333333,  0.35666667,  0.36      ,  0.36333333,\n",
       "         0.36666667,  0.37      ,  0.37333333,  0.37666667,  0.38      ,\n",
       "         0.38333333,  0.38666667,  0.39      ,  0.39333333,  0.39666667,\n",
       "         0.4       ,  0.40333333,  0.40666667,  0.41      ,  0.41333333,\n",
       "         0.41666667,  0.42      ,  0.42333333,  0.42666667,  0.43      ,\n",
       "         0.43333333,  0.43666667,  0.44      ,  0.44333333,  0.44666667,\n",
       "         0.45      ,  0.45333333,  0.45666667,  0.46      ,  0.46333333,\n",
       "         0.46666667,  0.47      ,  0.47333333,  0.47666667,  0.48      ,\n",
       "         0.48333333,  0.48666667,  0.49      ,  0.49333333,  0.49666667,\n",
       "         0.5       ,  0.50333333,  0.50666667,  0.51      ,  0.51333333,\n",
       "         0.51666667,  0.52      ,  0.52333333,  0.52666667,  0.53      ,\n",
       "         0.53333333,  0.53666667,  0.54      ,  0.54333333,  0.54666667,\n",
       "         0.55      ,  0.55333333,  0.55666667,  0.56      ,  0.56333333,\n",
       "         0.56666667,  0.57      ,  0.57333333,  0.57666667,  0.58      ,\n",
       "         0.58333333,  0.58666667,  0.59      ,  0.59333333,  0.59666667,\n",
       "         0.6       ,  0.60333333,  0.60666667,  0.61      ,  0.61333333,\n",
       "         0.61666667,  0.62      ,  0.62333333,  0.62666667,  0.63      ,\n",
       "         0.63333333,  0.63666667,  0.64      ,  0.64333333,  0.64666667,\n",
       "         0.65      ,  0.65333333,  0.65666667,  0.66      ,  0.66333333,\n",
       "         0.66666667,  0.67      ,  0.67333333,  0.67666667,  0.68      ,\n",
       "         0.68333333,  0.68666667,  0.69      ,  0.69333333,  0.69666667,\n",
       "         0.7       ,  0.70333333,  0.70666667,  0.71      ,  0.71333333,\n",
       "         0.71666667,  0.72      ,  0.72333333,  0.72666667,  0.73      ,\n",
       "         0.73333333,  0.73666667,  0.74      ,  0.74333333,  0.74666667,\n",
       "         0.75      ,  0.75333333,  0.75666667,  0.76      ,  0.76333333,\n",
       "         0.76666667,  0.77      ,  0.77333333,  0.77666667,  0.78      ,\n",
       "         0.78333333,  0.78666667,  0.79      ,  0.79333333,  0.79666667,\n",
       "         0.8       ,  0.80333333,  0.80666667,  0.81      ,  0.81333333,\n",
       "         0.81666667,  0.82      ,  0.82333333,  0.82666667,  0.83      ,\n",
       "         0.83333333,  0.83666667,  0.84      ,  0.84333333,  0.84666667,\n",
       "         0.85      ,  0.85333333,  0.85666667,  0.86      ,  0.86333333,\n",
       "         0.86666667,  0.87      ,  0.87333333,  0.87666667,  0.88      ,\n",
       "         0.88333333,  0.88666667,  0.89      ,  0.89333333,  0.89666667,\n",
       "         0.9       ,  0.90333333,  0.90666667,  0.91      ,  0.91333333,\n",
       "         0.91666667,  0.92      ,  0.92333333,  0.92666667,  0.93      ,\n",
       "         0.93333333,  0.93666667,  0.94      ,  0.94333333,  0.94666667,\n",
       "         0.95      ,  0.95333333,  0.95666667,  0.96      ,  0.96333333,\n",
       "         0.96666667,  0.97      ,  0.97333333,  0.97666667,  0.98      ,\n",
       "         0.98333333,  0.98666667,  0.99      ,  0.99333333,  0.99666667,  1.        ]),\n",
       " <a list of 300 Patch objects>)"
      ]
     },
<<<<<<< HEAD
     "execution_count": 25,
=======
     "execution_count": 43,
>>>>>>> 5fa35abd20ec79846d3a7852f92314ad9f69355e
     "metadata": {},
     "output_type": "execute_result"
    },
    {
     "data": {
      "image/png": [
       "iVBORw0KGgoAAAANSUhEUgAAAYYAAAEACAYAAAC3adEgAAAABHNCSVQICAgIfAhkiAAAAAlwSFlz\n",
       "AAALEgAACxIB0t1+/AAAFMNJREFUeJzt3X+MFOd9x/H3xQfnuLZByBW/4VBC2xClsesWaOKIi9wA\n",
       "tiJwWkugVi5trCqSJceKVRvDP1wTVXGQXBdUgaXYacBtMChWMW6QY+P63KiqcaNgjB1fzKFY4hZz\n",
       "uCHCqVopRtA/nmc18xx7vpnjdnbveL+k1T777MzdsyMzn5t5nvUXJEmSJEmSJEmSJEmSJEmSpJa7\n",
       "CjgCPBtf9wKDse8IcFtu203AcaAfWJnrvxk4Ft/bluvvAvbG/leAheM+eknSuLsf+GfgQHy9JfYN\n",
       "twR4DZgCdAMDQEd871VgaWwfBFbH9j3AjtheBzw1juOWJJX0kQLbzANuBx4nO8l35Np5a4E9wAfA\n",
       "O4RgWAbMBq4jhAPAbuCO2F4D7Irtp4Fby3wASdL4KhIMjwIPABdyfReBe4GjwBPA9Ng/h3CLqW4Q\n",
       "mNugvxb7ic8nY/s8cA6YUfgTSJLG1WjB8EXgDGEeIX+FsBNYBNwIvAs80pTRSZIq1znK+58h3Oq5\n",
       "HbgauJ5wG+jPc9s8TjYpXQPm596bR7hSqMX28P76PguAU3E804CzDcYyAHxslPFKklIngI8364ev\n",
       "IAuA2bn+rwHfi+365PNUwhXFCbIrjcOE+YYOLp183hnb6xl58vni5Q1/Uult9QDaSG+rB9BGels9\n",
       "gDbS2+oBtJHS587RrhjyOnK/YCvw6fj658BXYv9PgX3x+TzhpF/f5x7gu8BHCcHwXOx/AniSsFz1\n",
       "F4RwkCRpVF4xZHpbPYA20tvqAbSR3lYPoI30tnoAbaT0ubPIqiS1n75WD6CN9LV6AG2kr9UDaCN9\n",
       "rR6AquEVgySV5xWDJOnyGAySpMREC4abWz0ASZrsJlowrGn1ACRpsptowSBJajKDQZKUMBgkSQmD\n",
       "QZKUMBgkSQmDQZKUMBgkSQmDQZKUMBgkSQmDQZKUKBoMVwFHyEp7zgBeAN4Gngem57bdRKjG1g+s\n",
       "zPXfDByL723L9XcBe2P/K8DCUp9AkjSuigbDfYRynfX/r/dDhGD4LeDF+BpCzed18Xk1sIOs5vNO\n",
       "4G5gcXzUaz7fTSjpuRh4FPjW2D6KJKkq84BDwOfJrhj6gZmxPSu+hnC1sDG373PAcmA28Faufz3w\n",
       "WG6bZbHdCbw3wjguAn8zpk8gSVeuphTqeRR4ALiQ65sJDMX2EFlIzAEGc9sNAnMb9NdiP/H5ZGyf\n",
       "B84RblVJklqgc5T3vwicIcwv9IywzUWqK7u5gqzIdx/WdZWk4XoY+XxdyGjB8BlCDYTbgauB64En\n",
       "CVcJs4DThNtEZ+L2NWB+bv95hCuFWmwP76/vswA4FcczDTg7wnheJgsGSdKl+kj/aN7SzF+2gmyO\n",
       "YSvZXMJDwMOxvQR4DZgKLAJOkE0+HybMJXQAB8kmn+8hTExDmHt4aoTf7xyDJJXX1Ds6K4ADsT2D\n",
       "MCHdaLnqZmCAMCG9KtdfX646AGzP9XcB+8iWq3aP8PsNBkkqr6pb/S1hMEhSeU1ZlSRJuoIYDJKk\n",
       "hMEgSUoYDJKkhMEgSUoYDJKkhMEgSUoYDJKkhMEgSUoYDJKkhMEgSUoYDJKkhMEgSUoYDJKkhMEg\n",
       "SUoYDJKkxGjBcDWhJOdrwE+Bb8b+XkLN5iPxcVtun02Eamz9wMpcf72C23FgW66/C9hLVsFtYfmP\n",
       "IUmq0jXxuZNw4r6FUFz6/gbb1ms+TyGU6Bwgq/n8KrA0tofXfN4R2+uw5rMkjaemVHD73/g8FbgK\n",
       "+GV83dFg27XAHuAD4B1CMCwDZgPXEcIBYDdwR2yvAXbF9tPArYVHL0kad0WC4SOEq4Ah4CXgzdh/\n",
       "L3AUeAKYHvvmEG4x1Q0Ccxv012I/8flkbJ8HzgEzynwISdL46SywzQXgRmAa8EOgB9gJfD2+/w3g\n",
       "EeDuJoxvuBWE+Q2AvviQJGV64mPMigRD3TngB8Dvk56QHweeje0aMD/33jzClUIttof31/dZAJyK\n",
       "45kGnB1hDC+TBYMk6VJ9pOfoLWV/wGi3km4gu030UeALhFVIs3LbfImw2gjgALCeMB+xCFhMmFc4\n",
       "DbxPmG/oAO4CnsntsyG27wReLPshJEnV+RTwE8Icw+vAA7F/d3x9FNgPzMzts5kw6dwPrMr115er\n",
       "DgDbc/1dwD6y5ardI4zFVUmSVF7pVUkTicEgSeU1ZbmqJOkKYjBIkhIGgyQpYTBIkhIGgyQpYTBI\n",
       "khIGgyQpYTBIkhIGgyQpYTBIkhIGgyQpYTBIkhIGgyQpYTBIkhIGgyQpYTBIkhKjBcPVwGFCBbef\n",
       "At+M/TOAF4C3gefJyn8CbCJUY+sHVub66xXcjgPbcv1dwF6yCm4Lx/A5JEkVuiY+dxJO3LcAW4EH\n",
       "Y/9G4OHYXkIIkSmEEp0DhBrPEGo/L43tg8Dq2L4H2BHb64CnRhiHFdwkqbymlva8Bvgv4JOEq4F6\n",
       "nedZ8TWEq4WNuX2eA5YDs4G3cv3rgcdy2yyL7U7gvRF+v8EgSeU1pbTnRwhXAUPAS8CbhFAYiu8P\n",
       "kYXEHGAwt+8gMLdBfy32E59PxvZ54BzhVpUkqQU6C2xzAbgRmAb8EPj8sPcv0uRLlZwVQG9s98WH\n",
       "JCnTEx9jViQY6s4BPyBMIg8RbiGdJtwmOhO3qQHzc/vMI1wp1GJ7eH99nwXAqTieacDZEcbwMlkw\n",
       "SJIu1Uf6R/OWsj9gtFtJN5CtOPoo8AXgCHAA2BD7NwD7Y/sAYf5gKrAIWEyYdD4NvE+YS+gA7gKe\n",
       "ye1T/1l3Ai+W/RCSpOp8CvgJYY7hdeCB2D8DOETj5aqbCauR+oFVuf76ctUBYHuuvwvYR7ZctXuE\n",
       "sTj5LEnlVXWrvyUMBkkqrymrkiRJVxCDQZKUMBgkSQmDQZKUMBgkSQmDQZKUMBgkSQmDQZKUMBgk\n",
       "SQmDQZKUMBgkSQmDQZKUMBgkSQmDQZKUMBgkSYkiwTAfeAl4E3gD+Grs7yWU5zwSH7fl9tlEKLzT\n",
       "D6zM9deL9RwHtuX6u4C9ZMV6Fpb7GJKkKs0Cbozta4GfAZ8g1BG9v8H2SwgV36YQqrENEMp5Qijz\n",
       "uTS2DwKrY/seYEdsrwOeavBzLdQjSeU1pVDPacKJHuB/gLeAufF1R4Pt1wJ7gA+AdwjBsAyYDVxH\n",
       "CAeA3cAdsb0G2BXbTwO3Fv0AkqTxVXaOoRu4iXC7B+Be4CjwBFnd5zmEW0x1g4QgGd5fIwuYucDJ\n",
       "2D4PnCPUlZYkVaxMMFwLfB+4j3DlsBNYRLjN9C7wyLiPTpJUuc6C200h3OL5J2B/7DuTe/9x4NnY\n",
       "rhEmrOvmEa4UarE9vL++zwLgVBzTNOBsg3GsIEx6A/TFhyQp0xMfTdVBmA94dFj/7Fz7a8D3Yrs+\n",
       "+TyVcEVxgmwu4jBhvqGDSyefd8b2epx8lqTxUnryuYhbgAuEk31+aepu4HXCHMN+YGZun82ESed+\n",
       "YFWuv75cdQDYnuvvAvaRLVftbjAOg0GSymtKMLQLg0GSymvKclVJ0hXEYJAkJQwGSVLCYJAkJQwG\n",
       "SVLCYJAkJQwGSVLCYJAkJQwGSVLCYJAkJQwGSVLCYJAkJQwGSVLCYJAkJQwGSVLCYJAkJYoEw3zg\n",
       "JeBN4A3gq7F/BvAC8DbwPDA9t88mQjW2fmBlrr9ewe04sC3X3wXsJavgtrDk55AkVWgWcGNsXwv8\n",
       "DPgEsBV4MPZvBB6O7XrN5ymEEp0DZDWfXwWWxvbwms87Ynsd1nyWpPFSSWnP/cAfEa4G6nWeZ8XX\n",
       "EK4WNua2fw5YDswG3sr1rwcey22zLLY7gfca/F6DQZLKa3ppz27gJuAwIRSGYv8QWUjMAQZz+wwC\n",
       "cxv012I/8flkbJ8HzhFuVUmSKlYmGK4FngbuA3417L2LVHS5Iklqrs6C200hhMKThFtJEK4SZgGn\n",
       "CbeJzsT+GmHCum4e4UqhFtvD++v7LABOxTFNA842GMcKoDe2++JDkpTpiY+m6gB2A48O699KNpfw\n",
       "EJdOPk8FFgEnyCafDxPmEjq4dPJ5Z2yvx8lnSRovTbmbcwtwgXCyPxIfqwlzAIdovFx1M2E1Uj+w\n",
       "KtdfX646AGzP9XcB+8iWq3Y3GIfBIEnlTerb/AaDJJXX9FVJkqRJzmCQJCUMBklSwmCQJCUMBklS\n",
       "wmCQJCUMBklSwmCQJCUMBklSwmCQJCUMBklSwmCQJCUMBklSwmCQJCUMBklSwmCQJCWKBMN3CPWd\n",
       "j+X6egn1musV3W7LvbeJUImtH1iZ669XbzsObMv1dwF7yaq3LSzzASRJ1fsccBNpMGwB7m+wbb3e\n",
       "8xRCec4BsnrPrwJLY3t4vecdsb2OxvWewQpukjQWTang9iPglw36Oxr0rQX2AB8A7xCCYRkwG7iO\n",
       "EA4Au4E7YnsNsCu2nwZuLTAmSVKTXM4cw73AUeAJYHrsm0O4xVQ3CMxt0F+L/cTnk7F9HjgHzLiM\n",
       "cUmSLkPnGPfbCXw9tr8BPALcPS4j+nArCPMbAH3xIUnK9MTHmI01GM7k2o8Dz8Z2DZife28e4Uqh\n",
       "FtvD++v7LABOxfFMA86O8HtfJgsGSdKl+kj/aN5S9geM9VbS7Fz7S2QT0weA9cBUYBGwmDCvcBp4\n",
       "nzDf0AHcBTyT22dDbN8JvDjGMUmSKrKH8Nf8rwlzAV8mTB6/Tphj2A/MzG2/mTDp3A+syvXXl6sO\n",
       "ANtz/V3APrLlqt0jjMNVSZJUXulVSROJwSBJ5TVluaok6QpiMEiSEgaDJClhMEiSEgaDJClhMEiS\n",
       "EgaDJClhMEiSEgaDJClhMEiSEgaDJClhMEiSEgaDJClhMEiSEgaDJClhMEiSEkWC4TvAEFn5ToAZ\n",
       "wAvA28DzwPTce5sI1dj6gZW5/noFt+PAtlx/F7CXrILbwlKfQJJUuc8BN5EGw1bgwdjeCDwc20uA\n",
       "14AphBKdA4QazxBqPy+N7YPA6ti+B9gR2+uAp0YYhxXcJKm8ppX27CYNhn6yOs+z4msIVwsbc9s9\n",
       "BywHZgNv5frXA4/ltlkW253AeyOMwWCQpPIqK+05k3B7ifhcD4k5wGBuu0FgboP+WuwnPp+M7fPA\n",
       "OcKtKklSC3SOw8+4SBMvVYZZAfTGdl98SJIyPfExZmMNhiHCLaTThNtEZ2J/DZif224e4UqhFtvD\n",
       "++v7LABOxfFMA86O8HtfJgsGSdKl+kj/aN5S9geM9VbSAWBDbG8A9uf61wNTgUXAYsKk82ngfcJc\n",
       "QgdwF/BMg591J/DiGMckSarIHsJf878mzAX8JWEO4BCNl6tuJqxG6gdW5frry1UHgO25/i5gH9ly\n",
       "1e4RxuHksySVV9Wt/pYwGCSpvMpWJUmSJimDQZKUMBgkSQmDQZKUMBgkSQmDQZKUMBgkSQmDQZKU\n",
       "MBgkSQmDQZKUMBgkSQmDQZKUMBgkSQmDQZKUMBgkSQmDQZKUuNxgeAd4HThCKOEJobrbCzSu7raJ\n",
       "UKmtH1iZ669XdzsObLvMMUmSWujnhCDI2wo8GNsbgYdjewnwGjCFUL5zgFD/GUKoLI3tg8DqBr/L\n",
       "Cm6SVF5LKrh1DHu9BtgV27uAO2J7LaF+9AeEK40BYBkwG7iO7Ipjd24fSVLFLjcYLgKHgB8DfxX7\n",
       "ZgJDsT0UXwPMAQZz+w4Ccxv012K/JKkFOi9z/88C7wK/SZhX6B/2/kXGcBnzIVYAvbHdFx+SpExP\n",
       "fIzZ5QbDu/H5PeBfCPMEQ8As4DThNtGZuE0NmJ/bdx7hSqEW2/n+2gi/72WyYJAkXaqP9I/mLWV/\n",
       "wOXcSrqGMDcA8BuEVUbHgAPAhti/Adgf2weA9cBUYBGwmDCvcBp4nzDf0AHcldtHkjSBLCKsMnoN\n",
       "eIOwFBXCKqVDNF6uupkw6dwPrMr115erDgDbR/h9rkqSpPLG83Z+2zEYJKm8lixXlSRNIgaDJClh\n",
       "MEiSEgaDJClhMEiSEgaDJClhMEiSEgaDJClhMEiSEgaDJE1ane+PZS+DQZImrfPXjb7NpQwGSVLC\n",
       "YJAkJQwGSVLCYJAkJdopGFYTCvgcBza2eCySpBa7ilC9rRuYQqgK94lh21ioJ9PT6gG0kZ5WD6CN\n",
       "9LR6AG2kp9UDaBMXmcCFepYSguEd4APgKWBtKwfU5npaPYA20tPqAbSRnlYPoI30tHoAE1m7BMNc\n",
       "4GTu9WDskyRVrF2CoeilzoWmjkKSREerBxAtB3oJE9AAmwgh8K3cNgPAx6odliRNeCeAj7d6EGPR\n",
       "SRh8NzCVxpPPkqQrzG3AzwhXBptaPBZJkiRJ7arIF922x/ePAjdVNK5WGO1Y/BnhGLwO/Afwu9UN\n",
       "rVJFv/z4B8B54I+rGFSLFDkWPcAR4A2gr5JRtcZox+IG4DnCrek3gL+obGTV+w4wBBz7kG0m7Hmz\n",
       "yBfdbgcOxvYy4JWqBlexIsfiD4Fpsb2ayXksihyH+nb/Bvwr8CdVDa5iRY7FdOBNYF58fUNVg6tY\n",
       "kWPRC3wztm8AfkGYz5yMPkc42Y8UDKXOm+2yXLWuyBfd1gC7Yvsw4R/CzIrGV6Uix+I/gXOxfZjs\n",
       "ZDCZFP3y473A94H3KhtZ9Yociz8FniZ8Fwjgv6saXMWKHIt3getj+3pCMJyvaHxV+xHwyw95v9R5\n",
       "s92CocgX3RptMxlPiGW/9Hc32V8Ek0nR/ybWAjvj69L/C4AJosixWAzMAF4CfgzcVc3QKlfkWHwb\n",
       "+CRwinD75L5qhtaWSp032+2yqug/6OHfv5iMJ4Iyn+nzwJeBzzZpLK1U5Dj8PfBQ3LaD9vl+zngr\n",
       "ciymAL8H3ApcQ7iqfIVwb3kyKXIsNhNuMfUQvgP1AvBp4FfNG1ZbK3zebLdgqAHzc6/nk10Sj7TN\n",
       "vNg32RQ5FhAmnL9NmGP4sEvJiarIcbiZcCsBwr3k2wi3Fw40fXTVKnIsThJuH/1ffPw74WQ42YKh\n",
       "yLH4DPC3sX0C+Dnw24QrqSvNhD5vFvmiW34SZTmTc8IVih2LBYT7rMsrHVm1yn758R+ZvKuSihyL\n",
       "3wEOESZnryFMRi6pboiVKXIs/g7YEtszCcExo6LxtUI3xSafJ+R5s9EX3b4SH3X/EN8/SrhsnqxG\n",
       "OxaPEybUjsTHq1UPsCJF/puom8zBAMWOxV8TViYdA75a6eiqNdqxuAF4lnCeOEaYmJ+s9hDmUn5N\n",
       "uGr8MlfueVOSJEmSJEmSJEmSJEmSJEmSJEmSNFH9P9nULRfI0GXBAAAAAElFTkSuQmCC\n"
      ],
      "text/plain": [
<<<<<<< HEAD
       "<matplotlib.figure.Figure at 0x10ba9f150>"
=======
       "<matplotlib.figure.Figure at 0x100576110>"
>>>>>>> 5fa35abd20ec79846d3a7852f92314ad9f69355e
      ]
     },
     "metadata": {},
     "output_type": "display_data"
    }
   ],
   "source": [
    "recs = data['Rec'].values\n",
    "recs = np.nan_to_num(recs)\n",
    "plt.hist(recs, bins=300)\n"
   ]
  },
  {
   "cell_type": "code",
<<<<<<< HEAD
   "execution_count": 26,
=======
   "execution_count": 55,
   "metadata": {
    "collapsed": true
   },
   "outputs": [],
   "source": [
    "columns = ['EditorPick', 'Sentiment_sent', 'Subjectivity_sent', 'word_count', 'Rec']\n",
    "reg = data[columns]  "
   ]
  },
  {
   "cell_type": "code",
   "execution_count": 57,
>>>>>>> 5fa35abd20ec79846d3a7852f92314ad9f69355e
   "metadata": {
    "collapsed": false
   },
   "outputs": [],
   "source": [
    "X = reg.drop('Rec', axis = 1).values\n",
    "X = np.nan_to_num(X)\n",
    "y = reg['Rec'].values"
   ]
  },
  {
   "cell_type": "code",
<<<<<<< HEAD
   "execution_count": 27,
=======
   "execution_count": 58,
>>>>>>> 5fa35abd20ec79846d3a7852f92314ad9f69355e
   "metadata": {
    "collapsed": false
   },
   "outputs": [],
   "source": [
    "X_train, X_test, y_train, y_test = cross_validation.train_test_split(X, y, test_size=0.3)"
   ]
  },
  {
   "cell_type": "code",
<<<<<<< HEAD
   "execution_count": 30,
=======
   "execution_count": 59,
   "metadata": {
    "collapsed": false
   },
   "outputs": [
    {
     "data": {
      "text/plain": [
       "0.58225765088049242"
      ]
     },
     "execution_count": 59,
     "metadata": {},
     "output_type": "execute_result"
    }
   ],
   "source": [
    "rf = RandomForestClassifier(n_estimators=100, oob_score=True, n_jobs=-1)\n",
    "# rf.fit(X_train, y_train)\n",
    "# y_pred = rf.predict(X_test)\n",
    "# print 'Accuracy: %f'%(metrics.accuracy_score(y_test, y_pred))\n",
    "rf.fit(X, y)\n",
    "rf.oob_score_"
   ]
  },
  {
   "cell_type": "code",
   "execution_count": 83,
>>>>>>> 5fa35abd20ec79846d3a7852f92314ad9f69355e
   "metadata": {
    "collapsed": false
   },
   "outputs": [
    {
     "name": "stdout",
     "output_type": "stream",
     "text": [
<<<<<<< HEAD
      "Recall: 0.530558\n",
      "Precision: 0.820548\n"
=======
      "<class 'pandas.core.frame.DataFrame'>\n",
      "Int64Index: 140376 entries, 0 to 140375\n",
      "Data columns (total 18 columns):\n",
      "Unnamed: 0             140376 non-null int64\n",
      "Comment                140371 non-null object\n",
      "URL                    140371 non-null object\n",
      "Recommendations        140371 non-null float64\n",
      "Locations              140368 non-null object\n",
      "EditorPick             140376 non-null int64\n",
      "userID                 140371 non-null float64\n",
      "date                   140368 non-null float64\n",
      "Sentiment              140376 non-null float64\n",
      "Sentiment_sent         140376 non-null float64\n",
      "Sentiment_b            140376 non-null int64\n",
      "Sentiment_b_sent       140376 non-null int64\n",
      "Subjectivity           140376 non-null float64\n",
      "Subjectivity_sent      140376 non-null float64\n",
      "Subjectivity_b         140376 non-null int64\n",
      "Subjectivity_b_sent    140376 non-null int64\n",
      "State                  72003 non-null object\n",
      "City                   112594 non-null object\n",
      "dtypes: float64(7), int64(6), object(5)\n",
      "memory usage: 20.3+ MB\n"
>>>>>>> 5fa35abd20ec79846d3a7852f92314ad9f69355e
     ]
    }
   ],
   "source": [
<<<<<<< HEAD
    "rf = RandomForestClassifier(n_estimators=100, n_jobs=-1)\n",
    "y_pred = rf.fit(X_train, y_train).predict(X_test)\n",
    "\n",
    "print 'Recall: %f'%(metrics.recall_score(y_test, y_pred))\n",
    "print 'Precision: %f'%(metrics.precision_score(y_test, y_pred))"
=======
    "data.info()"
   ]
  },
  {
   "cell_type": "code",
   "execution_count": 66,
   "metadata": {
    "collapsed": false
   },
   "outputs": [
    {
     "data": {
      "text/plain": [
       "array([  0.00000000e+00,   1.00000000e+00,              nan,\n",
       "         4.12978320e+07,   1.67200350e+07,   5.27258820e+07])"
      ]
     },
     "execution_count": 66,
     "metadata": {},
     "output_type": "execute_result"
    }
   ],
   "source": [
    "reg['EditorPick'].unique()"
>>>>>>> 5fa35abd20ec79846d3a7852f92314ad9f69355e
   ]
  },
  {
   "cell_type": "code",
   "execution_count": 21,
   "metadata": {
    "collapsed": false
   },
   "outputs": [
    {
     "name": "stdout",
     "output_type": "stream",
     "text": [
      "Recall: 0.000000\n",
      "Precision: 0.000000\n"
     ]
    }
   ],
   "source": [
    "from sklearn.svm import SVC\n",
    "from sklearn.ensemble import RandomForestClassifier, AdaBoostClassifier, GradientBoostingClassifier\n",
    "\n",
    "svc_linear = SVC()\n",
    "y_pred = svc_linear.fit(X_train, y_train).predict(X_test)\n",
    "\n",
    "print 'Recall: %f'%(metrics.recall_score(y_test, y_pred))\n",
    "print 'Precision: %f'%(metrics.precision_score(y_test, y_pred))"
   ]
  },
  {
   "cell_type": "code",
   "execution_count": 20,
   "metadata": {
    "collapsed": false
   },
   "outputs": [],
   "source": [
    "commentOnly = data[['Comment', 'Rec']]"
   ]
  },
  {
   "cell_type": "code",
   "execution_count": 21,
   "metadata": {
    "collapsed": true
   },
   "outputs": [],
   "source": [
    "X = commentOnly['Comment']\n",
    "y = commentOnly['Rec'].values\n",
    "X_train, X_test, y_train, y_test = cross_validation.train_test_split(X, y, test_size=0.3)"
   ]
  },
  {
   "cell_type": "code",
   "execution_count": 22,
   "metadata": {
    "collapsed": false
   },
   "outputs": [],
   "source": [
    "vectorizer = TfidfVectorizer(stop_words = 'english')\n",
    "\n",
    "vectorized_X_train  = vectorizer.fit_transform(X_train)\n",
    "vectorized_X_test = vectorizer.transform(X_test)"
   ]
  },
  {
   "cell_type": "code",
   "execution_count": 24,
   "metadata": {
    "collapsed": false
   },
   "outputs": [
    {
     "name": "stdout",
     "output_type": "stream",
     "text": [
      "Accuracy: 0.544749\n"
     ]
    }
   ],
   "source": [
    "rf = RandomForestClassifier(n_estimators = 10)\n",
    "rf.fit(vectorized_X_train, y_train)\n",
    "\n",
    "y_pred = rf.predict(vectorized_X_test)\n",
    "print 'Accuracy: %f'%(metrics.accuracy_score(y_test, y_pred))"
   ]
  },
  {
   "cell_type": "markdown",
   "metadata": {},
   "source": [
    "### Multi-Class prediction on comments belonging to candidates"
   ]
  },
  {
   "cell_type": "code",
   "execution_count": 50,
   "metadata": {
    "collapsed": false
   },
   "outputs": [
    {
     "name": "stdout",
     "output_type": "stream",
     "text": [
      "Accuracy: 0.193907\n"
     ]
    }
   ],
   "source": [
    "from sklearn.naive_bayes import MultinomialNB\n",
    "clf = MultinomialNB()\n",
    "clf.fit(vectorized_X_train, y_train)\n",
    "\n",
    "MultinomialNB(alpha=1.0, class_prior=None, fit_prior=True)\n",
    "\n",
    "y_pred = clf.predict(vectorized_X_test)\n",
    "\n",
    "print 'Accuracy: %f'%(metrics.accuracy_score(y_test, y_pred))"
   ]
  },
  {
   "cell_type": "code",
<<<<<<< HEAD
   "execution_count": 45,
   "metadata": {
    "collapsed": true
   },
   "outputs": [],
   "source": [
    "X = reg.drop('Candidate', axis = 1).values\n",
    "X = np.nan_to_num(X)\n",
    "y = reg['Candidate'].values"
   ]
  },
  {
   "cell_type": "code",
   "execution_count": 20,
   "metadata": {
    "collapsed": false
   },
   "outputs": [],
   "source": [
    "X_train, X_test, y_train, y_test = cross_validation.train_test_split(X, y, test_size=0.3)"
   ]
  },
  {
   "cell_type": "code",
   "execution_count": 64,
   "metadata": {
    "collapsed": false
   },
   "outputs": [],
   "source": [
    "weights = dict()\n",
    "for i in range(6):\n",
    "    weights[i] = x[i]/float(x.sum())"
   ]
  },
  {
   "cell_type": "code",
   "execution_count": null,
=======
   "execution_count": 51,
>>>>>>> 5fa35abd20ec79846d3a7852f92314ad9f69355e
   "metadata": {
    "collapsed": false
   },
   "outputs": [
    {
     "name": "stdout",
     "output_type": "stream",
     "text": [
      "Accuracy: 0.183293\n"
     ]
    }
   ],
   "source": [
    "from sklearn.multiclass import OneVsRestClassifier\n",
<<<<<<< HEAD
    "base_clf = RandomForestClassifier(n_estimators=100, n_jobs=-1, class_weight = weights)\n",
    "ovr = OneVsRestClassifier(estimator=base_clf, n_jobs=-1)\n",
    "y_pred = ovr.fit(X_train, y_train).predict(X_test)\n",
    "\n",
    "print 'Accuracy: %f'%(metrics.accuracy_score(y_test, y_pred))\n",
    "print 'Recall: %f'%(metrics.recall_score(y_test, y_pred))\n",
    "print 'Precision: %f'%(metrics.precision_score(y_test, y_pred))"
=======
    "from sklearn.svm import LinearSVC\n",
    "y_pred = OneVsRestClassifier(LinearSVC(random_state=0)).fit(vectorized_X_train, y_train).predict(vectorized_X_test)\n",
    "print 'Accuracy: %f'%(metrics.accuracy_score(y_test, y_pred))"
   ]
  },
  {
   "cell_type": "code",
   "execution_count": 54,
   "metadata": {
    "collapsed": false
   },
   "outputs": [
    {
     "ename": "AttributeError",
     "evalue": "'numpy.ndarray' object has no attribute 'lower'",
     "output_type": "error",
     "traceback": [
      "\u001b[0;31m---------------------------------------------------------------------------\u001b[0m",
      "\u001b[0;31mAttributeError\u001b[0m                            Traceback (most recent call last)",
      "\u001b[0;32m<ipython-input-54-6e9bb59432f9>\u001b[0m in \u001b[0;36m<module>\u001b[0;34m()\u001b[0m\n\u001b[1;32m      1\u001b[0m \u001b[0mvectorizer\u001b[0m \u001b[0;34m=\u001b[0m \u001b[0mCountVectorizer\u001b[0m\u001b[0;34m(\u001b[0m\u001b[0mstop_words\u001b[0m \u001b[0;34m=\u001b[0m \u001b[0;34m'english'\u001b[0m\u001b[0;34m)\u001b[0m\u001b[0;34m\u001b[0m\u001b[0m\n\u001b[0;32m----> 2\u001b[0;31m \u001b[0mtrain_data_features\u001b[0m \u001b[0;34m=\u001b[0m \u001b[0mvectorizer\u001b[0m\u001b[0;34m.\u001b[0m\u001b[0mfit_transform\u001b[0m\u001b[0;34m(\u001b[0m\u001b[0mX_train\u001b[0m\u001b[0;34m)\u001b[0m\u001b[0;34m\u001b[0m\u001b[0m\n\u001b[0m\u001b[1;32m      3\u001b[0m \u001b[0mtrain_data_features\u001b[0m \u001b[0;34m=\u001b[0m \u001b[0mtrain_data_features\u001b[0m\u001b[0;34m.\u001b[0m\u001b[0mtoarray\u001b[0m\u001b[0;34m(\u001b[0m\u001b[0;34m)\u001b[0m\u001b[0;34m\u001b[0m\u001b[0m\n\u001b[1;32m      4\u001b[0m \u001b[0;34m\u001b[0m\u001b[0m\n\u001b[1;32m      5\u001b[0m \u001b[0mtest_data_features\u001b[0m \u001b[0;34m=\u001b[0m \u001b[0mvectorizer\u001b[0m\u001b[0;34m.\u001b[0m\u001b[0mfit_transform\u001b[0m\u001b[0;34m(\u001b[0m\u001b[0mX_test\u001b[0m\u001b[0;34m)\u001b[0m\u001b[0;34m\u001b[0m\u001b[0m\n",
      "\u001b[0;32m/Users/datascientist/anaconda/lib/python2.7/site-packages/sklearn/feature_extraction/text.pyc\u001b[0m in \u001b[0;36mfit_transform\u001b[0;34m(self, raw_documents, y)\u001b[0m\n\u001b[1;32m    802\u001b[0m \u001b[0;34m\u001b[0m\u001b[0m\n\u001b[1;32m    803\u001b[0m         vocabulary, X = self._count_vocab(raw_documents,\n\u001b[0;32m--> 804\u001b[0;31m                                           self.fixed_vocabulary_)\n\u001b[0m\u001b[1;32m    805\u001b[0m \u001b[0;34m\u001b[0m\u001b[0m\n\u001b[1;32m    806\u001b[0m         \u001b[0;32mif\u001b[0m \u001b[0mself\u001b[0m\u001b[0;34m.\u001b[0m\u001b[0mbinary\u001b[0m\u001b[0;34m:\u001b[0m\u001b[0;34m\u001b[0m\u001b[0m\n",
      "\u001b[0;32m/Users/datascientist/anaconda/lib/python2.7/site-packages/sklearn/feature_extraction/text.pyc\u001b[0m in \u001b[0;36m_count_vocab\u001b[0;34m(self, raw_documents, fixed_vocab)\u001b[0m\n\u001b[1;32m    737\u001b[0m         \u001b[0mindptr\u001b[0m\u001b[0;34m.\u001b[0m\u001b[0mappend\u001b[0m\u001b[0;34m(\u001b[0m\u001b[0;36m0\u001b[0m\u001b[0;34m)\u001b[0m\u001b[0;34m\u001b[0m\u001b[0m\n\u001b[1;32m    738\u001b[0m         \u001b[0;32mfor\u001b[0m \u001b[0mdoc\u001b[0m \u001b[0;32min\u001b[0m \u001b[0mraw_documents\u001b[0m\u001b[0;34m:\u001b[0m\u001b[0;34m\u001b[0m\u001b[0m\n\u001b[0;32m--> 739\u001b[0;31m             \u001b[0;32mfor\u001b[0m \u001b[0mfeature\u001b[0m \u001b[0;32min\u001b[0m \u001b[0manalyze\u001b[0m\u001b[0;34m(\u001b[0m\u001b[0mdoc\u001b[0m\u001b[0;34m)\u001b[0m\u001b[0;34m:\u001b[0m\u001b[0;34m\u001b[0m\u001b[0m\n\u001b[0m\u001b[1;32m    740\u001b[0m                 \u001b[0;32mtry\u001b[0m\u001b[0;34m:\u001b[0m\u001b[0;34m\u001b[0m\u001b[0m\n\u001b[1;32m    741\u001b[0m                     \u001b[0mj_indices\u001b[0m\u001b[0;34m.\u001b[0m\u001b[0mappend\u001b[0m\u001b[0;34m(\u001b[0m\u001b[0mvocabulary\u001b[0m\u001b[0;34m[\u001b[0m\u001b[0mfeature\u001b[0m\u001b[0;34m]\u001b[0m\u001b[0;34m)\u001b[0m\u001b[0;34m\u001b[0m\u001b[0m\n",
      "\u001b[0;32m/Users/datascientist/anaconda/lib/python2.7/site-packages/sklearn/feature_extraction/text.pyc\u001b[0m in \u001b[0;36m<lambda>\u001b[0;34m(doc)\u001b[0m\n\u001b[1;32m    234\u001b[0m \u001b[0;34m\u001b[0m\u001b[0m\n\u001b[1;32m    235\u001b[0m             return lambda doc: self._word_ngrams(\n\u001b[0;32m--> 236\u001b[0;31m                 tokenize(preprocess(self.decode(doc))), stop_words)\n\u001b[0m\u001b[1;32m    237\u001b[0m \u001b[0;34m\u001b[0m\u001b[0m\n\u001b[1;32m    238\u001b[0m         \u001b[0;32melse\u001b[0m\u001b[0;34m:\u001b[0m\u001b[0;34m\u001b[0m\u001b[0m\n",
      "\u001b[0;32m/Users/datascientist/anaconda/lib/python2.7/site-packages/sklearn/feature_extraction/text.pyc\u001b[0m in \u001b[0;36m<lambda>\u001b[0;34m(x)\u001b[0m\n\u001b[1;32m    200\u001b[0m \u001b[0;34m\u001b[0m\u001b[0m\n\u001b[1;32m    201\u001b[0m         \u001b[0;32mif\u001b[0m \u001b[0mself\u001b[0m\u001b[0;34m.\u001b[0m\u001b[0mlowercase\u001b[0m\u001b[0;34m:\u001b[0m\u001b[0;34m\u001b[0m\u001b[0m\n\u001b[0;32m--> 202\u001b[0;31m             \u001b[0;32mreturn\u001b[0m \u001b[0;32mlambda\u001b[0m \u001b[0mx\u001b[0m\u001b[0;34m:\u001b[0m \u001b[0mstrip_accents\u001b[0m\u001b[0;34m(\u001b[0m\u001b[0mx\u001b[0m\u001b[0;34m.\u001b[0m\u001b[0mlower\u001b[0m\u001b[0;34m(\u001b[0m\u001b[0;34m)\u001b[0m\u001b[0;34m)\u001b[0m\u001b[0;34m\u001b[0m\u001b[0m\n\u001b[0m\u001b[1;32m    203\u001b[0m         \u001b[0;32melse\u001b[0m\u001b[0;34m:\u001b[0m\u001b[0;34m\u001b[0m\u001b[0m\n\u001b[1;32m    204\u001b[0m             \u001b[0;32mreturn\u001b[0m \u001b[0mstrip_accents\u001b[0m\u001b[0;34m\u001b[0m\u001b[0m\n",
      "\u001b[0;31mAttributeError\u001b[0m: 'numpy.ndarray' object has no attribute 'lower'"
     ]
    }
   ],
   "source": [
    "vectorizer = CountVectorizer(stop_words = 'english')\n",
    "train_data_features = vectorizer.fit_transform(X_train)\n",
    "train_data_features = train_data_features.toarray()\n",
    "\n",
    "test_data_features = vectorizer.fit_transform(X_test)\n",
    "test_data_features = test_data_features.toarray()\n",
    "\n",
    "y_pred = OneVsRestClassifier(LinearSVC(random_state=0)).fit(vectorized_X_train, y_train).predict(vectorized_X_test)\n",
    "print 'Accuracy: %f'%(metrics.accuracy_score(y_test, y_pred))"
>>>>>>> 5fa35abd20ec79846d3a7852f92314ad9f69355e
   ]
  },
  {
   "cell_type": "code",
   "execution_count": 34,
   "metadata": {
    "collapsed": false
   },
   "outputs": [],
   "source": [
    "x = reg['Candidate'].value_counts()"
   ]
  },
  {
   "cell_type": "code",
   "execution_count": 99,
   "metadata": {
    "collapsed": false
   },
   "outputs": [
    {
     "data": {
      "text/plain": [
       "88191"
      ]
     },
     "execution_count": 99,
     "metadata": {},
     "output_type": "execute_result"
    }
   ],
   "source": [
    "data_drop = data.drop_duplicates('Comment')\n",
    "len(data_drop)"
   ]
  },
  {
   "cell_type": "code",
   "execution_count": 65,
   "metadata": {
    "collapsed": false
   },
   "outputs": [
    {
     "data": {
      "text/plain": [
       "{0: 0.027510801516621108,\n",
       " 1: 0.15075831055462482,\n",
       " 2: 0.14046380389736354,\n",
       " 3: 0.28143461775857509,\n",
       " 4: 0.14238162419539724,\n",
       " 5: 0.2574508420774182}"
      ]
     },
     "execution_count": 65,
     "metadata": {},
     "output_type": "execute_result"
    }
   ],
   "source": [
    "weights"
   ]
  },
  {
   "cell_type": "code",
   "execution_count": null,
   "metadata": {
    "collapsed": true
   },
   "outputs": [],
   "source": []
  }
 ],
 "metadata": {
  "kernelspec": {
   "display_name": "Python 2",
   "language": "python",
   "name": "python2"
  },
  "language_info": {
   "codemirror_mode": {
    "name": "ipython",
    "version": 2
   },
   "file_extension": ".py",
   "mimetype": "text/x-python",
   "name": "python",
   "nbconvert_exporter": "python",
   "pygments_lexer": "ipython2",
   "version": "2.7.10"
  }
 },
 "nbformat": 4,
 "nbformat_minor": 0
}
